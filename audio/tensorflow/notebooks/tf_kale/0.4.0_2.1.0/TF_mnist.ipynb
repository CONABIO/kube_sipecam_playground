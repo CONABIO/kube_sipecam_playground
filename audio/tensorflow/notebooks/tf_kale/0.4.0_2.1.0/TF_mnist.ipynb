{
 "cells": [
  {
   "cell_type": "code",
   "execution_count": 1,
   "metadata": {},
   "outputs": [],
   "source": [
    "from __future__ import absolute_import\n",
    "from __future__ import division\n",
    "from __future__ import print_function\n",
    "from __future__ import unicode_literals\n",
    "from collections import namedtuple\n",
    "import timeit\n",
    "\n",
    "import tensorflow as tf\n",
    "from tensorflow import keras"
   ]
  },
  {
   "cell_type": "code",
   "execution_count": 2,
   "metadata": {},
   "outputs": [],
   "source": [
    "EPOCHS = 1\n",
    "TRAIN_REPETITIONS = 10\n",
    "EVALUATION_REPETITIONS = 10\n",
    "PREDICTION_REPETITIONS = 10\n",
    "Examples = namedtuple('Examples', 'images labels')\n",
    "Data = namedtuple('Data', 'train test')"
   ]
  },
  {
   "cell_type": "code",
   "execution_count": 3,
   "metadata": {},
   "outputs": [],
   "source": [
    "def main():\n",
    "    data = get_data()\n",
    "    model = build_model()\n",
    "\n",
    "    train_samples = len(data.train.images)\n",
    "    test_samples = len(data.test.images)\n",
    "\n",
    "    g = globals()\n",
    "    g['data'] = data\n",
    "    g['model'] = model\n",
    "\n",
    "    print('== TRAINING ==')\n",
    "    train_time = timeit.timeit(\n",
    "        'train_model(model, data)',\n",
    "        globals=g,\n",
    "        number=TRAIN_REPETITIONS)\n",
    "    train_time_per_epoch = train_time / (EPOCHS * TRAIN_REPETITIONS)\n",
    "    train_time_per_sample = train_time_per_epoch / train_samples\n",
    "    print(f'Time per epoch estimate: {train_time_per_epoch}')\n",
    "    print(f'Time per sample estimate: {train_time_per_sample}')\n",
    "\n",
    "    print('== EVALUATING ==')\n",
    "    evaluate_time = timeit.timeit(\n",
    "        'evaluate_model(model, data)',\n",
    "        globals=g,\n",
    "        number=EVALUATION_REPETITIONS)\n",
    "    evaluation_time_per_epoch = evaluate_time / EVALUATION_REPETITIONS\n",
    "    evaluation_time_per_sample = evaluation_time_per_epoch / test_samples\n",
    "    print(f'Time per epoch estimate: {evaluation_time_per_epoch}')\n",
    "    print(f'Time per sample estimate: {evaluation_time_per_sample}')\n",
    "\n",
    "    print('== PREDICTING ==')\n",
    "    prediction_time = timeit.timeit(\n",
    "        'make_predictions(model, data)',\n",
    "        globals=g,\n",
    "        number=PREDICTION_REPETITIONS)\n",
    "    prediction_time_per_epoch = prediction_time / PREDICTION_REPETITIONS\n",
    "    prediction_time_per_sample = prediction_time_per_epoch / test_samples\n",
    "    print(f'Time per epoch estimate: {prediction_time_per_epoch}')\n",
    "    print(f'Time per sample estimate: {prediction_time_per_sample}')\n"
   ]
  },
  {
   "cell_type": "code",
   "execution_count": 4,
   "metadata": {},
   "outputs": [],
   "source": [
    "def build_model():\n",
    "    model = keras.Sequential([\n",
    "        keras.layers.Flatten(input_shape=(28, 28)),\n",
    "        keras.layers.Dense(128, activation='relu'),\n",
    "        keras.layers.Dense(10)\n",
    "    ])\n",
    "    model.compile(\n",
    "        optimizer='adam',\n",
    "        loss=tf.keras.losses.SparseCategoricalCrossentropy(from_logits=True),\n",
    "        metrics=['accuracy'])\n",
    "    return model"
   ]
  },
  {
   "cell_type": "code",
   "execution_count": 5,
   "metadata": {},
   "outputs": [],
   "source": [
    "def get_data():\n",
    "    fashion_mnist = keras.datasets.fashion_mnist\n",
    "    train, test = fashion_mnist.load_data()\n",
    "    train_images, train_labels = train\n",
    "    test_images, test_labels = test\n",
    "    train_images = train_images / 255.0\n",
    "    test_images = test_images / 255.0\n",
    "    return Data(\n",
    "        train=Examples(images=train_images, labels=train_labels),\n",
    "        test=Examples(images=test_images, labels=test_labels))\n"
   ]
  },
  {
   "cell_type": "code",
   "execution_count": 6,
   "metadata": {},
   "outputs": [],
   "source": [
    "def train_model(model, data):\n",
    "    model.fit(\n",
    "        data.train.images,\n",
    "        data.train.labels,\n",
    "        epochs=EPOCHS,\n",
    "        verbose=0)"
   ]
  },
  {
   "cell_type": "code",
   "execution_count": 7,
   "metadata": {},
   "outputs": [],
   "source": [
    "def evaluate_model(model, data):\n",
    "    model.evaluate(\n",
    "        data.test.images,\n",
    "        data.test.labels,\n",
    "        verbose=0)"
   ]
  },
  {
   "cell_type": "code",
   "execution_count": 8,
   "metadata": {},
   "outputs": [],
   "source": [
    "def make_predictions(model, data):\n",
    "    probability_model = tf.keras.Sequential([\n",
    "        model,\n",
    "        tf.keras.layers.Softmax()])\n",
    "    probability_model.predict(data.test.images)\n"
   ]
  },
  {
   "cell_type": "code",
   "execution_count": 9,
   "metadata": {},
   "outputs": [
    {
     "name": "stdout",
     "output_type": "stream",
     "text": [
      "Downloading data from https://storage.googleapis.com/tensorflow/tf-keras-datasets/train-labels-idx1-ubyte.gz\n",
      "32768/29515 [=================================] - 0s 1us/step\n",
      "Downloading data from https://storage.googleapis.com/tensorflow/tf-keras-datasets/train-images-idx3-ubyte.gz\n",
      "26427392/26421880 [==============================] - 0s 0us/step\n",
      "Downloading data from https://storage.googleapis.com/tensorflow/tf-keras-datasets/t10k-labels-idx1-ubyte.gz\n",
      "8192/5148 [===============================================] - 0s 0us/step\n",
      "Downloading data from https://storage.googleapis.com/tensorflow/tf-keras-datasets/t10k-images-idx3-ubyte.gz\n",
      "4423680/4422102 [==============================] - 0s 0us/step\n",
      "== TRAINING ==\n",
      "Time per epoch estimate: 7.550293586399993\n",
      "Time per sample estimate: 0.00012583822643999989\n",
      "== EVALUATING ==\n",
      "Time per epoch estimate: 0.7031205795000005\n",
      "Time per sample estimate: 7.031205795000005e-05\n",
      "== PREDICTING ==\n",
      "Time per epoch estimate: 0.6618956165999862\n",
      "Time per sample estimate: 6.618956165999862e-05\n"
     ]
    }
   ],
   "source": [
    "if __name__ == '__main__':\n",
    "    main()"
   ]
  },
  {
   "cell_type": "code",
   "execution_count": null,
   "metadata": {},
   "outputs": [],
   "source": []
  }
 ],
 "metadata": {
  "kernelspec": {
   "display_name": "Python 3",
   "language": "python",
   "name": "python3"
  },
  "kubeflow_notebook": {
   "docker_image": "",
   "experiment": {
    "id": "",
    "name": ""
   },
   "experiment_name": "",
   "pipeline_description": "",
   "pipeline_name": "",
   "volumes": []
  },
  "language_info": {
   "codemirror_mode": {
    "name": "ipython",
    "version": 3
   },
   "file_extension": ".py",
   "mimetype": "text/x-python",
   "name": "python",
   "nbconvert_exporter": "python",
   "pygments_lexer": "ipython3",
   "version": "3.6.9"
  }
 },
 "nbformat": 4,
 "nbformat_minor": 4
}
