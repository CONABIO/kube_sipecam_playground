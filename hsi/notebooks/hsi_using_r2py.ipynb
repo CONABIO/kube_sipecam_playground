{
 "cells": [
  {
   "cell_type": "code",
   "execution_count": 1,
   "metadata": {
    "tags": [
     "imports"
    ]
   },
   "outputs": [],
   "source": [
    "import os\n",
    "from IPython import get_ipython\n",
    "ipython = get_ipython()"
   ]
  },
  {
   "cell_type": "code",
   "execution_count": 2,
   "metadata": {
    "tags": [
     "block:loadlibraries"
    ]
   },
   "outputs": [
    {
     "name": "stderr",
     "output_type": "stream",
     "text": [
      "R[write to console]: Loading required package: sp\n",
      "\n",
      "R[write to console]: rgdal: version: 1.5-16, (SVN revision 1050)\n",
      "Geospatial Data Abstraction Library extensions to R successfully loaded\n",
      "Loaded GDAL runtime: GDAL 3.0.4, released 2020/01/28\n",
      "Path to GDAL shared files: /usr/share/gdal\n",
      "GDAL binary built with GEOS: TRUE \n",
      "Loaded PROJ runtime: Rel. 6.3.1, February 10th, 2020, [PJ_VERSION: 631]\n",
      "Path to PROJ shared files: /usr/share/proj\n",
      "Linking to sp version:1.4-2\n",
      "To mute warnings of possible GDAL/OSR exportToProj4() degradation,\n",
      "use options(\"rgdal_show_exportToProj4_warnings\"=\"none\") before loading rgdal.\n",
      "\n",
      "R[write to console]: \n",
      "Attaching package: ‘future’\n",
      "\n",
      "\n",
      "R[write to console]: The following object is masked from ‘package:raster’:\n",
      "\n",
      "    values\n",
      "\n",
      "\n"
     ]
    }
   ],
   "source": [
    "ipython.magic(\"load_ext rpy2.ipython\")\n",
    "string_libraries = \"\"\"R library(hsi); library(raster); library(usethis);\n",
    "                        library(devtools); library(rgdal); library(future);\n",
    "                        library(furrr);\n",
    "                   \"\"\"\n",
    "ipython.magic(string_libraries)"
   ]
  },
  {
   "cell_type": "code",
   "execution_count": 2,
   "metadata": {
    "tags": [
     "block:readdatainput",
     "prev:loadlibraries"
    ]
   },
   "outputs": [],
   "source": [
    "#\n",
    "ipython.magic(\"load_ext rpy2.ipython\")\n",
    "#\n",
    "\n",
    "string_data_input = \"\"\"R poncaloc <- rgdal::readOGR(\"/shared_volume/Ponca_DV_loc/\",\"poncadav2\");\n",
    "                         ponca_mask <- raster::raster(\"/shared_volume/Ponca_DV/poncamask.tif\")\n",
    "                    \"\"\"\n",
    "ipython.magic(string_data_input)\n",
    "\n",
    "#\n",
    "poncaloc = ipython.magic(\"Rget poncaloc\")\n",
    "ponca_mask = ipython.magic(\"Rget ponca_mask\")\n",
    "\n",
    "print(poncaloc)\n",
    "print(ponca_mask)\n",
    "#"
   ]
  },
  {
   "cell_type": "code",
   "execution_count": 3,
   "metadata": {
    "tags": [
     "block:reproject",
     "prev:readdatainput"
    ]
   },
   "outputs": [],
   "source": [
    "#\n",
    "ipython.magic(\"load_ext rpy2.ipython\")\n",
    "print(poncaloc)\n",
    "ipython.magic(\"Rpush poncaloc\")\n",
    "#\n",
    "string_transform = \"\"\"R poncaloc <- sp::spTransform(poncaloc,\n",
    "                                                    CRSobj = \"+proj=lcc +lat_1=17.5 +lat_2=29.5 +lat_0=12 +lon_0=-102 +x_0=2500000 +y_0=0 +datum=WGS84 +units=m +no_defs +ellps=WGS84 +towgs84=0,0,0\")\n",
    "                   \"\"\"\n",
    "ipython.magic(string_transform)\n",
    "\n",
    "#\n",
    "poncaloc = ipython.magic(\"Rget poncaloc\")\n",
    "print(poncaloc)\n",
    "#"
   ]
  },
  {
   "cell_type": "code",
   "execution_count": 4,
   "metadata": {
    "tags": [
     "block:createtestdata",
     "prev:reproject",
     "prev:loadlibraries"
    ]
   },
   "outputs": [],
   "source": [
    "#\n",
    "ipython.magic(\"load_ext rpy2.ipython\")\n",
    "print(poncaloc)\n",
    "ipython.magic(\"Rpush poncaloc\")\n",
    "#\n",
    "string_libraries = \"\"\"R library(hsi)\"\"\"\n",
    "\n",
    "ipython.magic(string_libraries)\n",
    "\n",
    "string_test = \"\"\"R test_sp <- sp_temporal_data(occs=poncaloc,longitude = \"coords.x1\",\n",
    "                                               latitude = \"coords.x2\",sp_year_var=\"Year\",\n",
    "                                               layers_by_year_dir =\"/shared_volume/forest_jEquihua_mar/\",\n",
    "                                               layers_ext = \"*.tif$\",reclass_year_data = T)\n",
    "              \"\"\"\n",
    "ipython.magic(string_test)\n",
    "\n",
    "#\n",
    "test_sp = ipython.magic(\"Rget test_sp\")\n",
    "print(test_sp)\n",
    "#"
   ]
  },
  {
   "cell_type": "code",
   "execution_count": 5,
   "metadata": {
    "tags": [
     "block:maskandextract",
     "prev:createtestdata",
     "prev:loadlibraries"
    ]
   },
   "outputs": [],
   "source": [
    "#\n",
    "ipython.magic(\"load_ext rpy2.ipython\")\n",
    "\n",
    "\n",
    "string_libraries = \"\"\"R library(hsi);library(raster)\"\"\"\n",
    "\n",
    "ipython.magic(string_libraries)\n",
    "\n",
    "print(test_sp)\n",
    "print(ponca_mask)\n",
    "ipython.magic(\"Rpush test_sp\")\n",
    "ipython.magic(\"Rpush ponca_mask\")\n",
    "#\n",
    "\n",
    "#Filtrar las localidades que se usaran mediante la mascara\n",
    "string_filter = \"\"\"R test_sp_mask <- occs_filter_by_mask(test_sp,ponca_mask)\n",
    "                \"\"\"\n",
    "ipython.magic(string_filter)\n",
    "\n",
    "#Limpia localidades duplicadas por anio\n",
    "\n",
    "string_clean_test = \"\"\"R test_sp_clean <- clean_dup_by_year(this_species = test_sp,\n",
    "                                                            threshold = res(ponca_mask)[1])\n",
    "                    \"\"\"\n",
    "\n",
    "ipython.magic(string_clean_test)\n",
    "\n",
    "string_extract = \"\"\"R e_test <- extract_by_year(this_species=test_sp_clean,layers_pattern=\"_mar\")\n",
    "                 \"\"\"\n",
    "\n",
    "ipython.magic(string_extract)\n",
    "\n",
    "\n",
    "#\n",
    "e_test = ipython.magic(\"Rget e_test\")\n",
    "print(e_test)\n",
    "#"
   ]
  },
  {
   "cell_type": "code",
   "execution_count": 6,
   "metadata": {
    "tags": [
     "block:bestmodel",
     "prev:maskandextract",
     "prev:loadlibraries"
    ]
   },
   "outputs": [],
   "source": [
    "#\n",
    "ipython.magic(\"load_ext rpy2.ipython\")\n",
    "print(e_test)\n",
    "ipython.magic(\"Rpush e_test\")\n",
    "#\n",
    "string_libraries = \"\"\"R library(hsi)\"\"\"\n",
    "\n",
    "ipython.magic(string_libraries)\n",
    "\n",
    "string_bestmodel = \"\"\"R best_model_2004 <- find_best_model(this_species = e_test,\n",
    "                                                           cor_threshold = 0.8,\n",
    "                                                           ellipsoid_level = 0.975,\n",
    "                                                           nvars_to_fit = 3,E = 0.05,\n",
    "                                                           RandomPercent = 70,\n",
    "                                                           NoOfIteration = 1000,\n",
    "                                                           parallel = TRUE,\n",
    "                                                           n_cores = 24,\n",
    "                                                           plot3d = FALSE)\n",
    "                   \"\"\"\n",
    "\n",
    "ipython.magic(string_bestmodel)\n",
    "\n",
    "#\n",
    "best_model_2004 = ipython.magic(\"Rget best_model_2004\")\n",
    "print(best_model_2004)\n",
    "#"
   ]
  },
  {
   "cell_type": "code",
   "execution_count": 7,
   "metadata": {
    "tags": [
     "block:temporalprojection",
     "prev:bestmodel",
     "prev:loadlibraries"
    ]
   },
   "outputs": [],
   "source": [
    "#\n",
    "ipython.magic(\"load_ext rpy2.ipython\")\n",
    "\n",
    "string_libraries = \"\"\"R library(hsi);library(raster)\"\"\"\n",
    "\n",
    "ipython.magic(string_libraries)\n",
    "\n",
    "print(best_model_2004)\n",
    "print(ponca_mask)\n",
    "ipython.magic(\"Rpush best_model_2004\")\n",
    "ipython.magic(\"Rpush ponca_mask\")\n",
    "#\n",
    "\n",
    "results = \"/shared_volume/new_model_parallel/19_05_2021_2/\"\n",
    "\n",
    "string_temporal_proj = \"\"\"R temporal_projection(this_species = best_model_2004,\n",
    "                                                save_dir = \"/shared_volume/new_model_parallel/19_05_2021_2/\",\n",
    "                                                sp_mask = ponca_mask,\n",
    "                                                crs_model = NULL,\n",
    "                                                sp_name =\"pan_onca\",\n",
    "                                                plot3d = FALSE)\n",
    "                      \"\"\"\n",
    "\n",
    "if not os.path.exists(results):\n",
    "    os.makedirs(results)\n",
    "    \n",
    "ipython.magic(string_temporal_proj)\n",
    "\n",
    "#\n",
    "temporal_projection = ipython.magic(\"Rget temporal_projection\")\n",
    "print(temporal_projection)\n",
    "#"
   ]
  },
  {
   "cell_type": "code",
   "execution_count": null,
   "metadata": {
    "tags": []
   },
   "outputs": [],
   "source": []
  }
 ],
 "metadata": {
  "kernelspec": {
   "display_name": "Python 3",
   "language": "python",
   "name": "python3"
  },
  "kubeflow_notebook": {
   "autosnapshot": false,
   "docker_image": "sipecam/hsi-kale:0.6.1",
   "experiment": {
    "id": "new",
    "name": "hsiexp19052021"
   },
   "experiment_name": "hsiexp19052021",
   "katib_metadata": {
    "algorithm": {
     "algorithmName": "grid"
    },
    "maxFailedTrialCount": 3,
    "maxTrialCount": 12,
    "objective": {
     "objectiveMetricName": "",
     "type": "minimize"
    },
    "parallelTrialCount": 3,
    "parameters": []
   },
   "katib_run": false,
   "pipeline_description": "Hsi",
   "pipeline_name": "hsipipeline19052021",
   "snapshot_volumes": false,
   "steps_defaults": [],
   "volume_access_mode": "rwo",
   "volumes": [
    {
     "annotations": [],
     "mount_point": "shared_volume",
     "name": "hostpath-pvc",
     "size": 1,
     "size_type": "Gi",
     "snapshot": false,
     "snapshot_name": "",
     "type": "pvc"
    }
   ]
  },
  "language_info": {
   "codemirror_mode": {
    "name": "ipython",
    "version": 3
   },
   "file_extension": ".py",
   "mimetype": "text/x-python",
   "name": "python",
   "nbconvert_exporter": "python",
   "pygments_lexer": "ipython3",
   "version": "3.6.9"
  }
 },
 "nbformat": 4,
 "nbformat_minor": 4
}
