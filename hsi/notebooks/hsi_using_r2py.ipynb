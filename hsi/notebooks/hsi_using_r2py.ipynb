{
 "cells": [
  {
   "cell_type": "markdown",
   "metadata": {
    "tags": []
   },
   "source": [
    "Instance type: `m5.8xlarge`\n",
    "\n",
    "Container using: 24 cores and 120 Gi"
   ]
  },
  {
   "cell_type": "code",
   "execution_count": 1,
   "metadata": {
    "tags": [
     "imports"
    ]
   },
   "outputs": [],
   "source": [
    "import os\n",
    "import subprocess\n",
    "import glob\n",
    "\n",
    "from IPython import get_ipython\n",
    "\n",
    "ipython = get_ipython()"
   ]
  },
  {
   "cell_type": "code",
   "execution_count": 44,
   "metadata": {
    "tags": [
     "block:assignvariables"
    ]
   },
   "outputs": [],
   "source": [
    "bucket_with_data = \"hsi-kale\"\n",
    "\n",
    "input_dir_data = \"/shared_volume/input_data\"\n",
    "\n",
    "dir_specie = \"Ponca_DV_loc\"\n",
    "\n",
    "file_specie = \"poncadav2\"\n",
    "\n",
    "dir_mask_specie = \"Ponca_DV\"\n",
    "\n",
    "file_mask_specie = \"poncamask.tif\"\n",
    "\n",
    "variable_specie = \"poncaloc\"\n",
    "\n",
    "mask_variable_specie = \"ponca_mask\"\n",
    "\n",
    "string1 = \"R \" + variable_specie + \" <- rgdal::readOGR(\"\n",
    "\n",
    "string2 = os.path.join(input_dir_data, dir_specie)\n",
    "\n",
    "string3 = mask_variable_specie + \" <- raster::raster(\"\n",
    "\n",
    "string4 = os.path.join(input_dir_data, dir_mask_specie, file_mask_specie)\n",
    "\n",
    "string_data_input = \"\".join([string1, \"\\\"\", string2, \"\\\",\", \n",
    "                             \"\\\"\", file_specie, \"\\\"\",\");\",\n",
    "                             string3, \"\\\"\", string4, \"\\\"\", \")\"])\n"
   ]
  },
  {
   "cell_type": "code",
   "execution_count": null,
   "metadata": {
    "tags": [
     "block:downloadfroms3",
     "prev:assignvariables"
    ]
   },
   "outputs": [],
   "source": [
    "if not os.path.exists(input_dir_data):\n",
    "    os.makedirs(input_dir_data)\n",
    "\n",
    "    \n",
    "cmd_subprocess = [\"aws\", \"s3\", \"cp\",\n",
    "                  \"s3://\" + bucket_with_data,\n",
    "                  input_dir_data,\n",
    "                  \"--recursive\"]\n",
    "\n",
    "subprocess.run(cmd_subprocess)"
   ]
  },
  {
   "cell_type": "code",
   "execution_count": null,
   "metadata": {
    "tags": [
     "block:readdatainput",
     "prev:downloadfroms3"
    ]
   },
   "outputs": [],
   "source": [
    "#\n",
    "ipython.magic(\"load_ext rpy2.ipython\")\n",
    "#\n",
    "\n",
    "string_libraries = \"\"\"R library(rgdal); library(raster)\"\"\"\n",
    "\n",
    "ipython.magic(string_libraries)\n",
    "\n",
    "ipython.magic(string_data_input)\n",
    "\n",
    "poncaloc = ipython.magic(\"Rget poncaloc\")\n",
    "ponca_mask = ipython.magic(\"Rget ponca_mask\")"
   ]
  },
  {
   "cell_type": "code",
   "execution_count": 3,
   "metadata": {
    "tags": [
     "block:reproject",
     "prev:readdatainput"
    ]
   },
   "outputs": [],
   "source": [
    "#\n",
    "ipython.magic(\"load_ext rpy2.ipython\")\n",
    "print(poncaloc)\n",
    "ipython.magic(\"Rpush poncaloc\")\n",
    "#\n",
    "\n",
    "string_libraries = \"\"\"R library(rgdal)\"\"\"\n",
    "\n",
    "ipython.magic(string_libraries)\n",
    "\n",
    "string_transform = \"\"\"R poncaloc_transf <- sp::spTransform(poncaloc,\n",
    "                                                           CRSobj = \"+proj=lcc +lat_1=17.5 +lat_2=29.5 +lat_0=12 +lon_0=-102 +x_0=2500000 +y_0=0 +datum=WGS84 +units=m +no_defs +ellps=WGS84 +towgs84=0,0,0\")\n",
    "                   \"\"\"\n",
    "ipython.magic(string_transform)\n",
    "\n",
    "poncaloc_transf = ipython.magic(\"Rget poncaloc_transf\")\n"
   ]
  },
  {
   "cell_type": "code",
   "execution_count": 4,
   "metadata": {
    "tags": [
     "block:createtestdata",
     "prev:reproject"
    ]
   },
   "outputs": [],
   "source": [
    "#\n",
    "ipython.magic(\"load_ext rpy2.ipython\")\n",
    "print(poncaloc_transf)\n",
    "ipython.magic(\"Rpush poncaloc_transf\")\n",
    "#\n",
    "string_libraries = \"\"\"R library(hsi)\"\"\"\n",
    "\n",
    "ipython.magic(string_libraries)\n",
    "\n",
    "string_test = \"\"\"R test_sp <- sp_temporal_data(occs=poncaloc_transf,longitude = \"coords.x1\",\n",
    "                                               latitude = \"coords.x2\",sp_year_var=\"Year\",\n",
    "                                               layers_by_year_dir =\"/shared_volume/forest_jEquihua_mar/\",\n",
    "                                               layers_ext = \"*.tif$\",reclass_year_data = T)\n",
    "              \"\"\"\n",
    "ipython.magic(string_test)\n",
    "\n",
    "test_sp = ipython.magic(\"Rget test_sp\")\n"
   ]
  },
  {
   "cell_type": "code",
   "execution_count": 5,
   "metadata": {
    "tags": [
     "block:maskandextract",
     "prev:createtestdata"
    ]
   },
   "outputs": [],
   "source": [
    "#\n",
    "ipython.magic(\"load_ext rpy2.ipython\")\n",
    "\n",
    "\n",
    "string_libraries = \"\"\"R library(hsi);library(raster)\"\"\"\n",
    "\n",
    "ipython.magic(string_libraries)\n",
    "\n",
    "print(test_sp)\n",
    "print(ponca_mask)\n",
    "ipython.magic(\"Rpush test_sp\")\n",
    "ipython.magic(\"Rpush ponca_mask\")\n",
    "#\n",
    "\n",
    "#Filtrar las localidades que se usaran mediante la mascara\n",
    "string_filter = \"\"\"R test_sp_mask <- occs_filter_by_mask(test_sp,ponca_mask)\n",
    "                \"\"\"\n",
    "ipython.magic(string_filter)\n",
    "\n",
    "#Limpia localidades duplicadas por anio\n",
    "\n",
    "string_clean_test = \"\"\"R test_sp_clean <- clean_dup_by_year(this_species = test_sp,\n",
    "                                                            threshold = res(ponca_mask)[1])\n",
    "                    \"\"\"\n",
    "\n",
    "ipython.magic(string_clean_test)\n",
    "\n",
    "string_extract = \"\"\"R e_test <- extract_by_year(this_species=test_sp_clean,layers_pattern=\"_mar\")\n",
    "                 \"\"\"\n",
    "\n",
    "ipython.magic(string_extract)\n",
    "\n",
    "e_test = ipython.magic(\"Rget e_test\")\n"
   ]
  },
  {
   "cell_type": "code",
   "execution_count": 6,
   "metadata": {
    "tags": [
     "block:bestmodel",
     "prev:maskandextract"
    ]
   },
   "outputs": [],
   "source": [
    "#\n",
    "ipython.magic(\"load_ext rpy2.ipython\")\n",
    "print(e_test)\n",
    "ipython.magic(\"Rpush e_test\")\n",
    "#\n",
    "string_libraries = \"\"\"R library(hsi)\"\"\"\n",
    "\n",
    "ipython.magic(string_libraries)\n",
    "\n",
    "string_bestmodel = \"\"\"R best_model_2004 <- find_best_model(this_species = e_test,\n",
    "                                                           cor_threshold = 0.8,\n",
    "                                                           ellipsoid_level = 0.975,\n",
    "                                                           nvars_to_fit = 3,E = 0.05,\n",
    "                                                           RandomPercent = 70,\n",
    "                                                           NoOfIteration = 1000,\n",
    "                                                           parallel = TRUE,\n",
    "                                                           n_cores = 24,\n",
    "                                                           plot3d = FALSE)\n",
    "                   \"\"\"\n",
    "\n",
    "ipython.magic(string_bestmodel)\n",
    "\n",
    "best_model_2004 = ipython.magic(\"Rget best_model_2004\")\n"
   ]
  },
  {
   "cell_type": "code",
   "execution_count": 7,
   "metadata": {
    "tags": [
     "block:temporalprojection",
     "prev:bestmodel"
    ]
   },
   "outputs": [],
   "source": [
    "#\n",
    "ipython.magic(\"load_ext rpy2.ipython\")\n",
    "\n",
    "string_libraries = \"\"\"R library(hsi);library(raster)\"\"\"\n",
    "\n",
    "ipython.magic(string_libraries)\n",
    "\n",
    "print(best_model_2004)\n",
    "print(ponca_mask)\n",
    "ipython.magic(\"Rpush best_model_2004\")\n",
    "ipython.magic(\"Rpush ponca_mask\")\n",
    "#\n",
    "\n",
    "results = \"/shared_volume/new_model_parallel/26_05_2021_2/\"\n",
    "\n",
    "string_temporal_proj = \"\"\"R temporal_projection(this_species = best_model_2004,\n",
    "                                                save_dir = \"/shared_volume/new_model_parallel/26_05_2021_2/\",\n",
    "                                                sp_mask = ponca_mask,\n",
    "                                                crs_model = NULL,\n",
    "                                                sp_name =\"pan_onca\",\n",
    "                                                plot3d = FALSE)\n",
    "                      \"\"\"\n",
    "\n",
    "if not os.path.exists(results):\n",
    "    os.makedirs(results)\n",
    "    \n",
    "ipython.magic(string_temporal_proj)\n",
    "\n",
    "temporal_projection = ipython.magic(\"Rget temporal_projection\")\n"
   ]
  },
  {
   "cell_type": "code",
   "execution_count": 32,
   "metadata": {
    "tags": [
     "block:uploadtos3",
     "prev:temporalprojection"
    ]
   },
   "outputs": [],
   "source": [
    "dir_to_upload = glob.glob(results + '*')[0]\n",
    "\n",
    "cmd_subprocess = [\"aws\", \"s3\", \"cp\",\n",
    "                  dir_to_upload,\n",
    "                  \"s3://hsi-kale-results/26_05_2021\",\n",
    "                  \"--recursive\"]\n",
    "\n",
    "subprocess.run(cmd_subprocess)"
   ]
  }
 ],
 "metadata": {
  "kernelspec": {
   "display_name": "Python 3",
   "language": "python",
   "name": "python3"
  },
  "kubeflow_notebook": {
   "autosnapshot": false,
   "docker_image": "sipecam/hsi-kale:0.6.1",
   "experiment": {
    "id": "3804cf99-0862-441f-ad0e-c0ae50ba2721",
    "name": "hsiexp26052021"
   },
   "experiment_name": "hsiexp26052021",
   "katib_metadata": {
    "algorithm": {
     "algorithmName": "grid"
    },
    "maxFailedTrialCount": 3,
    "maxTrialCount": 12,
    "objective": {
     "objectiveMetricName": "",
     "type": "minimize"
    },
    "parallelTrialCount": 3,
    "parameters": []
   },
   "katib_run": false,
   "pipeline_description": "Pipeline hsi",
   "pipeline_name": "hsiexp26052021",
   "snapshot_volumes": false,
   "steps_defaults": [],
   "volumes": [
    {
     "annotations": [],
     "mount_point": "shared_volume",
     "name": "hostpath-pvc",
     "size": 1,
     "size_type": "Gi",
     "snapshot": false,
     "snapshot_name": "",
     "type": "pvc"
    }
   ]
  },
  "language_info": {
   "codemirror_mode": {
    "name": "ipython",
    "version": 3
   },
   "file_extension": ".py",
   "mimetype": "text/x-python",
   "name": "python",
   "nbconvert_exporter": "python",
   "pygments_lexer": "ipython3",
   "version": "3.8.5"
  }
 },
 "nbformat": 4,
 "nbformat_minor": 4
}
