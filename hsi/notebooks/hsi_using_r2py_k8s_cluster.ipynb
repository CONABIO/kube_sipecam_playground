{
 "cells": [
  {
   "cell_type": "markdown",
   "metadata": {
    "tags": []
   },
   "source": [
    "Instance type: `m5.8xlarge`\n",
    "\n",
    "Container using: 24 cores and 120 Gi"
   ]
  },
  {
   "cell_type": "code",
   "execution_count": 1,
   "metadata": {
    "tags": [
     "imports"
    ]
   },
   "outputs": [],
   "source": [
    "import os\n",
    "import subprocess\n",
    "import glob\n",
    "\n",
    "from IPython import get_ipython\n",
    "\n",
    "ipython = get_ipython()"
   ]
  },
  {
   "cell_type": "code",
   "execution_count": 22,
   "metadata": {
    "tags": [
     "pipeline-parameters"
    ]
   },
   "outputs": [],
   "source": [
    "specie = \"pan_onca\"\n",
    "\n",
    "dir_specie = \"Ponca_DV_loc\"\n",
    "\n",
    "file_specie = \"poncadav2\"\n",
    "\n",
    "dir_mask_specie = \"Ponca_DV\"\n",
    "\n",
    "file_mask_specie = \"poncamask.tif\"\n",
    "\n",
    "dir_years = \"forest_jEquihua_mar\"\n",
    "\n",
    "date_of_processing = \"02_06_2021\"\n"
   ]
  },
  {
   "cell_type": "code",
   "execution_count": null,
   "metadata": {
    "tags": [
     "block:downloadfroms3"
    ]
   },
   "outputs": [],
   "source": [
    "bucket_with_data = \"hsi-kale\"\n",
    "\n",
    "input_dir_data = \"/shared_volume/input_data\"\n",
    "\n",
    "if not os.path.exists(input_dir_data):\n",
    "    os.makedirs(input_dir_data)\n",
    "\n",
    "    \n",
    "cmd_subprocess = [\"aws\", \"s3\", \"cp\",\n",
    "                  \"s3://\" + bucket_with_data,\n",
    "                  input_dir_data,\n",
    "                  \"--recursive\"]\n",
    "\n",
    "subprocess.run(cmd_subprocess)"
   ]
  },
  {
   "cell_type": "markdown",
   "metadata": {
    "tags": []
   },
   "source": [
    "```R\n",
    "## Localidades en shapefile de la especies con los anios\n",
    "poncaloc<-rgdal::readOGR(\"/shared_volume/Ponca_DV_loc/\",\"poncadav2\")\n",
    "\n",
    "```"
   ]
  },
  {
   "cell_type": "code",
   "execution_count": null,
   "metadata": {
    "tags": [
     "block:readdatainput",
     "prev:downloadfroms3"
    ]
   },
   "outputs": [],
   "source": [
    "#\n",
    "ipython.magic(\"load_ext rpy2.ipython\")\n",
    "#\n",
    "\n",
    "string_libraries = \"\"\"R library(rgdal); library(raster)\"\"\"\n",
    "\n",
    "ipython.magic(string_libraries)\n",
    "\n",
    "##assignment statements to build string\n",
    "\n",
    "variable_specie_loc = \"specie_loc\"\n",
    "\n",
    "variable_mask_specie = \"specie_mask\"\n",
    "\n",
    "string1 = \"R \" + variable_specie_loc + \" <- rgdal::readOGR(\"\n",
    "\n",
    "string2 = os.path.join(input_dir_data, dir_specie)\n",
    "\n",
    "string3 = variable_mask_specie + \" <- raster::raster(\"\n",
    "\n",
    "string4 = os.path.join(input_dir_data, dir_mask_specie, file_mask_specie)\n",
    "\n",
    "string_data_input = \"\".join([string1, \"\\\"\", string2, \"\\\",\", \n",
    "                             \"\\\"\", file_specie, \"\\\"\",\");\",\n",
    "                             string3, \"\\\"\", string4, \"\\\"\", \")\"])\n",
    "\n",
    "##(end) assignment statements to build string\n",
    "\n",
    "ipython.magic(string_data_input)\n",
    "\n",
    "specie_loc = ipython.magic(\"Rget \" + variable_specie_loc)\n",
    "specie_mask = ipython.magic(\"Rget \" + variable_mask_specie)"
   ]
  },
  {
   "cell_type": "markdown",
   "metadata": {
    "tags": []
   },
   "source": [
    "```R\n",
    "poncaloc_transf <- sp::spTransform(poncaloc,\n",
    "                                   CRSobj = \"+proj=lcc +lat_1=17.5 +lat_2=29.5 +lat_0=12 +lon_0=-102 +x_0=2500000 +y_0=0 +datum=WGS84 +units=m +no_defs +ellps=WGS84 +towgs84=0,0,0\") \n",
    "```"
   ]
  },
  {
   "cell_type": "code",
   "execution_count": 21,
   "metadata": {
    "tags": [
     "block:reproject",
     "prev:readdatainput"
    ]
   },
   "outputs": [],
   "source": [
    "#\n",
    "ipython.magic(\"load_ext rpy2.ipython\")\n",
    "print(specie_loc)\n",
    "ipython.magic(\"Rpush \" + variable_specie_loc)\n",
    "#\n",
    "\n",
    "string_libraries = \"\"\"R library(rgdal)\"\"\"\n",
    "\n",
    "ipython.magic(string_libraries)\n",
    "\n",
    "##assignment statements to build string\n",
    "\n",
    "variable_specie_loc_transf = \"specie_loc_transf\"\n",
    "\n",
    "string1 = \"R \" + variable_specie_loc_transf + \" <- sp::spTransform(\"\n",
    "\n",
    "string2 = \"CRSobj = \\\"+proj=lcc +lat_1=17.5 +lat_2=29.5 +lat_0=12 +lon_0=-102 +x_0=2500000 +y_0=0 +datum=WGS84 +units=m +no_defs +ellps=WGS84 +towgs84=0,0,0\\\")\"\n",
    "\n",
    "string_transform = \"\".join([string1, variable_specie_loc, \",\",\n",
    "                            string2])\n",
    "\n",
    "##(end) assignment statements to build string\n",
    "\n",
    "ipython.magic(string_transform)\n",
    "\n",
    "specie_loc_transf = ipython.magic(\"Rget \" + variable_specie_loc_transf)\n"
   ]
  },
  {
   "cell_type": "markdown",
   "metadata": {
    "tags": []
   },
   "source": [
    "```R\n",
    "\n",
    "test_sp <- sp_temporal_data(occs=poncaloc_transf,longitude = \"coords.x1\",\n",
    "                            latitude = \"coords.x2\",sp_year_var=\"Year\",\n",
    "                            layers_by_year_dir =\"/shared_volume/forest_jEquihua_mar/\",\n",
    "                            layers_ext = \"*.tif$\",reclass_year_data = T)\n",
    "```"
   ]
  },
  {
   "cell_type": "code",
   "execution_count": 4,
   "metadata": {
    "tags": [
     "block:createtestdata",
     "prev:reproject"
    ]
   },
   "outputs": [],
   "source": [
    "#\n",
    "ipython.magic(\"load_ext rpy2.ipython\")\n",
    "print(specie_loc_transf)\n",
    "\n",
    "ipython.magic(\"Rpush \" + variable_specie_loc_transf)\n",
    "#\n",
    "string_libraries = \"\"\"R library(hsi)\"\"\"\n",
    "\n",
    "ipython.magic(string_libraries)\n",
    "\n",
    "##assignment statements to build string\n",
    "\n",
    "variable_test_sp = \"test_sp\"\n",
    "\n",
    "string1 = \"R \" + variable_test_sp + \" <- sp_temporal_data(occs=\"\n",
    "\n",
    "string2 = \"longitude = \\\"coords.x1\\\",latitude = \\\"coords.x2\\\",sp_year_var=\\\"Year\\\",layers_by_year_dir =\"\n",
    "\n",
    "string3 = os.path.join(input_dir_data, dir_years)\n",
    "\n",
    "string4 = \"layers_ext = \\\"*.tif$\\\",reclass_year_data = T)\"\n",
    "\n",
    "string_test = \"\".join([string1, variable_specie_loc_transf, \",\",\n",
    "                       string2, \"\\\"\", string3 , \"\\\",\",\n",
    "                       string4])\n",
    "\n",
    "##(end) assignment statements to build string\n",
    "\n",
    "ipython.magic(string_test)\n",
    "\n",
    "test_sp = ipython.magic(\"Rget \" + variable_test_sp)\n",
    "\n"
   ]
  },
  {
   "cell_type": "markdown",
   "metadata": {
    "tags": []
   },
   "source": [
    "```R\n",
    "#Filtrar las localidades que se usaran mediante la mascara\n",
    "\n",
    "test_sp_mask <- occs_filter_by_mask(test_sp,ponca_mask)\n",
    "\n",
    "#Limpia localidades duplicadas por anio\n",
    "\n",
    "test_sp_clean <- clean_dup_by_year(this_species = test_sp_mask,threshold = res(ponca_mask)[1])\n",
    "\n",
    "e_test <- extract_by_year(this_species=test_sp_clean,layers_pattern=\"_mar\")\n",
    "\n",
    "```"
   ]
  },
  {
   "cell_type": "code",
   "execution_count": 5,
   "metadata": {
    "tags": [
     "block:maskandextract",
     "prev:createtestdata"
    ]
   },
   "outputs": [],
   "source": [
    "#\n",
    "ipython.magic(\"load_ext rpy2.ipython\")\n",
    "\n",
    "\n",
    "string_libraries = \"\"\"R library(hsi);library(raster)\"\"\"\n",
    "\n",
    "ipython.magic(string_libraries)\n",
    "\n",
    "print(test_sp)\n",
    "print(specie_mask)\n",
    "ipython.magic(\"Rpush \" + variable_test_sp)\n",
    "ipython.magic(\"Rpush \" + variable_mask_specie)\n",
    "#\n",
    "\n",
    "##assignment statements to build string\n",
    "variable_test_sp_mask = \"test_sp_mask\"\n",
    "\n",
    "string1 = \"R \" + variable_test_sp_mask + \" <- occs_filter_by_mask(\"\n",
    "\n",
    "string_filter = \"\".join([string1, variable_test_sp, \",\",\n",
    "                         variable_mask_specie,\n",
    "                         \")\"])\n",
    "\n",
    "##(end)assignment statements to build string\n",
    "\n",
    "ipython.magic(string_filter)\n",
    "\n",
    "##assignment statements to build string\n",
    "\n",
    "variable_test_sp_clean = \"test_sp_clean\"\n",
    "\n",
    "string1 = \"R \" + variable_test_sp_clean + \" <- clean_dup_by_year(this_species = \"\n",
    "\n",
    "string2 = \", threshold = res(\"\n",
    "\n",
    "string3 = \")[1])\"\n",
    "\n",
    "string_clean_test = \"\".join([string1, variable_test_sp_mask,\n",
    "                             string2, variable_mask_specie,\n",
    "                             string3])\n",
    "\n",
    "##(end)assignment statements to build string\n",
    "\n",
    "ipython.magic(string_clean_test)\n",
    "\n",
    "##assignment statements to build string\n",
    "variable_e_test = \"e_test\"\n",
    "\n",
    "string1 = \"R \" + variable_e_test + \" <- extract_by_year(this_species=\"\n",
    "\n",
    "string2 = \",layers_pattern=\\\"_mar\\\")\"\n",
    "\n",
    "string_extract = \"\".join([string1, variable_test_sp_clean, string2])\n",
    "\n",
    "##(end)assignment statements to build string\n",
    "\n",
    "ipython.magic(string_extract)\n",
    "\n",
    "e_test = ipython.magic(\"Rget \" + variable_e_test)\n"
   ]
  },
  {
   "cell_type": "markdown",
   "metadata": {
    "tags": []
   },
   "source": [
    "```R\n",
    "best_model_2004 <- find_best_model(this_species = e_test,\n",
    "                                   cor_threshold = 0.8,\n",
    "                                   ellipsoid_level = 0.975,\n",
    "                                   nvars_to_fit = 3,E = 0.05,\n",
    "                                   RandomPercent = 70,\n",
    "                                   NoOfIteration = 1000,\n",
    "                                   parallel = TRUE,\n",
    "                                   n_cores = 24,\n",
    "                                   plot3d = FALSE)\n",
    "\n",
    "```"
   ]
  },
  {
   "cell_type": "code",
   "execution_count": 6,
   "metadata": {
    "tags": [
     "block:bestmodel",
     "prev:maskandextract"
    ]
   },
   "outputs": [],
   "source": [
    "#\n",
    "ipython.magic(\"load_ext rpy2.ipython\")\n",
    "print(e_test)\n",
    "\n",
    "ipython.magic(\"Rpush \" + variable_e_test)\n",
    "#\n",
    "string_libraries = \"\"\"R library(hsi)\"\"\"\n",
    "\n",
    "ipython.magic(string_libraries)\n",
    "\n",
    "\n",
    "##assignment statements to build string\n",
    "\n",
    "variable_best_model_2004 = \"best_model_2004\"\n",
    "\n",
    "string1 = \"R \" + variable_best_model_2004 + \" <- find_best_model(this_species =\"\n",
    "\n",
    "string2 = \", cor_threshold = 0.8, ellipsoid_level = 0.975,nvars_to_fit = 3,E = 0.05,RandomPercent = 70,NoOfIteration = 1000,parallel = TRUE,n_cores = 24,plot3d = FALSE)\"\n",
    "\n",
    "string_best_model = \"\".join([string1, variable_e_test, string2])\n",
    "\n",
    "##(end)assignment statements to build string\n",
    "\n",
    "\n",
    "ipython.magic(string_best_model)\n",
    "\n",
    "best_model_2004 = ipython.magic(\"Rget \" + variable_best_model_2004)\n"
   ]
  },
  {
   "cell_type": "markdown",
   "metadata": {
    "tags": []
   },
   "source": [
    "```R\n",
    "\n",
    "temporal_projection(this_species = best_model_2004,\n",
    "                    save_dir = \"/shared_volume/new_model_parallel/27_05_2021/\",\n",
    "                    sp_mask = ponca_mask,\n",
    "                    crs_model = NULL,\n",
    "                    sp_name =\"pan_onca\",\n",
    "                    plot3d = FALSE)\n",
    "\n",
    "```"
   ]
  },
  {
   "cell_type": "code",
   "execution_count": 7,
   "metadata": {
    "tags": [
     "block:temporalprojection",
     "prev:bestmodel"
    ]
   },
   "outputs": [],
   "source": [
    "#\n",
    "ipython.magic(\"load_ext rpy2.ipython\")\n",
    "\n",
    "string_libraries = \"\"\"R library(hsi);library(raster)\"\"\"\n",
    "\n",
    "ipython.magic(string_libraries)\n",
    "\n",
    "print(best_model_2004)\n",
    "print(specie_mask)\n",
    "ipython.magic(\"Rpush \" + variable_best_model_2004)\n",
    "ipython.magic(\"Rpush \" + variable_mask_specie)\n",
    "#\n",
    "\n",
    "dir_results = \"/shared_volume/new_model_parallel\"\n",
    "\n",
    "save_dir = os.path.join(dir_results, date_of_processing)\n",
    "\n",
    "##assignment statements to build string\n",
    "\n",
    "string1 = \"R temporal_projection(this_species = \"\n",
    "\n",
    "string2 = \",save_dir = \"\n",
    "\n",
    "string3 = \"sp_mask = \"\n",
    "\n",
    "string4 = \",crs_model = NULL,sp_name =\"\n",
    "\n",
    "string5 = \",plot3d = FALSE)\"\n",
    "\n",
    "string_temporal_proj = \"\".join([string1, variable_best_model_2004,\n",
    "                                string2, \"\\\"\", save_dir, \"\\\",\",\n",
    "                                string3, variable_mask_specie,\n",
    "                                string4, \"\\\"\", specie, \"\\\"\", string5])\n",
    "\n",
    "\n",
    "##(end)assignment statements to build string\n",
    "\n",
    "\n",
    "if not os.path.exists(save_dir):\n",
    "    os.makedirs(save_dir)\n",
    "    \n",
    "ipython.magic(string_temporal_proj)\n",
    "\n",
    "#temporal_projection = ipython.magic(\"Rget temporal_projection\")\n"
   ]
  },
  {
   "cell_type": "code",
   "execution_count": 32,
   "metadata": {
    "tags": [
     "block:uploadtos3",
     "prev:temporalprojection"
    ]
   },
   "outputs": [],
   "source": [
    "dir_to_upload = glob.glob(save_dir + '*')[0]\n",
    "\n",
    "bucket_results = \"s3://hsi-kale-results\"\n",
    "\n",
    "\n",
    "bucket_path_uploading = os.path.join(bucket_results, date_of_processing)\n",
    "\n",
    "cmd_subprocess = [\"aws\", \"s3\", \"cp\",\n",
    "                  dir_to_upload,\n",
    "                  bucket_path_uploading,\n",
    "                  \"--recursive\"]\n",
    "\n",
    "subprocess.run(cmd_subprocess)"
   ]
  }
 ],
 "metadata": {
  "kernelspec": {
   "display_name": "Python 3",
   "language": "python",
   "name": "python3"
  },
  "kubeflow_notebook": {
   "autosnapshot": false,
   "docker_image": "sipecam/hsi-kale:0.6.1",
   "experiment": {
    "id": "new",
    "name": "hsiexp02062021"
   },
   "experiment_name": "hsiexp02062021",
   "katib_metadata": {
    "algorithm": {
     "algorithmName": "grid"
    },
    "maxFailedTrialCount": 3,
    "maxTrialCount": 12,
    "objective": {
     "objectiveMetricName": "",
     "type": "minimize"
    },
    "parallelTrialCount": 3,
    "parameters": []
   },
   "katib_run": false,
   "pipeline_description": "Pipeline hsi",
   "pipeline_name": "hsipipe02062021",
   "snapshot_volumes": false,
   "steps_defaults": [],
   "volumes": [
    {
     "annotations": [],
     "mount_point": "/shared_volume",
     "name": "efs",
     "size": 1,
     "size_type": "Gi",
     "snapshot": false,
     "snapshot_name": "",
     "type": "pvc"
    }
   ]
  },
  "language_info": {
   "codemirror_mode": {
    "name": "ipython",
    "version": 3
   },
   "file_extension": ".py",
   "mimetype": "text/x-python",
   "name": "python",
   "nbconvert_exporter": "python",
   "pygments_lexer": "ipython3",
   "version": "3.6.9"
  }
 },
 "nbformat": 4,
 "nbformat_minor": 4
}
