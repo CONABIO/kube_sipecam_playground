{
 "cells": [
  {
   "cell_type": "markdown",
   "metadata": {
    "tags": []
   },
   "source": [
    "If notebook will be executed independently of *Kale, Kubeflow* then use 16gb for docker container and image [sipecam/ecosystem-integrity:0.6.1](https://github.com/CONABIO/kube_sipecam/blob/master/dockerfiles/ecosystem_integrity/0.6.1/Dockerfile)\n",
    "\n",
    "If notebook will be executed with *Kale, Kubeflow* then use *Docker* image [sipecam/ecosystem-integrity:0.6.1](https://github.com/CONABIO/kube_sipecam/blob/master/dockerfiles/ecosystem_integrity/0.6.1/Dockerfile) for pipeline and K8s deployment with *Docker* image [sipecam/general-kale:0.6.1](https://github.com/CONABIO/kube_sipecam/blob/master/dockerfiles/kale/0.6.1/Dockerfile) to launch it\n"
   ]
  },
  {
   "cell_type": "code",
   "execution_count": 1,
   "metadata": {
    "tags": [
     "imports"
    ]
   },
   "outputs": [],
   "source": [
    "import os\n",
    "import subprocess\n",
    "import math\n",
    "import gc\n",
    "import ntpath\n",
    "\n",
    "import numpy as np\n",
    "import fiona\n",
    "import rasterio\n",
    "from sklearn.ensemble import RandomForestRegressor\n",
    "from osgeo import gdal\n",
    "from osgeo.gdalconst import GA_ReadOnly \n",
    "from osgeo.gdalconst import GDT_Float32\n",
    "from osgeo.gdalconst import GDT_Int16\n",
    "from osgeo.gdalconst import GDT_UInt16\n",
    "from matplotlib import pyplot as plt"
   ]
  },
  {
   "cell_type": "code",
   "execution_count": 2,
   "metadata": {
    "tags": [
     "functions"
    ]
   },
   "outputs": [],
   "source": [
    "# Make a list of files with a certain ending.\n",
    "# Search is recursive and traverses all (sub)folders.\n",
    "def list_files(directory, endswith=\".tif\"):\n",
    "    files_endswith = []\n",
    "    for root, dirs, files in os.walk(directory):\n",
    "        for file in files:\n",
    "            if file.endswith(endswith):\n",
    "                fullpath = root + '/' + file\n",
    "                files_endswith.append(fullpath)\n",
    "    return files_endswith\n",
    "\n",
    "# Obtain point coordinates from a point feature in a shapefile.\n",
    "def coords(point):\n",
    "    x = point[\"geometry\"][\"coordinates\"][0]\n",
    "    y = point[\"geometry\"][\"coordinates\"][1]\n",
    "\n",
    "    return {\"coordinates\" : (x, y)}\n",
    "\n",
    "# Obtain the data associated to a variable of a shapefile.\n",
    "def values(points, variable):\n",
    "    npoints = len(points)\n",
    "    nvalues = np.zeros(npoints)\n",
    "    i=0\n",
    "    for point in points:\n",
    "        val = point[\"properties\"][variable]\n",
    "        nvalues[i] = val\n",
    "        i += 1\n",
    "    return(nvalues)\n",
    "\n",
    "\n",
    "# Given a shapefile read with fiona extract raster values.\n",
    "def extract(points, raster):\n",
    "\n",
    "    npoints = len(points)\n",
    "    ex_values = np.zeros(npoints)\n",
    "    i=0\n",
    "    with rasterio.open(raster) as src:\n",
    "        for point in points:\n",
    "            for value in src.sample([coords(point)[\"coordinates\"]]):\n",
    "                ex_values[i] = value\n",
    "                i += 1\n",
    "    return ex_values\n",
    "\n",
    "\n",
    "# From a pair (spatial_sampling_points, raster_variable_list)\n",
    "# Create a traininig table for model building.\n",
    "# First column is considered the dependent variable.\n",
    "def create_trainset(points, file_list, variable):\n",
    "\n",
    "    trainset = np.empty((len(points), len(file_list) + 1))\n",
    "    vals = values(points = points, variable = variable)\n",
    "    trainset[:,0] = values(points = points, variable = variable)\n",
    "\n",
    "    i=1\n",
    "    for file in file_list: \n",
    "        trainset[:,i] = extract(points = points, raster = file)\n",
    "        i += 1 \n",
    "\n",
    "    return(trainset) \n",
    "\n",
    "# Get raster dimensions.\n",
    "def dims(raster):\n",
    "    with rasterio.open(raster, 'r') as ds:\n",
    "        raster = ds.read()\n",
    "\n",
    "    raster_dimensions = raster.shape    \n",
    "    x = raster_dimensions[1]\n",
    "    y = raster_dimensions[2]\n",
    "    return (x,y)\n",
    "\n",
    "# Given a raster file-list create a numpy array.\n",
    "# Each raster (variable) becomes a column.\n",
    "def rasters_to_table(file_list):\n",
    "\n",
    "    # Read in first raster to extract metadata.\n",
    "    xy = dims(file_list[0])\n",
    " \n",
    "    x = xy[0]\n",
    "    y = xy[1]\n",
    "\n",
    "    # Initialize numpy array to place raster bands.\n",
    "    ntable = np.zeros((x*y, len(file_list)))\n",
    "    i = 0\n",
    "    for raster in file_list:\n",
    "        with rasterio.open(raster, 'r') as ds:\n",
    "            ntable[:,i] = ds.read().flatten()\n",
    "            i += 1\n",
    "\n",
    "    return(ntable)\n",
    "def readtif(imagepath):\n",
    "    gdal.AllRegister()\n",
    "    inDataset = gdal.Open(imagepath,GA_ReadOnly)\n",
    "    cols = inDataset.RasterXSize\n",
    "    rows = inDataset.RasterYSize\n",
    "    bands = inDataset.RasterCount\n",
    "    return(inDataset,rows,cols,bands)\n",
    "\n",
    "def createtif(driver,rows,cols,bands,outpath,data_type=32):\n",
    "    if data_type==32:\n",
    "        outDataset = driver.Create(outpath,cols,rows,bands,GDT_Float32,[ \"COMPRESS=LZW\" ])\n",
    "    elif data_type==16:\n",
    "        outDataset = driver.Create(outpath,cols,rows,bands,GDT_UInt16,[ \"COMPRESS=LZW\" ])\n",
    "    return(outDataset)\n",
    "\n",
    "def writetif(outDataset,data,projection,geotransform,order='r'):\n",
    "    # order controls if the columns or the rows should be considered the observations\n",
    "    cols = outDataset.RasterXSize \n",
    "    rows = outDataset.RasterYSize\n",
    "    if geotransform is not None:\n",
    "        gt = list(geotransform)\n",
    "        gt[0] = gt[0] + 0*gt[1]\n",
    "        gt[3] = gt[3] + 0*gt[5]\n",
    "        outDataset.SetGeoTransform(tuple(gt))\n",
    "    if projection is not None:\n",
    "        outDataset.SetProjection(projection)\n",
    "    \n",
    "    if data.ndim==1:\n",
    "        outBand = outDataset.GetRasterBand(1)\n",
    "        resized = np.reshape(data,(rows,cols))\n",
    "        outBand.WriteArray(resized,0,0)\n",
    "        outBand.FlushCache()\n",
    "    else:\n",
    "        if order=='r':\n",
    "            n=np.shape(data)[0]\n",
    "            for k in range(n):\n",
    "                outBand = outDataset.GetRasterBand(k+1)\n",
    "                outBand.WriteArray(np.resize(data[k,:],(rows,cols)),0,0)\n",
    "                outBand.FlushCache()\n",
    "        elif order=='c':\n",
    "            n=np.shape(data)[1]\n",
    "            for k in range(n):\n",
    "                outBand = outDataset.GetRasterBand(k+1)\n",
    "                outBand.WriteArray(np.reshape(data[:,k],(rows,cols)))\n",
    "                outBand.FlushCache()\n",
    "\n",
    "    #close the dataset properly\n",
    "    outDataset = None\n",
    "\n",
    "def swapValues(flattenedNumpyArray,listOfInLists,listOfSwappingValues):\n",
    "    '''\n",
    "    takes each list in tlistOfInLists and swaps it by the\n",
    "    corresponding value in listOfSwappingValues\n",
    "    '''\n",
    "    aux=flattenedNumpyArray\n",
    "    if len(listOfInLists)!=len(listOfSwappingValues):\n",
    "        print(\"Lists must be of the same length.\")\n",
    "    else:\n",
    "        for i in range(len(listOfInLists)):\n",
    "            # list to numpy array\n",
    "            nparray = np.array(listOfInLists[i])\n",
    "            found_idx = np.in1d(flattenedNumpyArray,nparray)\n",
    "            aux[found_idx]=listOfSwappingValues[i]\n",
    "    aux = aux.astype(int)\n",
    "    return(aux)\n",
    "def multispectralToBits(multispec_raster_path,class_ids, out_dir):\n",
    "    # Get data from raster with classifications\n",
    "    ds = gdal.Open(multispec_raster_path)\n",
    "    band = ds.GetRasterBand(1)\n",
    "    class_ar = band.ReadAsArray()\n",
    "    gt = ds.GetGeoTransform()\n",
    "    pj = ds.GetProjection()\n",
    "    ds = band = None  # close\n",
    "    \n",
    "    # Make a new bit rasters\n",
    "    drv = gdal.GetDriverByName(\"GTiff\")\n",
    "    bit_raster_file = os.path.join(pyei_results_dir, \"bit_raster.tif\")\n",
    "    ds = drv.Create(bit_raster_file, class_ar.shape[1], class_ar.shape[0],\n",
    "                    len(class_ids), gdal.GDT_Byte, [\"NBITS=1\"])\n",
    "    ds.SetGeoTransform(gt)\n",
    "    ds.SetProjection(pj)\n",
    "    for bidx in range(ds.RasterCount):\n",
    "        band = ds.GetRasterBand(bidx + 1)\n",
    "        # create boolean result where 0 == no and 1 == yes\n",
    "        selection = (class_ar == class_ids[bidx]).astype(\"u1\")\n",
    "        band.WriteArray(selection)\n",
    "    ds = band = None  # save, close\n",
    "    return bit_raster_file"
   ]
  },
  {
   "cell_type": "code",
   "execution_count": 10,
   "metadata": {
    "tags": [
     "block:create_variables"
    ]
   },
   "outputs": [],
   "source": [
    "#pipeline step create_variables\n",
    "bucket_and_dirs_with_data = \"ecosystem-integrity-data/chiapas_test/pyei_data/\"\n",
    "\n",
    "dir_1 = \"1_strucdiv/\"\n",
    "dir_2 = \"conectividad/\"\n",
    "dir_3 = \"2_landcover/\"\n",
    "file_1 = \"1.2_avg_tree_height.tif\"\n",
    "file_2 = \"madmex_lcc_landsat_2018_v4.3.1_chp.tif\"\n",
    "input_dir_data = \"/shared_volume/input_data_ei/\"\n",
    "os.makedirs(input_dir_data, exist_ok=True)\n",
    "\n",
    "data_path_strucdiv = os.path.join(input_dir_data, \"1_strucdiv\")\n",
    "#direc = \"/shared_volume\"\n",
    "#data_path_strucdiv = os.path.join(direc,\"pyei_data\", \"1_strucdiv\")\n",
    "infys_shapefile = os.path.join(input_dir_data, \"1_strucdiv\", \"1.1_strucdiv_infys.shp\")\n",
    "#infys_shapefile = os.path.join(direc,\"pyei_data\", \"1_strucdiv\", \"1.1_strucdiv_infys.shp\")\n",
    "train_data_dir = os.path.join(input_dir_data, \"pyei_train_data\")\n",
    "train_file = \"1.1_train_table.csv\"\n",
    "\n",
    "gdal.UseExceptions()\n",
    "data_path_landcover = os.path.join(input_dir_data,\"2_landcover\")\n",
    "in_raster = \"madmex_lcc_landsat_2018_v4.3.1_chp.tif\"\n",
    "out_raster_1 = \"madmex_lcc_landsat_2018_v4.3.1_chp_7c.tif\"\n",
    "out_raster_2 = \"madmex_lcc_landsat_2018_v4.3.1_chp_7cprop.tif\"\n",
    "dir_results = \"/shared_volume/\"\n",
    "pyei_results_dir = os.path.join(dir_results, \"output_data_ei\")\n",
    "os.makedirs(pyei_results_dir, exist_ok=True)"
   ]
  },
  {
   "cell_type": "code",
   "execution_count": null,
   "metadata": {
    "tags": [
     "block:download_from_s3",
     "prev:create_variables"
    ]
   },
   "outputs": [],
   "source": [
    "#pipeline step download_from_s3\n",
    "cmd_subprocess = [\"aws\", \"s3\", \"cp\",\n",
    "                  \"s3://\" + bucket_and_dirs_with_data + dir_1,\n",
    "                  input_dir_data + dir_1,\n",
    "                  \"--recursive\"]\n",
    "\n",
    "subprocess.run(cmd_subprocess)\n",
    "\n",
    "cmd_subprocess = [\"aws\", \"s3\", \"cp\",\n",
    "                  \"s3://\" + bucket_and_dirs_with_data + dir_2,\n",
    "                  input_dir_data + dir_2,\n",
    "                  \"--recursive\"]\n",
    "\n",
    "subprocess.run(cmd_subprocess)\n",
    "\n",
    "\n",
    "cmd_subprocess = [\"aws\", \"s3\", \"cp\",\n",
    "                  \"s3://\" + bucket_and_dirs_with_data + dir_3 + file_1,\n",
    "                  input_dir_data + dir_3]\n",
    "\n",
    "subprocess.run(cmd_subprocess)\n",
    "\n",
    "\n",
    "cmd_subprocess = [\"aws\", \"s3\", \"cp\",\n",
    "                  \"s3://\" + bucket_and_dirs_with_data + dir_3 + file_2,\n",
    "                  input_dir_data + dir_3]\n",
    "\n",
    "subprocess.run(cmd_subprocess)"
   ]
  },
  {
   "cell_type": "code",
   "execution_count": 11,
   "metadata": {
    "tags": [
     "block:create_train_data",
     "prev:create_variables",
     "prev:download_from_s3"
    ]
   },
   "outputs": [],
   "source": [
    "#pipeline step create_train_data\n",
    "output_file_train_data = os.path.join(train_data_dir, train_file)\n",
    "\n",
    "    \n",
    "os.makedirs(train_data_dir, exist_ok=True)\n",
    "\n",
    "geotiffs = list_files(data_path_strucdiv)\n",
    "\n",
    "shapef_source = os.path.join(data_path_strucdiv, infys_shapefile)\n",
    "\n",
    "shapef = fiona.open(shapef_source)\n",
    "\n",
    "train_table = create_trainset(shapef, geotiffs, \"AlturTtl_m\")\n",
    "\n",
    "np.savetxt(output_file_train_data, train_table, delimiter=',')"
   ]
  },
  {
   "cell_type": "code",
   "execution_count": 12,
   "metadata": {
    "tags": [
     "block:model_fit",
     "prev:create_train_data"
    ]
   },
   "outputs": [
    {
     "name": "stdout",
     "output_type": "stream",
     "text": [
      "0.5123075273950167\n"
     ]
    }
   ],
   "source": [
    "#pipeline step model_fit\n",
    "# Load training data array.\n",
    "data = np.loadtxt(output_file_train_data, delimiter=',')\n",
    "\n",
    "# Instantiate model with 1000 decision trees.\n",
    "# n_jobs is subject to available cores (8 cores in parallel in this case).\n",
    "model = RandomForestRegressor(n_estimators = 100, random_state = 42, oob_score = True, n_jobs = 8)\n",
    "\n",
    "# Train the model.\n",
    "model.fit(data[:,1:], data[:,0])\n",
    "\n",
    "# Out-Of-Bag estimation of correlatino between observed and predicted values.\n",
    "oob_corr = math.sqrt(model.oob_score_)\n",
    "print(oob_corr)"
   ]
  },
  {
   "cell_type": "code",
   "execution_count": 13,
   "metadata": {
    "tags": [
     "block:write_avg_tree_height",
     "prev:create_variables",
     "prev:model_fit"
    ]
   },
   "outputs": [],
   "source": [
    "#pipeline step write_avg_tree_height\n",
    "\n",
    "# Use the forest's predict method on the full data set (all of MX).\n",
    "geotiffs = list_files(data_path_strucdiv)\n",
    "\n",
    "rast = rasterio.open(geotiffs[0])\n",
    "\n",
    "rmetadata = rast.meta\n",
    "\n",
    "full_data = rasters_to_table(geotiffs)\n",
    "predictions = model.predict(full_data).astype(\"float32\")\n",
    "predictions = predictions.reshape((rmetadata[\"height\"], rmetadata[\"width\"]))\n",
    "\n",
    "predictions_file = os.path.join(pyei_results_dir, \"1.2_avg_tree_height.tif\")\n",
    "\n",
    "with rasterio.open(predictions_file, 'w', **rmetadata) as dst:\n",
    "    dst.write(predictions, indexes = 1)"
   ]
  },
  {
   "cell_type": "code",
   "execution_count": 14,
   "metadata": {
    "tags": [
     "block:create_raster_1",
     "prev:create_variables",
     "prev:download_from_s3"
    ]
   },
   "outputs": [],
   "source": [
    "#pipeline step create_raster_1\n",
    "in_raster_file = os.path.join(data_path_landcover, in_raster)\n",
    "dataset,rows,cols,bands = readtif(in_raster_file)\n",
    "\n",
    "# Image metadata.\n",
    "projection = dataset.GetProjection()\n",
    "transform = dataset.GetGeoTransform()\n",
    "driver = dataset.GetDriver()\n",
    "\n",
    "# make numpy array and flatten\n",
    "band = dataset.GetRasterBand(1)\n",
    "band = band.ReadAsArray(0, 0, cols, rows).astype(np.int16)\n",
    "band = np.ravel(band)\n",
    "\n",
    "# Remove missing values from class remapping.\n",
    "gooddata_idx = band != 0\n",
    "gooddata = band[gooddata_idx]\n",
    "\n",
    "# Raster with remapped classes.\n",
    "aggregated = swapValues(gooddata,[\\\n",
    "                                  [1,2,3,6],\\\n",
    "                                  [7,8, 9,10,11,12, 21, 22, 25, 26],\\\n",
    "                                  #[4,5, 13, 14, 15, 16, 17, 18, 19, 20],\\\n",
    "                                  [27, 28],\\\n",
    "                                  [23, 24, 30],\\\n",
    "                                  [29],\\\n",
    "                                  [31]\n",
    "                                 ],\\\n",
    "                        [1,2,4,5,6,7])\n",
    "\n",
    "# [1,2,3,8] \t\t\t\t\t\t  -to- 1 bosque\n",
    "# [9,10,11,12,13,14,15,16]    \t\t  -to- 2 selvas\n",
    "# [4,5,6,7,17,18,19,21,22,23, 25, 26] -to- 3 matorrales\n",
    "# [27, 28] \t\t\t\t\t\t\t  -to- 4 pastizal y agricultura \n",
    "# [30, 20, 24]  \t\t\t\t\t  -to- 5 suelo desnudo\n",
    "# [31]      \t\t\t\t\t\t  -to- 6 asentamiento humano\n",
    "# [29]      \t\t\t\t\t\t  -to- 7 agua\n",
    "# [98, 99]  \t\t\t\t\t\t  -to- 8 nieve y hielo\n",
    "\n",
    "band[gooddata_idx] = aggregated\n",
    "# Set up output and write.\n",
    "tif_out_file = os.path.join(pyei_results_dir, out_raster_1)\n",
    "if not os.path.exists(tif_out_file):\n",
    "    outData = createtif(driver, rows, cols, 1, tif_out_file,16)\n",
    "    writetif(outData,band, projection, transform)\n",
    "    outData = None\n"
   ]
  },
  {
   "cell_type": "code",
   "execution_count": 15,
   "metadata": {
    "tags": [
     "block:create_raster_2",
     "prev:create_raster_1",
     "prev:create_variables",
     "prev:write_avg_tree_height"
    ]
   },
   "outputs": [],
   "source": [
    "#pipeline step create_raster_2\n",
    "# Open raster.\n",
    "class_ids=[1,2,4,5,6,7]\n",
    "\n",
    "data_to_bits_file = os.path.join(pyei_results_dir, out_raster_1)\n",
    "res_multispectraltobits = multispectralToBits(data_to_bits_file, class_ids, pyei_results_dir)\n",
    "\n",
    "src_ds = gdal.Open(res_multispectraltobits)\n",
    "\n",
    "# Open a template or copy array, for dimensions and NODATA mask.\n",
    "cpy_ds_file = os.path.join(pyei_results_dir, \"1.2_avg_tree_height.tif\")\n",
    "cpy_ds = gdal.Open(cpy_ds_file)\n",
    "band = cpy_ds.GetRasterBand(1)\n",
    "cpy_mask = (band.ReadAsArray() == band.GetNoDataValue())\n",
    "\n",
    "# Result raster, with same resolution and position as the copy raster.\n",
    "drv = gdal.GetDriverByName(\"GTiff\")\n",
    "\n",
    "dst_ds_file = os.path.join(pyei_results_dir, out_raster_2)\n",
    "\n",
    "if not os.path.exists(dst_ds_file):\n",
    "\n",
    "    dst_ds = drv.Create(dst_ds_file, cpy_ds.RasterXSize, cpy_ds.RasterYSize,\n",
    "                        len(class_ids), gdal.GDT_Float32, [\"INTERLEAVE=BAND\"])\n",
    "    dst_ds.SetGeoTransform(cpy_ds.GetGeoTransform())\n",
    "    dst_ds.SetProjection(cpy_ds.GetProjection())\n",
    "    \n",
    "    # Do the same as gdalwarp -r average; this might take a while to finish.\n",
    "    gdal.ReprojectImage(src_ds, dst_ds, None, None, gdal.GRA_Average)\n",
    "    \n",
    "    # Convert all fractions to percent, and apply the same NODATA mask from the copy raster.\n",
    "    NODATA = 0\n",
    "    for bidx in range(dst_ds.RasterCount):\n",
    "        band = dst_ds.GetRasterBand(bidx + 1)\n",
    "        ar = band.ReadAsArray() * 100.0\n",
    "        ar[cpy_mask] = NODATA\n",
    "        band.WriteArray(ar)\n",
    "        band.SetNoDataValue(NODATA)\n",
    "    \n",
    "    # Save and close all rasters\n",
    "    src_ds = cpy_ds = dst_ds = band = None"
   ]
  },
  {
   "cell_type": "markdown",
   "metadata": {
    "tags": []
   },
   "source": [
    "# Compare with reference (next are not included in pipeline)"
   ]
  },
  {
   "cell_type": "code",
   "execution_count": 1,
   "metadata": {
    "tags": [
     "skip"
    ]
   },
   "outputs": [],
   "source": [
    "import numpy as np\n",
    "import rasterio as rio"
   ]
  },
  {
   "cell_type": "code",
   "execution_count": 2,
   "metadata": {},
   "outputs": [],
   "source": [
    "dst_ds_file = \"/shared_volume/output_data_ei/madmex_lcc_landsat_2018_v4.3.1_chp_7cprop.tif\""
   ]
  },
  {
   "cell_type": "code",
   "execution_count": 3,
   "metadata": {
    "tags": [
     "skip"
    ]
   },
   "outputs": [],
   "source": [
    "o1 = rio.open(dst_ds_file)"
   ]
  },
  {
   "cell_type": "code",
   "execution_count": 4,
   "metadata": {
    "tags": [
     "skip"
    ]
   },
   "outputs": [],
   "source": [
    "a1 = o1.read()"
   ]
  },
  {
   "cell_type": "code",
   "execution_count": 5,
   "metadata": {
    "tags": [
     "skip"
    ]
   },
   "outputs": [
    {
     "data": {
      "text/plain": [
       "array([  0.       ,   1.       ,   1.1111112,   1.2345679,   2.       ,\n",
       "         2.2222223,   2.4691358,   3.       ,   3.3333335,   3.7037036,\n",
       "         4.       ,   4.4444447,   4.9382715,   5.       ,   5.555556 ,\n",
       "         6.       ,   6.1728396,   6.666667 ,   7.       ,   7.4074073,\n",
       "         7.777778 ,   8.       ,   8.641975 ,   8.888889 ,   9.       ,\n",
       "         9.876543 ,  10.       ,  11.       ,  11.111112 ,  12.       ,\n",
       "        12.222222 ,  12.345679 ,  13.       ,  13.333334 ,  13.580246 ,\n",
       "        14.       ,  14.444445 ,  14.814815 ,  15.000001 ,  15.555556 ,\n",
       "        16.       ,  16.049381 ,  16.666668 ,  17.       ,  17.28395  ,\n",
       "        17.777779 ,  18.       ,  18.518518 ,  18.88889  ,  19.       ,\n",
       "        19.753086 ,  20.       ,  20.987654 ,  21.       ,  21.11111  ,\n",
       "        22.       ,  22.222223 ,  23.       ,  23.333334 ,  23.456789 ,\n",
       "        24.       ,  24.444445 ,  24.691359 ,  25.       ,  25.555557 ,\n",
       "        25.925926 ,  26.       ,  26.666668 ,  27.000002 ,  27.160492 ,\n",
       "        27.777779 ,  28.       ,  28.395063 ,  28.88889  ,  29.       ,\n",
       "        29.62963  ,  30.000002 ,  30.864197 ,  31.       ,  31.111113 ,\n",
       "        32.       ,  32.098763 ,  32.22222  ,  33.       ,  33.333336 ,\n",
       "        34.       ,  34.444447 ,  34.5679   ,  35.       ,  35.555557 ,\n",
       "        35.802467 ,  36.       ,  36.666668 ,  37.       ,  37.037037 ,\n",
       "        37.77778  ,  38.       ,  38.271606 ,  38.88889  ,  39.       ,\n",
       "        39.506172 ,  40.       ,  40.74074  ,  41.       ,  41.11111  ,\n",
       "        41.975307 ,  42.       ,  42.22222  ,  43.       ,  43.209877 ,\n",
       "        43.333332 ,  44.       ,  44.444447 ,  45.       ,  45.555557 ,\n",
       "        45.679012 ,  46.       ,  46.666668 ,  46.913578 ,  47.       ,\n",
       "        47.77778  ,  48.       ,  48.148148 ,  48.88889  ,  49.       ,\n",
       "        49.382717 ,  50.       ,  50.617283 ,  51.       ,  51.111115 ,\n",
       "        51.851852 ,  52.       ,  52.22222  ,  52.999996 ,  53.08642  ,\n",
       "        53.333336 ,  54.000004 ,  54.320984 ,  54.444443 ,  55.       ,\n",
       "        55.555557 ,  56.       ,  56.666668 ,  56.790127 ,  57.       ,\n",
       "        57.77778  ,  58.       ,  58.024693 ,  58.88889  ,  58.999996 ,\n",
       "        59.25926  ,  60.000004 ,  60.493828 ,  61.       ,  61.11111  ,\n",
       "        61.728394 ,  62.       ,  62.222225 ,  62.96296  ,  63.       ,\n",
       "        63.333332 ,  64.       ,  64.197525 ,  64.44444  ,  65.       ,\n",
       "        65.4321   ,  65.55556  ,  66.       ,  66.66667  ,  67.       ,\n",
       "        67.77778  ,  67.90124  ,  68.       ,  68.51852  ,  68.88889  ,\n",
       "        69.       ,  69.1358   ,  70.       ,  70.37037  ,  71.       ,\n",
       "        71.111115 ,  71.604935 ,  72.       ,  72.22222  ,  72.83951  ,\n",
       "        73.       ,  73.333336 ,  74.       ,  74.07407  ,  74.44444  ,\n",
       "        75.       ,  75.30865  ,  75.55556  ,  76.       ,  76.54321  ,\n",
       "        76.666664 ,  77.       ,  77.77778  ,  78.       ,  78.888885 ,\n",
       "        79.       ,  79.012344 ,  80.       ,  80.24691  ,  81.       ,\n",
       "        81.11111  ,  81.48148  ,  82.       ,  82.22222  ,  82.71605  ,\n",
       "        83.       ,  83.33333  ,  83.950615 ,  84.       ,  84.44444  ,\n",
       "        85.       ,  85.18519  ,  85.55556  ,  86.       ,  86.419754 ,\n",
       "        86.666664 ,  87.       ,  87.65432  ,  87.77778  ,  88.       ,\n",
       "        88.88889  ,  89.       ,  90.       ,  90.12346  ,  91.       ,\n",
       "        91.111115 ,  91.358025 ,  92.       ,  92.22222  ,  92.59259  ,\n",
       "        93.       ,  93.333336 ,  93.827156 ,  94.       ,  94.44444  ,\n",
       "        95.       ,  95.06173  ,  95.55556  ,  96.       ,  96.296295 ,\n",
       "        96.666664 ,  97.       ,  97.53087  ,  97.77778  ,  98.       ,\n",
       "        98.765434 ,  98.888885 ,  99.       , 100.       ], dtype=float32)"
      ]
     },
     "execution_count": 5,
     "metadata": {},
     "output_type": "execute_result"
    }
   ],
   "source": [
    "np.unique(a1)"
   ]
  },
  {
   "cell_type": "markdown",
   "metadata": {
    "tags": []
   },
   "source": [
    "Compare"
   ]
  },
  {
   "cell_type": "code",
   "execution_count": 6,
   "metadata": {
    "tags": [
     "skip"
    ]
   },
   "outputs": [],
   "source": [
    "f2 = \"/shared_volume/pyei_data/2_landcover/madmex_lcc_landsat_2018_v4.3.1_chp_7cprop.tif\" #this was downloaded from dropbox url"
   ]
  },
  {
   "cell_type": "code",
   "execution_count": 7,
   "metadata": {
    "tags": [
     "skip"
    ]
   },
   "outputs": [],
   "source": [
    "o2 = rio.open(f2)"
   ]
  },
  {
   "cell_type": "code",
   "execution_count": 8,
   "metadata": {
    "tags": [
     "skip"
    ]
   },
   "outputs": [],
   "source": [
    "a2 = o2.read()"
   ]
  },
  {
   "cell_type": "code",
   "execution_count": 9,
   "metadata": {
    "tags": [
     "skip"
    ]
   },
   "outputs": [
    {
     "data": {
      "text/plain": [
       "array([  0.       ,   1.       ,   1.1111112,   1.2345679,   2.       ,\n",
       "         2.2222223,   2.4691358,   3.       ,   3.3333335,   3.7037036,\n",
       "         4.       ,   4.4444447,   4.9382715,   5.       ,   5.555556 ,\n",
       "         6.       ,   6.1728396,   6.666667 ,   7.       ,   7.4074073,\n",
       "         7.777778 ,   8.       ,   8.641975 ,   8.888889 ,   9.       ,\n",
       "         9.876543 ,  10.       ,  11.       ,  11.111112 ,  12.       ,\n",
       "        12.222222 ,  12.345679 ,  13.       ,  13.333334 ,  13.580246 ,\n",
       "        14.       ,  14.444445 ,  14.814815 ,  15.000001 ,  15.555556 ,\n",
       "        16.       ,  16.049381 ,  16.666668 ,  17.       ,  17.28395  ,\n",
       "        17.777779 ,  18.       ,  18.518518 ,  18.88889  ,  19.       ,\n",
       "        19.753086 ,  20.       ,  20.987654 ,  21.       ,  21.11111  ,\n",
       "        22.       ,  22.222223 ,  23.       ,  23.333334 ,  23.456789 ,\n",
       "        24.       ,  24.444445 ,  24.691359 ,  25.       ,  25.555557 ,\n",
       "        25.925926 ,  26.       ,  26.666668 ,  27.000002 ,  27.160492 ,\n",
       "        27.777779 ,  28.       ,  28.395063 ,  28.88889  ,  29.       ,\n",
       "        29.62963  ,  30.000002 ,  30.864197 ,  31.       ,  31.111113 ,\n",
       "        32.       ,  32.098763 ,  32.22222  ,  33.       ,  33.333336 ,\n",
       "        34.       ,  34.444447 ,  34.5679   ,  35.       ,  35.555557 ,\n",
       "        35.802467 ,  36.       ,  36.666668 ,  37.       ,  37.037037 ,\n",
       "        37.77778  ,  38.       ,  38.271606 ,  38.88889  ,  39.       ,\n",
       "        39.506172 ,  40.       ,  40.74074  ,  41.       ,  41.11111  ,\n",
       "        41.975307 ,  42.       ,  42.22222  ,  43.       ,  43.209877 ,\n",
       "        43.333332 ,  44.       ,  44.444447 ,  45.       ,  45.555557 ,\n",
       "        45.679012 ,  46.       ,  46.666668 ,  46.913578 ,  47.       ,\n",
       "        47.77778  ,  48.       ,  48.148148 ,  48.88889  ,  49.       ,\n",
       "        49.382717 ,  50.       ,  50.617283 ,  51.       ,  51.111115 ,\n",
       "        51.851852 ,  52.       ,  52.22222  ,  52.999996 ,  53.08642  ,\n",
       "        53.333336 ,  54.000004 ,  54.320984 ,  54.444443 ,  55.       ,\n",
       "        55.555557 ,  56.       ,  56.666668 ,  56.790127 ,  57.       ,\n",
       "        57.77778  ,  58.       ,  58.024693 ,  58.88889  ,  58.999996 ,\n",
       "        59.25926  ,  60.000004 ,  60.493828 ,  61.       ,  61.11111  ,\n",
       "        61.728394 ,  62.       ,  62.222225 ,  62.96296  ,  63.       ,\n",
       "        63.333332 ,  64.       ,  64.197525 ,  64.44444  ,  65.       ,\n",
       "        65.4321   ,  65.55556  ,  66.       ,  66.66667  ,  67.       ,\n",
       "        67.77778  ,  67.90124  ,  68.       ,  68.51852  ,  68.88889  ,\n",
       "        69.       ,  69.1358   ,  70.       ,  70.37037  ,  71.       ,\n",
       "        71.111115 ,  71.604935 ,  72.       ,  72.22222  ,  72.83951  ,\n",
       "        73.       ,  73.333336 ,  74.       ,  74.07407  ,  74.44444  ,\n",
       "        75.       ,  75.30865  ,  75.55556  ,  76.       ,  76.54321  ,\n",
       "        76.666664 ,  77.       ,  77.77778  ,  78.       ,  78.888885 ,\n",
       "        79.       ,  79.012344 ,  80.       ,  80.24691  ,  81.       ,\n",
       "        81.11111  ,  81.48148  ,  82.       ,  82.22222  ,  82.71605  ,\n",
       "        83.       ,  83.33333  ,  83.950615 ,  84.       ,  84.44444  ,\n",
       "        85.       ,  85.18519  ,  85.55556  ,  86.       ,  86.419754 ,\n",
       "        86.666664 ,  87.       ,  87.65432  ,  87.77778  ,  88.       ,\n",
       "        88.88889  ,  89.       ,  90.       ,  90.12346  ,  91.       ,\n",
       "        91.111115 ,  91.358025 ,  92.       ,  92.22222  ,  92.59259  ,\n",
       "        93.       ,  93.333336 ,  93.827156 ,  94.       ,  94.44444  ,\n",
       "        95.       ,  95.06173  ,  95.55556  ,  96.       ,  96.296295 ,\n",
       "        96.666664 ,  97.       ,  97.53087  ,  97.77778  ,  98.       ,\n",
       "        98.765434 ,  98.888885 ,  99.       , 100.       ], dtype=float32)"
      ]
     },
     "execution_count": 9,
     "metadata": {},
     "output_type": "execute_result"
    }
   ],
   "source": [
    "np.unique(a2)"
   ]
  },
  {
   "cell_type": "code",
   "execution_count": 10,
   "metadata": {
    "tags": [
     "skip"
    ]
   },
   "outputs": [
    {
     "data": {
      "text/plain": [
       "array([0.], dtype=float32)"
      ]
     },
     "execution_count": 10,
     "metadata": {},
     "output_type": "execute_result"
    }
   ],
   "source": [
    "np.unique(a1-a2)"
   ]
  },
  {
   "cell_type": "code",
   "execution_count": 11,
   "metadata": {
    "tags": [
     "skip"
    ]
   },
   "outputs": [],
   "source": [
    "o1.close()"
   ]
  },
  {
   "cell_type": "code",
   "execution_count": 12,
   "metadata": {
    "tags": [
     "skip"
    ]
   },
   "outputs": [],
   "source": [
    "o2.close()"
   ]
  },
  {
   "cell_type": "markdown",
   "metadata": {
    "tags": []
   },
   "source": [
    "# Dummy executions"
   ]
  },
  {
   "cell_type": "code",
   "execution_count": 27,
   "metadata": {
    "tags": []
   },
   "outputs": [],
   "source": [
    "#import matplotlib.pyplot as plt"
   ]
  },
  {
   "cell_type": "code",
   "execution_count": 28,
   "metadata": {
    "tags": []
   },
   "outputs": [],
   "source": [
    "#dst_ds_file = \"/shared_volume/output_data_ei/madmex_lcc_landsat_2018_v4.3.1_chp_7cprop.tif\""
   ]
  },
  {
   "cell_type": "code",
   "execution_count": 29,
   "metadata": {
    "tags": []
   },
   "outputs": [],
   "source": [
    "#img=plt.imread(dst_ds_file)\n",
    "#plt.imshow(img)\n",
    "#plt.show()"
   ]
  },
  {
   "cell_type": "code",
   "execution_count": null,
   "metadata": {
    "tags": []
   },
   "outputs": [],
   "source": []
  }
 ],
 "metadata": {
  "kernelspec": {
   "display_name": "Python 3",
   "language": "python",
   "name": "python3"
  },
  "kubeflow_notebook": {
   "autosnapshot": false,
   "docker_image": "sipecam/ecosystem-integrity:0.6.1",
   "experiment": {
    "id": "new",
    "name": "pyei-experiment"
   },
   "experiment_name": "pyei-experiment",
   "katib_metadata": {
    "algorithm": {
     "algorithmName": "grid"
    },
    "maxFailedTrialCount": 3,
    "maxTrialCount": 12,
    "objective": {
     "objectiveMetricName": "",
     "type": "minimize"
    },
    "parallelTrialCount": 3,
    "parameters": []
   },
   "katib_run": false,
   "pipeline_description": "simple pyei pipeline",
   "pipeline_name": "pyei-pipeline",
   "snapshot_volumes": false,
   "steps_defaults": [],
   "volumes": [
    {
     "annotations": [],
     "mount_point": "/shared_volume",
     "name": "hostpath-pvc",
     "size": 1,
     "size_type": "Gi",
     "snapshot": false,
     "snapshot_name": "",
     "type": "pvc"
    }
   ]
  },
  "language_info": {
   "codemirror_mode": {
    "name": "ipython",
    "version": 3
   },
   "file_extension": ".py",
   "mimetype": "text/x-python",
   "name": "python",
   "nbconvert_exporter": "python",
   "pygments_lexer": "ipython3",
   "version": "3.6.9"
  }
 },
 "nbformat": 4,
 "nbformat_minor": 4
}
