{
 "cells": [
  {
   "cell_type": "markdown",
   "metadata": {},
   "source": [
    "Will solve:\n",
    "\n",
    "https://github.com/CONABIO/kube_sipecam_playground/issues/5"
   ]
  },
  {
   "cell_type": "markdown",
   "metadata": {},
   "source": [
    "# Set up minikube and use docker image for MAD-Mex in AWS"
   ]
  },
  {
   "cell_type": "markdown",
   "metadata": {},
   "source": [
    "Will follow: \n",
    "\n",
    "* For minikube: [minikube_sipecam/setup](https://github.com/CONABIO/kube_sipecam/tree/master/minikube_sipecam/setup#aws)\n",
    "\n",
    "* docker image for MAD-Mex: [kube_sipecam/dockerfiles/MAD_Mex/odc_kale](https://github.com/CONABIO/kube_sipecam/tree/master/dockerfiles/MAD_Mex/odc_kale) and [minikube_sipecam/deployments/MAD_Mex](https://github.com/CONABIO/kube_sipecam/tree/master/minikube_sipecam/deployments/MAD_Mex/)\n"
   ]
  },
  {
   "cell_type": "markdown",
   "metadata": {},
   "source": [
    "Will use [minikube_sipecam/deployments/MAD_Mex/hostpath_pv](https://github.com/CONABIO/kube_sipecam/tree/master/minikube_sipecam/deployments/MAD_Mex/hostpath_pv)"
   ]
  },
  {
   "cell_type": "markdown",
   "metadata": {},
   "source": [
    "## Instance\n",
    "\n",
    "In AWS we can select ami: `k8s-1.16-debian-buster-amd64-hvm-ebs-2020-04-27 - ami-0ab39819e336a3f3f` and instance `m5.2xlarge` with `50` gb of disk.\n",
    "\n",
    "Use next bash script for user data, this will start minikube using `none` driver:\n",
    "\n",
    "```\n",
    "#!/bin/bash\n",
    "##variables:\n",
    "region=us-west-2\n",
    "user=admin\n",
    "name_instance=minikube\n",
    "shared_volume=/shared_volume\n",
    "##System update\n",
    "export DEBIAN_FRONTEND=noninteractive\n",
    "apt-get update -yq\n",
    "##Install awscli\n",
    "apt-get install -y python3-pip && pip3 install --upgrade pip\n",
    "pip3 install awscli --upgrade\n",
    "##Tag instance\n",
    "INSTANCE_ID=$(curl -s http://instance-data/latest/meta-data/instance-id)\n",
    "PUBLIC_IP=$(curl -s http://instance-data/latest/meta-data/public-ipv4)\n",
    "aws ec2 create-tags --resources $INSTANCE_ID --tag Key=Name,Value=$name_instance-$PUBLIC_IP --region=$region\n",
    "#check if locales are ok with next lines:\n",
    "echo \"export LC_ALL=C.UTF-8\" >> /root/.profile\n",
    "echo \"export LANG=C.UTF-8\" >> /root/.profile\n",
    "echo \"export mount_point=$shared_volume\" >> /root/.profile\n",
    "systemctl start docker\n",
    "usermod -aG docker $user\n",
    "newgrp docker\n",
    "#Create shared volume\n",
    "mkdir $shared_volume\n",
    "#kubectl installation\n",
    "curl -LO \"https://storage.googleapis.com/kubernetes-release/release/$(curl -s https://storage.googleapis.com/kubernetes-release/release/stable.txt)/bin/linux/amd64/kubectl\"\n",
    "chmod +x ./kubectl\n",
    "mv ./kubectl /usr/local/bin/kubectl\n",
    "kubectl version --client\n",
    "#bash completion, needs to exit and enter again to take effect\n",
    "#echo \"source <(kubectl completion bash)\" >> /root/.bashrc\n",
    "#apt-get install -y bash-completion\n",
    "#minikube installation\n",
    "curl -Lo minikube https://storage.googleapis.com/minikube/releases/latest/minikube-linux-amd64 \\\n",
    "  && chmod +x minikube\n",
    "cp minikube /usr/local/bin/\n",
    "install minikube /usr/local/bin/\n",
    "apt-get install conntrack -y\n",
    "#kubeflow installation\n",
    "cd /root && wget https://github.com/kubeflow/kfctl/releases/download/v1.0.2/kfctl_v1.0.2-0-ga476281_linux.tar.gz\n",
    "tar -xvf kfctl_v1.0.2-0-ga476281_linux.tar.gz\n",
    "echo \"export PATH=$PATH:$(pwd)\" >> /root/.profile\n",
    "# Set KF_NAME to the name of your Kubeflow deployment. This also becomes the\n",
    "# name of the directory containing your configuration.\n",
    "# For example, your deployment name can be 'my-kubeflow' or 'kf-test'.\n",
    "echo \"export KF_NAME=kf-test\" >> ~/.profile\n",
    "echo \"export BASE_DIR=/opt\" >> ~/.profile\n",
    "source ~/.profile\n",
    "echo \"export KF_DIR=${BASE_DIR}/${KF_NAME}\" >> ~/.profile\n",
    "```\n",
    "Check installation in AWS instance with: `tail -n 15  /var/log/cloud-init-output.log`.\n",
    "\n",
    "Change to root with `sudo su`\n",
    "\n",
    "Ssh to instance, then:\n",
    "\n",
    "```\n",
    "CONFIG_URI=\"https://raw.githubusercontent.com/kubeflow/manifests/v1.0-branch/kfdef/kfctl_k8s_istio.v1.0.2.yaml\"\n",
    "source ~/.profile\n",
    "chmod gou+wrx -R /opt/\n",
    "mkdir -p ${KF_DIR}\n",
    "#minikube start\n",
    "cd /root && minikube start --driver=none\n",
    "#kubeflow start\n",
    "cd ${KF_DIR} && kfctl apply -V -f ${CONFIG_URI}\n",
    "```\n",
    "\n",
    "Check pods and status with:\n",
    "\n",
    "`minikube status`\n",
    "\n",
    "```\n",
    "minikube\n",
    "type: Control Plane\n",
    "host: Running\n",
    "kubelet: Running\n",
    "apiserver: Running\n",
    "kubeconfig: Configured\n",
    "```\n",
    "\n",
    "`kubectl get pods -n kubeflow`\n",
    "\n",
    "```\n",
    "#all running except:\n",
    "spark-operatorcrd-cleanup-2p7x2                                0/2     Completed   0          7m6s\n",
    "```\n",
    "\n",
    "To access kubeflow UI set:\n",
    "\n",
    "```\n",
    "export INGRESS_HOST=$(minikube ip)\n",
    "export INGRESS_PORT=$(kubectl -n istio-system get service istio-ingressgateway -o jsonpath='{.spec.ports[?(@.name==\"http2\")].nodePort}')\n",
    "echo $INGRESS_PORT\n",
    "```\n",
    "\n",
    "\n",
    "And go to:\n",
    "\n",
    "```\n",
    "http://<ipv4 of ec2 instance>:$INGRESS_PORT\n",
    "```"
   ]
  },
  {
   "cell_type": "markdown",
   "metadata": {},
   "source": [
    "# Set up postgresql instance in AWS"
   ]
  },
  {
   "cell_type": "markdown",
   "metadata": {},
   "source": [
    "Will follow:\n",
    "\n",
    "https://github.com/CONABIO/antares3-docker/tree/master/postgresql/local_deployment"
   ]
  },
  {
   "cell_type": "markdown",
   "metadata": {},
   "source": [
    "```\n",
    "sudo su\n",
    "cd /shared_volume\n",
    "dir=/shared_volume/postgresql_volume_docker\n",
    "mkdir $dir\n",
    "\n",
    "git clone https://github.com/CONABIO/antares3-docker.git $dir/antares3-docker\n",
    "\n",
    "mkdir -p $dir/etc/postgresql\n",
    "mkdir -p $dir/var/log/postgresql\n",
    "mkdir -p $dir/var/lib/postgresql\n",
    "\n",
    "docker run -v $dir/etc/postgresql:/etc/postgresql \\\n",
    "-v $dir/var/log/postgresql:/var/log/postgresql \\\n",
    "-v $dir/var/lib/postgresql:/var/lib/postgresql \\\n",
    "-v $dir/antares3-docker/postgresql/local_deployment/conf/:/home/postgres/conf/ \\\n",
    "-w /home/postgres \\\n",
    "-p 2225:22 -p 5432:5432 --name postgresql-local --hostname postgresql-madmex \\\n",
    "-dit madmex/postgresql-madmex-local:v8 /bin/bash\n",
    "```"
   ]
  },
  {
   "cell_type": "markdown",
   "metadata": {},
   "source": [
    "## Init files"
   ]
  },
  {
   "cell_type": "markdown",
   "metadata": {},
   "source": [
    "**Next commands in jupyterlab**"
   ]
  },
  {
   "cell_type": "markdown",
   "metadata": {},
   "source": [
    "`~/.datacube.conf`\n",
    "\n",
    "```\n",
    "[user]\n",
    "default_environment: datacube\n",
    "#default_environment: s3aio_env\n",
    "\n",
    "[datacube]\n",
    "db_hostname: 172.17.0.61 #check this with docker inspect postgresql-local|grep IPA\n",
    "db_database: antares_datacube\n",
    "db_username: postgres\n",
    "db_password: postgres\n",
    "\n",
    "\n",
    "execution_engine.use_s3: False\n",
    "\n",
    "[s3aio_env]\n",
    "db_hostname: 172.17.0.61 #check this with docker inspect postgresql-local|grep IPA\n",
    "db_database: antares_datacube\n",
    "db_username: postgres\n",
    "db_password: postgres\n",
    "\n",
    "#index_driver: s3aio_index\n",
    "\n",
    "execution_engine.use_s3: False\n",
    "```"
   ]
  },
  {
   "cell_type": "markdown",
   "metadata": {},
   "source": [
    "`~/.antares`\n",
    "\n",
    "```\n",
    "# Django settings\n",
    "SECRET_KEY=<key>\n",
    "DEBUG=True\n",
    "DJANGO_LOG_LEVEL=DEBUG\n",
    "ALLOWED_HOSTS=\n",
    "# Database\n",
    "DATABASE_NAME=antares_datacube\n",
    "DATABASE_USER=postgres\n",
    "DATABASE_PASSWORD=postgres\n",
    "DATABASE_HOST=172.17.0.61 #check this with docker inspect postgresql-local|grep IPA\n",
    "DATABASE_PORT=5432\n",
    "# Datacube\n",
    "SERIALIZED_OBJECTS_DIR=/root/datacube_ingest/serialized_objects/\n",
    "INGESTION_PATH=/root/datacube_ingest\n",
    "#DRIVER=s3aio\n",
    "DRIVER='NetCDF CF'\n",
    "#INGESTION_BUCKET=datacube-s2-jalisco-test\n",
    "# Query and download\n",
    "USGS_USER=<username>\n",
    "USGS_PASSWORD=<password>\n",
    "SCIHUB_USER=\n",
    "SCIHUB_PASSWORD=\n",
    "# Misc\n",
    "BIS_LICENSE=<license>\n",
    "TEMP_DIR=/shared_volume/temp\n",
    "#SEGMENTATION_BUCKET=<name of bucket>\n",
    "\n",
    "```"
   ]
  },
  {
   "cell_type": "markdown",
   "metadata": {},
   "source": [
    "Install antares\n",
    "\n",
    "`pip3 install --user git+https://github.com/CONABIO/antares3.git@develop`"
   ]
  },
  {
   "cell_type": "markdown",
   "metadata": {},
   "source": [
    "Init antares and datacube:\n",
    "\n",
    "```\n",
    "~/.local/bin/antares init\n",
    "datacube -v system init\n",
    "```\n"
   ]
  },
  {
   "cell_type": "markdown",
   "metadata": {},
   "source": [
    "**Create spatial indexes:**\n",
    "\n",
    "```\n",
    "apt-get install postgresql-client\n",
    "psql -h 172.17.0.61 -d antares_datacube -U postgres\n",
    "CREATE INDEX madmex_predictobject_gix ON public.madmex_predictobject USING GIST (the_geom);\n",
    "CREATE INDEX madmex_trainobject_gix ON public.madmex_trainobject USING GIST (the_geom);\n",
    "```"
   ]
  },
  {
   "cell_type": "markdown",
   "metadata": {},
   "source": [
    "**Check:**\n",
    "\n",
    "`datacube -v system check`"
   ]
  },
  {
   "cell_type": "markdown",
   "metadata": {},
   "source": [
    "**There are some notes that could be followed [Notes](https://github.com/CONABIO/antares3-docker/tree/master/postgresql/local_deployment#note) for docker container of postgresql**"
   ]
  }
 ],
 "metadata": {
  "kernelspec": {
   "display_name": "Python 3",
   "language": "python",
   "name": "python3"
  },
  "language_info": {
   "codemirror_mode": {
    "name": "ipython",
    "version": 3
   },
   "file_extension": ".py",
   "mimetype": "text/x-python",
   "name": "python",
   "nbconvert_exporter": "python",
   "pygments_lexer": "ipython3",
   "version": "3.7.3"
  }
 },
 "nbformat": 4,
 "nbformat_minor": 4
}
