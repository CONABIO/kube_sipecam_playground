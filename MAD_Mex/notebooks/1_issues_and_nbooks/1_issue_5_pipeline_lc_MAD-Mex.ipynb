{
 "cells": [
  {
   "cell_type": "code",
   "execution_count": 2,
   "metadata": {},
   "outputs": [],
   "source": [
    "##if using django 3.0 set:\n",
    "\n",
    "#import os\n",
    "#os.environ.setdefault(\"DJANGO_ALLOW_ASYNC_UNSAFE\", \"true\")\n",
    "\n",
    "##check:\n",
    "#%env"
   ]
  },
  {
   "cell_type": "code",
   "execution_count": 1,
   "metadata": {},
   "outputs": [
    {
     "data": {
      "text/plain": [
       "'true'"
      ]
     },
     "execution_count": 1,
     "metadata": {},
     "output_type": "execute_result"
    }
   ],
   "source": [
    "import os\n",
    "os.environ.setdefault(\"DJANGO_ALLOW_ASYNC_UNSAFE\", \"true\")"
   ]
  },
  {
   "cell_type": "markdown",
   "metadata": {},
   "source": [
    "# Example of model fit, predict* and conversion to raster using API of antares3\n",
    "\n",
    "*Prediction is object based."
   ]
  },
  {
   "cell_type": "markdown",
   "metadata": {},
   "source": [
    "**Will use an already ingested and processed Landsat8 data via antares3**"
   ]
  },
  {
   "cell_type": "markdown",
   "metadata": {},
   "source": [
    "## Some imports"
   ]
  },
  {
   "cell_type": "code",
   "execution_count": 2,
   "metadata": {},
   "outputs": [],
   "source": [
    "import sys\n",
    "import os\n",
    "import json\n",
    "\n",
    "import matplotlib\n",
    "from matplotlib.patches import Patch\n",
    "from matplotlib import pyplot as plt\n",
    "import numpy as np\n",
    "from shapely.geometry import Point\n",
    "import rasterio\n",
    "import dill\n",
    "import geopandas as gpd\n",
    "import fiona\n",
    "from affine import Affine\n",
    "from rasterio.features import rasterize"
   ]
  },
  {
   "cell_type": "code",
   "execution_count": 3,
   "metadata": {},
   "outputs": [],
   "source": [
    "sys.__stdout__ = sys.stdout "
   ]
  },
  {
   "cell_type": "code",
   "execution_count": 4,
   "metadata": {},
   "outputs": [],
   "source": [
    "from datacube.api import GridWorkflow\n",
    "\n",
    "from madmex.util.db import get_cmap_from_scheme\n",
    "from madmex.models import Tag\n",
    "from madmex.overlay.extractions import zonal_stats_xarray\n",
    "from madmex.io.vector_db import VectorDb\n",
    "from madmex.wrappers import gwf_query\n",
    "from madmex.modeling.supervised.xgb import Model\n",
    "from madmex.models import Tag\n",
    "from madmex.overlay.extractions import zonal_stats_xarray\n",
    "from madmex.util import randomword\n",
    "from django.contrib.gis.geos.geometry import GEOSGeometry\n",
    "from madmex.models import PredictObject"
   ]
  },
  {
   "cell_type": "code",
   "execution_count": 5,
   "metadata": {},
   "outputs": [],
   "source": [
    "sys.stdout = sys.__stdout__"
   ]
  },
  {
   "cell_type": "code",
   "execution_count": 6,
   "metadata": {},
   "outputs": [],
   "source": [
    "path = \"/shared_volume/land_cover_results\""
   ]
  },
  {
   "cell_type": "markdown",
   "metadata": {},
   "source": [
    "## Fit model"
   ]
  },
  {
   "cell_type": "markdown",
   "metadata": {},
   "source": [
    "**Next will use an already product registered in the datacube DB. Query will also use region and date.**"
   ]
  },
  {
   "cell_type": "code",
   "execution_count": 7,
   "metadata": {},
   "outputs": [],
   "source": [
    "name_of_product = 'recipe_chiapas_L8_17' #an already processed L8 data\n",
    "region = 'Chiapas'\n",
    "begin = '2017-01-01'\n",
    "end = '2017-12-31'\n",
    "\n",
    "gwf_kwargs = {'region': region, \n",
    "              'product': name_of_product, \n",
    "              'begin': begin, \n",
    "              'end':end}"
   ]
  },
  {
   "cell_type": "markdown",
   "metadata": {},
   "source": [
    "**Query**"
   ]
  },
  {
   "cell_type": "code",
   "execution_count": 8,
   "metadata": {},
   "outputs": [],
   "source": [
    "iterable = gwf_query(**gwf_kwargs)"
   ]
  },
  {
   "cell_type": "markdown",
   "metadata": {},
   "source": [
    "**Sort list of results of query**"
   ]
  },
  {
   "cell_type": "code",
   "execution_count": 9,
   "metadata": {},
   "outputs": [],
   "source": [
    "list_iter = list(iterable)"
   ]
  },
  {
   "cell_type": "code",
   "execution_count": 10,
   "metadata": {},
   "outputs": [],
   "source": [
    "list_iter_sorted = sorted(list_iter, key = lambda x: (x[0][0], x[0][1]))"
   ]
  },
  {
   "cell_type": "markdown",
   "metadata": {},
   "source": [
    "**Datacube tiles indexes:**"
   ]
  },
  {
   "cell_type": "code",
   "execution_count": 11,
   "metadata": {},
   "outputs": [
    {
     "data": {
      "text/plain": [
       "[(53, -39),\n",
       " (54, -39),\n",
       " (52, -38),\n",
       " (52, -39),\n",
       " (53, -38),\n",
       " (52, -40),\n",
       " (53, -37),\n",
       " (54, -37),\n",
       " (54, -38),\n",
       " (55, -38),\n",
       " (52, -37),\n",
       " (55, -39)]"
      ]
     },
     "execution_count": 11,
     "metadata": {},
     "output_type": "execute_result"
    }
   ],
   "source": [
    "[index[0] for index in list_iter]"
   ]
  },
  {
   "cell_type": "markdown",
   "metadata": {},
   "source": [
    "**Select datacube tile index: (59, -31)**"
   ]
  },
  {
   "cell_type": "code",
   "execution_count": 13,
   "metadata": {},
   "outputs": [],
   "source": [
    "tile = [index for index in list_iter_sorted if index[0] == (54, -38)][0]"
   ]
  },
  {
   "cell_type": "code",
   "execution_count": 14,
   "metadata": {},
   "outputs": [
    {
     "data": {
      "text/plain": [
       "((54, -38),\n",
       " Tile<sources=<xarray.DataArray (time: 1)>\n",
       " array([(Dataset <id=1382945a-7bfe-5d1c-aab7-081d5beaf499 type=recipe_chiapas_L8_17 location=file://shared_volume/datacube_ingest/recipes/recipe_chiapas_L8_17/madmex_003_54_-38_2017-07-02.nc>,)],\n",
       "       dtype=object)\n",
       " Coordinates:\n",
       "   * time     (time) datetime64[ns] 2017-07-02,\n",
       " \tgeobox=GeoBox(1667, 1667, Affine(30.0, 0.0, 3677700.0,\n",
       "        0.0, -30.0, 576350.0), PROJCS[\"unnamed\",GEOGCS[\"WGS 84\",DATUM[\"unknown\",SPHEROID[\"WGS84\",6378137,6556752.3141]],PRIMEM[\"Greenwich\",0],UNIT[\"degree\",0.0174532925199433]],PROJECTION[\"Lambert_Conformal_Conic_2SP\"],PARAMETER[\"standard_parallel_1\",17.5],PARAMETER[\"standard_parallel_2\",29.5],PARAMETER[\"latitude_of_origin\",12],PARAMETER[\"central_meridian\",-102],PARAMETER[\"false_easting\",2500000],PARAMETER[\"false_northing\",0]])>)"
      ]
     },
     "execution_count": 14,
     "metadata": {},
     "output_type": "execute_result"
    }
   ],
   "source": [
    "tile"
   ]
  },
  {
   "cell_type": "markdown",
   "metadata": {},
   "source": [
    "**Load via Grid Workflow API**"
   ]
  },
  {
   "cell_type": "code",
   "execution_count": 15,
   "metadata": {},
   "outputs": [],
   "source": [
    "ds = GridWorkflow.load(tile[1])"
   ]
  },
  {
   "cell_type": "markdown",
   "metadata": {},
   "source": [
    "**Print some info...**"
   ]
  },
  {
   "cell_type": "code",
   "execution_count": 16,
   "metadata": {},
   "outputs": [
    {
     "data": {
      "text/html": [
       "<div><svg style=\"position: absolute; width: 0; height: 0; overflow: hidden\">\n",
       "<defs>\n",
       "<symbol id=\"icon-database\" viewBox=\"0 0 32 32\">\n",
       "<path d=\"M16 0c-8.837 0-16 2.239-16 5v4c0 2.761 7.163 5 16 5s16-2.239 16-5v-4c0-2.761-7.163-5-16-5z\"></path>\n",
       "<path d=\"M16 17c-8.837 0-16-2.239-16-5v6c0 2.761 7.163 5 16 5s16-2.239 16-5v-6c0 2.761-7.163 5-16 5z\"></path>\n",
       "<path d=\"M16 26c-8.837 0-16-2.239-16-5v6c0 2.761 7.163 5 16 5s16-2.239 16-5v-6c0 2.761-7.163 5-16 5z\"></path>\n",
       "</symbol>\n",
       "<symbol id=\"icon-file-text2\" viewBox=\"0 0 32 32\">\n",
       "<path d=\"M28.681 7.159c-0.694-0.947-1.662-2.053-2.724-3.116s-2.169-2.030-3.116-2.724c-1.612-1.182-2.393-1.319-2.841-1.319h-15.5c-1.378 0-2.5 1.121-2.5 2.5v27c0 1.378 1.122 2.5 2.5 2.5h23c1.378 0 2.5-1.122 2.5-2.5v-19.5c0-0.448-0.137-1.23-1.319-2.841zM24.543 5.457c0.959 0.959 1.712 1.825 2.268 2.543h-4.811v-4.811c0.718 0.556 1.584 1.309 2.543 2.268zM28 29.5c0 0.271-0.229 0.5-0.5 0.5h-23c-0.271 0-0.5-0.229-0.5-0.5v-27c0-0.271 0.229-0.5 0.5-0.5 0 0 15.499-0 15.5 0v7c0 0.552 0.448 1 1 1h7v19.5z\"></path>\n",
       "<path d=\"M23 26h-14c-0.552 0-1-0.448-1-1s0.448-1 1-1h14c0.552 0 1 0.448 1 1s-0.448 1-1 1z\"></path>\n",
       "<path d=\"M23 22h-14c-0.552 0-1-0.448-1-1s0.448-1 1-1h14c0.552 0 1 0.448 1 1s-0.448 1-1 1z\"></path>\n",
       "<path d=\"M23 18h-14c-0.552 0-1-0.448-1-1s0.448-1 1-1h14c0.552 0 1 0.448 1 1s-0.448 1-1 1z\"></path>\n",
       "</symbol>\n",
       "</defs>\n",
       "</svg>\n",
       "<style>/* CSS stylesheet for displaying xarray objects in jupyterlab.\n",
       " *\n",
       " */\n",
       "\n",
       ":root {\n",
       "  --xr-font-color0: var(--jp-content-font-color0, rgba(0, 0, 0, 1));\n",
       "  --xr-font-color2: var(--jp-content-font-color2, rgba(0, 0, 0, 0.54));\n",
       "  --xr-font-color3: var(--jp-content-font-color3, rgba(0, 0, 0, 0.38));\n",
       "  --xr-border-color: var(--jp-border-color2, #e0e0e0);\n",
       "  --xr-disabled-color: var(--jp-layout-color3, #bdbdbd);\n",
       "  --xr-background-color: var(--jp-layout-color0, white);\n",
       "  --xr-background-color-row-even: var(--jp-layout-color1, white);\n",
       "  --xr-background-color-row-odd: var(--jp-layout-color2, #eeeeee);\n",
       "}\n",
       "\n",
       "html[theme=dark],\n",
       "body.vscode-dark {\n",
       "  --xr-font-color0: rgba(255, 255, 255, 1);\n",
       "  --xr-font-color2: rgba(255, 255, 255, 0.54);\n",
       "  --xr-font-color3: rgba(255, 255, 255, 0.38);\n",
       "  --xr-border-color: #1F1F1F;\n",
       "  --xr-disabled-color: #515151;\n",
       "  --xr-background-color: #111111;\n",
       "  --xr-background-color-row-even: #111111;\n",
       "  --xr-background-color-row-odd: #313131;\n",
       "}\n",
       "\n",
       ".xr-wrap {\n",
       "  display: block;\n",
       "  min-width: 300px;\n",
       "  max-width: 700px;\n",
       "}\n",
       "\n",
       ".xr-text-repr-fallback {\n",
       "  /* fallback to plain text repr when CSS is not injected (untrusted notebook) */\n",
       "  display: none;\n",
       "}\n",
       "\n",
       ".xr-header {\n",
       "  padding-top: 6px;\n",
       "  padding-bottom: 6px;\n",
       "  margin-bottom: 4px;\n",
       "  border-bottom: solid 1px var(--xr-border-color);\n",
       "}\n",
       "\n",
       ".xr-header > div,\n",
       ".xr-header > ul {\n",
       "  display: inline;\n",
       "  margin-top: 0;\n",
       "  margin-bottom: 0;\n",
       "}\n",
       "\n",
       ".xr-obj-type,\n",
       ".xr-array-name {\n",
       "  margin-left: 2px;\n",
       "  margin-right: 10px;\n",
       "}\n",
       "\n",
       ".xr-obj-type {\n",
       "  color: var(--xr-font-color2);\n",
       "}\n",
       "\n",
       ".xr-sections {\n",
       "  padding-left: 0 !important;\n",
       "  display: grid;\n",
       "  grid-template-columns: 150px auto auto 1fr 20px 20px;\n",
       "}\n",
       "\n",
       ".xr-section-item {\n",
       "  display: contents;\n",
       "}\n",
       "\n",
       ".xr-section-item input {\n",
       "  display: none;\n",
       "}\n",
       "\n",
       ".xr-section-item input + label {\n",
       "  color: var(--xr-disabled-color);\n",
       "}\n",
       "\n",
       ".xr-section-item input:enabled + label {\n",
       "  cursor: pointer;\n",
       "  color: var(--xr-font-color2);\n",
       "}\n",
       "\n",
       ".xr-section-item input:enabled + label:hover {\n",
       "  color: var(--xr-font-color0);\n",
       "}\n",
       "\n",
       ".xr-section-summary {\n",
       "  grid-column: 1;\n",
       "  color: var(--xr-font-color2);\n",
       "  font-weight: 500;\n",
       "}\n",
       "\n",
       ".xr-section-summary > span {\n",
       "  display: inline-block;\n",
       "  padding-left: 0.5em;\n",
       "}\n",
       "\n",
       ".xr-section-summary-in:disabled + label {\n",
       "  color: var(--xr-font-color2);\n",
       "}\n",
       "\n",
       ".xr-section-summary-in + label:before {\n",
       "  display: inline-block;\n",
       "  content: '►';\n",
       "  font-size: 11px;\n",
       "  width: 15px;\n",
       "  text-align: center;\n",
       "}\n",
       "\n",
       ".xr-section-summary-in:disabled + label:before {\n",
       "  color: var(--xr-disabled-color);\n",
       "}\n",
       "\n",
       ".xr-section-summary-in:checked + label:before {\n",
       "  content: '▼';\n",
       "}\n",
       "\n",
       ".xr-section-summary-in:checked + label > span {\n",
       "  display: none;\n",
       "}\n",
       "\n",
       ".xr-section-summary,\n",
       ".xr-section-inline-details {\n",
       "  padding-top: 4px;\n",
       "  padding-bottom: 4px;\n",
       "}\n",
       "\n",
       ".xr-section-inline-details {\n",
       "  grid-column: 2 / -1;\n",
       "}\n",
       "\n",
       ".xr-section-details {\n",
       "  display: none;\n",
       "  grid-column: 1 / -1;\n",
       "  margin-bottom: 5px;\n",
       "}\n",
       "\n",
       ".xr-section-summary-in:checked ~ .xr-section-details {\n",
       "  display: contents;\n",
       "}\n",
       "\n",
       ".xr-array-wrap {\n",
       "  grid-column: 1 / -1;\n",
       "  display: grid;\n",
       "  grid-template-columns: 20px auto;\n",
       "}\n",
       "\n",
       ".xr-array-wrap > label {\n",
       "  grid-column: 1;\n",
       "  vertical-align: top;\n",
       "}\n",
       "\n",
       ".xr-preview {\n",
       "  color: var(--xr-font-color3);\n",
       "}\n",
       "\n",
       ".xr-array-preview,\n",
       ".xr-array-data {\n",
       "  padding: 0 5px !important;\n",
       "  grid-column: 2;\n",
       "}\n",
       "\n",
       ".xr-array-data,\n",
       ".xr-array-in:checked ~ .xr-array-preview {\n",
       "  display: none;\n",
       "}\n",
       "\n",
       ".xr-array-in:checked ~ .xr-array-data,\n",
       ".xr-array-preview {\n",
       "  display: inline-block;\n",
       "}\n",
       "\n",
       ".xr-dim-list {\n",
       "  display: inline-block !important;\n",
       "  list-style: none;\n",
       "  padding: 0 !important;\n",
       "  margin: 0;\n",
       "}\n",
       "\n",
       ".xr-dim-list li {\n",
       "  display: inline-block;\n",
       "  padding: 0;\n",
       "  margin: 0;\n",
       "}\n",
       "\n",
       ".xr-dim-list:before {\n",
       "  content: '(';\n",
       "}\n",
       "\n",
       ".xr-dim-list:after {\n",
       "  content: ')';\n",
       "}\n",
       "\n",
       ".xr-dim-list li:not(:last-child):after {\n",
       "  content: ',';\n",
       "  padding-right: 5px;\n",
       "}\n",
       "\n",
       ".xr-has-index {\n",
       "  font-weight: bold;\n",
       "}\n",
       "\n",
       ".xr-var-list,\n",
       ".xr-var-item {\n",
       "  display: contents;\n",
       "}\n",
       "\n",
       ".xr-var-item > div,\n",
       ".xr-var-item label,\n",
       ".xr-var-item > .xr-var-name span {\n",
       "  background-color: var(--xr-background-color-row-even);\n",
       "  margin-bottom: 0;\n",
       "}\n",
       "\n",
       ".xr-var-item > .xr-var-name:hover span {\n",
       "  padding-right: 5px;\n",
       "}\n",
       "\n",
       ".xr-var-list > li:nth-child(odd) > div,\n",
       ".xr-var-list > li:nth-child(odd) > label,\n",
       ".xr-var-list > li:nth-child(odd) > .xr-var-name span {\n",
       "  background-color: var(--xr-background-color-row-odd);\n",
       "}\n",
       "\n",
       ".xr-var-name {\n",
       "  grid-column: 1;\n",
       "}\n",
       "\n",
       ".xr-var-dims {\n",
       "  grid-column: 2;\n",
       "}\n",
       "\n",
       ".xr-var-dtype {\n",
       "  grid-column: 3;\n",
       "  text-align: right;\n",
       "  color: var(--xr-font-color2);\n",
       "}\n",
       "\n",
       ".xr-var-preview {\n",
       "  grid-column: 4;\n",
       "}\n",
       "\n",
       ".xr-var-name,\n",
       ".xr-var-dims,\n",
       ".xr-var-dtype,\n",
       ".xr-preview,\n",
       ".xr-attrs dt {\n",
       "  white-space: nowrap;\n",
       "  overflow: hidden;\n",
       "  text-overflow: ellipsis;\n",
       "  padding-right: 10px;\n",
       "}\n",
       "\n",
       ".xr-var-name:hover,\n",
       ".xr-var-dims:hover,\n",
       ".xr-var-dtype:hover,\n",
       ".xr-attrs dt:hover {\n",
       "  overflow: visible;\n",
       "  width: auto;\n",
       "  z-index: 1;\n",
       "}\n",
       "\n",
       ".xr-var-attrs,\n",
       ".xr-var-data {\n",
       "  display: none;\n",
       "  background-color: var(--xr-background-color) !important;\n",
       "  padding-bottom: 5px !important;\n",
       "}\n",
       "\n",
       ".xr-var-attrs-in:checked ~ .xr-var-attrs,\n",
       ".xr-var-data-in:checked ~ .xr-var-data {\n",
       "  display: block;\n",
       "}\n",
       "\n",
       ".xr-var-data > table {\n",
       "  float: right;\n",
       "}\n",
       "\n",
       ".xr-var-name span,\n",
       ".xr-var-data,\n",
       ".xr-attrs {\n",
       "  padding-left: 25px !important;\n",
       "}\n",
       "\n",
       ".xr-attrs,\n",
       ".xr-var-attrs,\n",
       ".xr-var-data {\n",
       "  grid-column: 1 / -1;\n",
       "}\n",
       "\n",
       "dl.xr-attrs {\n",
       "  padding: 0;\n",
       "  margin: 0;\n",
       "  display: grid;\n",
       "  grid-template-columns: 125px auto;\n",
       "}\n",
       "\n",
       ".xr-attrs dt, dd {\n",
       "  padding: 0;\n",
       "  margin: 0;\n",
       "  float: left;\n",
       "  padding-right: 10px;\n",
       "  width: auto;\n",
       "}\n",
       "\n",
       ".xr-attrs dt {\n",
       "  font-weight: normal;\n",
       "  grid-column: 1;\n",
       "}\n",
       "\n",
       ".xr-attrs dt:hover span {\n",
       "  display: inline-block;\n",
       "  background: var(--xr-background-color);\n",
       "  padding-right: 10px;\n",
       "}\n",
       "\n",
       ".xr-attrs dd {\n",
       "  grid-column: 2;\n",
       "  white-space: pre-wrap;\n",
       "  word-break: break-all;\n",
       "}\n",
       "\n",
       ".xr-icon-database,\n",
       ".xr-icon-file-text2 {\n",
       "  display: inline-block;\n",
       "  vertical-align: middle;\n",
       "  width: 1em;\n",
       "  height: 1.5em !important;\n",
       "  stroke-width: 0;\n",
       "  stroke: currentColor;\n",
       "  fill: currentColor;\n",
       "}\n",
       "</style><pre class='xr-text-repr-fallback'>&lt;xarray.Dataset&gt;\n",
       "Dimensions:     (time: 1, x: 1667, y: 1667)\n",
       "Coordinates:\n",
       "  * time        (time) datetime64[ns] 2017-07-02\n",
       "  * y           (y) float64 5.763e+05 5.763e+05 ... 5.264e+05 5.264e+05\n",
       "  * x           (x) float64 3.678e+06 3.678e+06 ... 3.728e+06 3.728e+06\n",
       "Data variables:\n",
       "    blue_mean   (time, y, x) int16 311 346 357 362 350 ... 318 315 320 338 381\n",
       "    green_mean  (time, y, x) int16 636 672 680 667 620 ... 667 680 689 704 726\n",
       "    red_mean    (time, y, x) int16 488 551 586 602 574 ... 653 645 651 662 707\n",
       "    nir_mean    (time, y, x) int16 3729 3629 3443 3257 ... 3195 3236 3283 3447\n",
       "    swir1_mean  (time, y, x) int16 2499 2674 2677 2688 ... 2122 2163 2322 2673\n",
       "    swir2_mean  (time, y, x) int16 1209 1358 1420 1453 ... 1069 1086 1172 1390\n",
       "    ndvi_mean   (time, y, x) int16 7628 7311 7026 6821 ... 6595 6604 6615 6551\n",
       "    ndmi_mean   (time, y, x) int16 1965 1518 1251 950 ... 2040 1998 1733 1297\n",
       "    ndvi_max    (time, y, x) int16 8459 8277 8203 8001 ... 7685 7583 7509 7721\n",
       "    ndvi_min    (time, y, x) int16 5980 6065 5796 5567 ... 5105 5183 5303 4887\n",
       "    ndmi_max    (time, y, x) int16 3581 3306 3412 2701 ... 3444 3388 2975 2605\n",
       "    ndmi_min    (time, y, x) int16 -332 -520 -312 -515 -1254 ... -36 67 10 -928\n",
       "    elevation   (time, y, x) int16 164 164 164 159 159 ... 160 160 160 156 156\n",
       "    slope       (time, y, x) float32 1.6145442 1.6145442 ... 1.3702621 1.3702621\n",
       "    aspect      (time, y, x) float32 73.30076 73.30076 ... 163.61046 163.61046\n",
       "Attributes:\n",
       "    crs:      PROJCS[&quot;unnamed&quot;,GEOGCS[&quot;WGS 84&quot;,DATUM[&quot;unknown&quot;,SPHEROID[&quot;WGS8...</pre><div class='xr-wrap' hidden><div class='xr-header'><div class='xr-obj-type'>xarray.Dataset</div></div><ul class='xr-sections'><li class='xr-section-item'><input id='section-00d6f0be-526d-4637-b50c-034c8dbd97bd' class='xr-section-summary-in' type='checkbox' disabled ><label for='section-00d6f0be-526d-4637-b50c-034c8dbd97bd' class='xr-section-summary'  title='Expand/collapse section'>Dimensions:</label><div class='xr-section-inline-details'><ul class='xr-dim-list'><li><span class='xr-has-index'>time</span>: 1</li><li><span class='xr-has-index'>x</span>: 1667</li><li><span class='xr-has-index'>y</span>: 1667</li></ul></div><div class='xr-section-details'></div></li><li class='xr-section-item'><input id='section-ee11e9d5-8f8f-4e18-a7c1-87f4a9e89fc8' class='xr-section-summary-in' type='checkbox'  checked><label for='section-ee11e9d5-8f8f-4e18-a7c1-87f4a9e89fc8' class='xr-section-summary' >Coordinates: <span>(3)</span></label><div class='xr-section-inline-details'></div><div class='xr-section-details'><ul class='xr-var-list'><li class='xr-var-item'><div class='xr-var-name'><span class='xr-has-index'>time</span></div><div class='xr-var-dims'>(time)</div><div class='xr-var-dtype'>datetime64[ns]</div><div class='xr-var-preview xr-preview'>2017-07-02</div><input id='attrs-845afbb4-88f6-459a-a8fe-1aad67439562' class='xr-var-attrs-in' type='checkbox' ><label for='attrs-845afbb4-88f6-459a-a8fe-1aad67439562' title='Show/Hide attributes'><svg class='icon xr-icon-file-text2'><use xlink:href='#icon-file-text2'></use></svg></label><input id='data-700b8d0f-c34c-4278-818f-cb2f0043b3ce' class='xr-var-data-in' type='checkbox'><label for='data-700b8d0f-c34c-4278-818f-cb2f0043b3ce' title='Show/Hide data repr'><svg class='icon xr-icon-database'><use xlink:href='#icon-database'></use></svg></label><div class='xr-var-attrs'><dl class='xr-attrs'><dt><span>units :</span></dt><dd>seconds since 1970-01-01 00:00:00</dd></dl></div><div class='xr-var-data'><pre>array([&#x27;2017-07-02T00:00:00.000000000&#x27;], dtype=&#x27;datetime64[ns]&#x27;)</pre></div></li><li class='xr-var-item'><div class='xr-var-name'><span class='xr-has-index'>y</span></div><div class='xr-var-dims'>(y)</div><div class='xr-var-dtype'>float64</div><div class='xr-var-preview xr-preview'>5.763e+05 5.763e+05 ... 5.264e+05</div><input id='attrs-0318f07b-6bf5-4a63-83f8-73d0b0f50b3d' class='xr-var-attrs-in' type='checkbox' ><label for='attrs-0318f07b-6bf5-4a63-83f8-73d0b0f50b3d' title='Show/Hide attributes'><svg class='icon xr-icon-file-text2'><use xlink:href='#icon-file-text2'></use></svg></label><input id='data-b097ec9a-0d30-4929-8fd2-6f2e734fbd79' class='xr-var-data-in' type='checkbox'><label for='data-b097ec9a-0d30-4929-8fd2-6f2e734fbd79' title='Show/Hide data repr'><svg class='icon xr-icon-database'><use xlink:href='#icon-database'></use></svg></label><div class='xr-var-attrs'><dl class='xr-attrs'><dt><span>units :</span></dt><dd>degree</dd></dl></div><div class='xr-var-data'><pre>array([576335., 576305., 576275., ..., 526415., 526385., 526355.])</pre></div></li><li class='xr-var-item'><div class='xr-var-name'><span class='xr-has-index'>x</span></div><div class='xr-var-dims'>(x)</div><div class='xr-var-dtype'>float64</div><div class='xr-var-preview xr-preview'>3.678e+06 3.678e+06 ... 3.728e+06</div><input id='attrs-a3317cdc-9f4a-408a-8d7d-84f4d01ae797' class='xr-var-attrs-in' type='checkbox' ><label for='attrs-a3317cdc-9f4a-408a-8d7d-84f4d01ae797' title='Show/Hide attributes'><svg class='icon xr-icon-file-text2'><use xlink:href='#icon-file-text2'></use></svg></label><input id='data-fe46b11a-b573-4358-9e04-0e3268bf2cb6' class='xr-var-data-in' type='checkbox'><label for='data-fe46b11a-b573-4358-9e04-0e3268bf2cb6' title='Show/Hide data repr'><svg class='icon xr-icon-database'><use xlink:href='#icon-database'></use></svg></label><div class='xr-var-attrs'><dl class='xr-attrs'><dt><span>units :</span></dt><dd>degree</dd></dl></div><div class='xr-var-data'><pre>array([3677715., 3677745., 3677775., ..., 3727635., 3727665., 3727695.])</pre></div></li></ul></div></li><li class='xr-section-item'><input id='section-eb4a9de1-e08e-427b-87d5-efdee4148eec' class='xr-section-summary-in' type='checkbox'  ><label for='section-eb4a9de1-e08e-427b-87d5-efdee4148eec' class='xr-section-summary' >Data variables: <span>(15)</span></label><div class='xr-section-inline-details'></div><div class='xr-section-details'><ul class='xr-var-list'><li class='xr-var-item'><div class='xr-var-name'><span>blue_mean</span></div><div class='xr-var-dims'>(time, y, x)</div><div class='xr-var-dtype'>int16</div><div class='xr-var-preview xr-preview'>311 346 357 362 ... 315 320 338 381</div><input id='attrs-3357b96d-5f5a-4ae9-9f24-bcd4e7b1cdbe' class='xr-var-attrs-in' type='checkbox' ><label for='attrs-3357b96d-5f5a-4ae9-9f24-bcd4e7b1cdbe' title='Show/Hide attributes'><svg class='icon xr-icon-file-text2'><use xlink:href='#icon-file-text2'></use></svg></label><input id='data-ef3a7f0c-eec6-46a4-9b4e-a0185ee393bb' class='xr-var-data-in' type='checkbox'><label for='data-ef3a7f0c-eec6-46a4-9b4e-a0185ee393bb' title='Show/Hide data repr'><svg class='icon xr-icon-database'><use xlink:href='#icon-database'></use></svg></label><div class='xr-var-attrs'><dl class='xr-attrs'><dt><span>units :</span></dt><dd>reflectance</dd><dt><span>nodata :</span></dt><dd>-9999</dd><dt><span>crs :</span></dt><dd>PROJCS[&quot;unnamed&quot;,GEOGCS[&quot;WGS 84&quot;,DATUM[&quot;unknown&quot;,SPHEROID[&quot;WGS84&quot;,6378137,6556752.3141]],PRIMEM[&quot;Greenwich&quot;,0],UNIT[&quot;degree&quot;,0.0174532925199433]],PROJECTION[&quot;Lambert_Conformal_Conic_2SP&quot;],PARAMETER[&quot;standard_parallel_1&quot;,17.5],PARAMETER[&quot;standard_parallel_2&quot;,29.5],PARAMETER[&quot;latitude_of_origin&quot;,12],PARAMETER[&quot;central_meridian&quot;,-102],PARAMETER[&quot;false_easting&quot;,2500000],PARAMETER[&quot;false_northing&quot;,0]]</dd></dl></div><div class='xr-var-data'><pre>array([[[311, 346, 357, ..., 418, 425, 451],\n",
       "        [321, 329, 355, ..., 451, 421, 431],\n",
       "        [295, 287, 343, ..., 466, 468, 425],\n",
       "        ...,\n",
       "        [248, 266, 256, ..., 374, 396, 415],\n",
       "        [249, 261, 250, ..., 338, 379, 415],\n",
       "        [247, 258, 239, ..., 320, 338, 381]]], dtype=int16)</pre></div></li><li class='xr-var-item'><div class='xr-var-name'><span>green_mean</span></div><div class='xr-var-dims'>(time, y, x)</div><div class='xr-var-dtype'>int16</div><div class='xr-var-preview xr-preview'>636 672 680 667 ... 680 689 704 726</div><input id='attrs-e5aa516f-4aad-4c70-98ae-fb20d4faf50e' class='xr-var-attrs-in' type='checkbox' ><label for='attrs-e5aa516f-4aad-4c70-98ae-fb20d4faf50e' title='Show/Hide attributes'><svg class='icon xr-icon-file-text2'><use xlink:href='#icon-file-text2'></use></svg></label><input id='data-bb21fe79-4918-4b9f-a27e-092010b0f291' class='xr-var-data-in' type='checkbox'><label for='data-bb21fe79-4918-4b9f-a27e-092010b0f291' title='Show/Hide data repr'><svg class='icon xr-icon-database'><use xlink:href='#icon-database'></use></svg></label><div class='xr-var-attrs'><dl class='xr-attrs'><dt><span>units :</span></dt><dd>reflectance</dd><dt><span>nodata :</span></dt><dd>-9999</dd><dt><span>crs :</span></dt><dd>PROJCS[&quot;unnamed&quot;,GEOGCS[&quot;WGS 84&quot;,DATUM[&quot;unknown&quot;,SPHEROID[&quot;WGS84&quot;,6378137,6556752.3141]],PRIMEM[&quot;Greenwich&quot;,0],UNIT[&quot;degree&quot;,0.0174532925199433]],PROJECTION[&quot;Lambert_Conformal_Conic_2SP&quot;],PARAMETER[&quot;standard_parallel_1&quot;,17.5],PARAMETER[&quot;standard_parallel_2&quot;,29.5],PARAMETER[&quot;latitude_of_origin&quot;,12],PARAMETER[&quot;central_meridian&quot;,-102],PARAMETER[&quot;false_easting&quot;,2500000],PARAMETER[&quot;false_northing&quot;,0]]</dd></dl></div><div class='xr-var-data'><pre>array([[[636, 672, 680, ..., 886, 899, 896],\n",
       "        [665, 662, 664, ..., 921, 900, 885],\n",
       "        [624, 615, 639, ..., 913, 912, 892],\n",
       "        ...,\n",
       "        [507, 550, 536, ..., 779, 811, 831],\n",
       "        [485, 530, 496, ..., 725, 778, 813],\n",
       "        [502, 507, 486, ..., 689, 704, 726]]], dtype=int16)</pre></div></li><li class='xr-var-item'><div class='xr-var-name'><span>red_mean</span></div><div class='xr-var-dims'>(time, y, x)</div><div class='xr-var-dtype'>int16</div><div class='xr-var-preview xr-preview'>488 551 586 602 ... 645 651 662 707</div><input id='attrs-05efc96b-4593-44d2-9962-b3cacb89ba20' class='xr-var-attrs-in' type='checkbox' ><label for='attrs-05efc96b-4593-44d2-9962-b3cacb89ba20' title='Show/Hide attributes'><svg class='icon xr-icon-file-text2'><use xlink:href='#icon-file-text2'></use></svg></label><input id='data-0f58b5cf-5b16-48e0-8a95-6b6c914ab92e' class='xr-var-data-in' type='checkbox'><label for='data-0f58b5cf-5b16-48e0-8a95-6b6c914ab92e' title='Show/Hide data repr'><svg class='icon xr-icon-database'><use xlink:href='#icon-database'></use></svg></label><div class='xr-var-attrs'><dl class='xr-attrs'><dt><span>units :</span></dt><dd>reflectance</dd><dt><span>nodata :</span></dt><dd>-9999</dd><dt><span>crs :</span></dt><dd>PROJCS[&quot;unnamed&quot;,GEOGCS[&quot;WGS 84&quot;,DATUM[&quot;unknown&quot;,SPHEROID[&quot;WGS84&quot;,6378137,6556752.3141]],PRIMEM[&quot;Greenwich&quot;,0],UNIT[&quot;degree&quot;,0.0174532925199433]],PROJECTION[&quot;Lambert_Conformal_Conic_2SP&quot;],PARAMETER[&quot;standard_parallel_1&quot;,17.5],PARAMETER[&quot;standard_parallel_2&quot;,29.5],PARAMETER[&quot;latitude_of_origin&quot;,12],PARAMETER[&quot;central_meridian&quot;,-102],PARAMETER[&quot;false_easting&quot;,2500000],PARAMETER[&quot;false_northing&quot;,0]]</dd></dl></div><div class='xr-var-data'><pre>array([[[488, 551, 586, ..., 929, 921, 916],\n",
       "        [525, 534, 555, ..., 964, 923, 889],\n",
       "        [480, 456, 517, ..., 972, 952, 933],\n",
       "        ...,\n",
       "        [278, 309, 301, ..., 741, 766, 771],\n",
       "        [262, 284, 272, ..., 683, 743, 760],\n",
       "        [271, 280, 270, ..., 651, 662, 707]]], dtype=int16)</pre></div></li><li class='xr-var-item'><div class='xr-var-name'><span>nir_mean</span></div><div class='xr-var-dims'>(time, y, x)</div><div class='xr-var-dtype'>int16</div><div class='xr-var-preview xr-preview'>3729 3629 3443 ... 3236 3283 3447</div><input id='attrs-0174d02f-9796-4cac-88b9-cebc377fba41' class='xr-var-attrs-in' type='checkbox' ><label for='attrs-0174d02f-9796-4cac-88b9-cebc377fba41' title='Show/Hide attributes'><svg class='icon xr-icon-file-text2'><use xlink:href='#icon-file-text2'></use></svg></label><input id='data-c89579ce-c6a4-44b4-8040-f2d4b435bb78' class='xr-var-data-in' type='checkbox'><label for='data-c89579ce-c6a4-44b4-8040-f2d4b435bb78' title='Show/Hide data repr'><svg class='icon xr-icon-database'><use xlink:href='#icon-database'></use></svg></label><div class='xr-var-attrs'><dl class='xr-attrs'><dt><span>units :</span></dt><dd>reflectance</dd><dt><span>nodata :</span></dt><dd>-9999</dd><dt><span>crs :</span></dt><dd>PROJCS[&quot;unnamed&quot;,GEOGCS[&quot;WGS 84&quot;,DATUM[&quot;unknown&quot;,SPHEROID[&quot;WGS84&quot;,6378137,6556752.3141]],PRIMEM[&quot;Greenwich&quot;,0],UNIT[&quot;degree&quot;,0.0174532925199433]],PROJECTION[&quot;Lambert_Conformal_Conic_2SP&quot;],PARAMETER[&quot;standard_parallel_1&quot;,17.5],PARAMETER[&quot;standard_parallel_2&quot;,29.5],PARAMETER[&quot;latitude_of_origin&quot;,12],PARAMETER[&quot;central_meridian&quot;,-102],PARAMETER[&quot;false_easting&quot;,2500000],PARAMETER[&quot;false_northing&quot;,0]]</dd></dl></div><div class='xr-var-data'><pre>array([[[3729, 3629, 3443, ..., 3456, 3496, 3440],\n",
       "        [3568, 3516, 3338, ..., 3459, 3502, 3489],\n",
       "        [3334, 3530, 3340, ..., 3307, 3384, 3456],\n",
       "        ...,\n",
       "        [3863, 4137, 4101, ..., 3256, 3222, 3293],\n",
       "        [3819, 4198, 3872, ..., 3280, 3215, 3416],\n",
       "        [4035, 4007, 3819, ..., 3236, 3283, 3447]]], dtype=int16)</pre></div></li><li class='xr-var-item'><div class='xr-var-name'><span>swir1_mean</span></div><div class='xr-var-dims'>(time, y, x)</div><div class='xr-var-dtype'>int16</div><div class='xr-var-preview xr-preview'>2499 2674 2677 ... 2163 2322 2673</div><input id='attrs-ab174b36-4812-4014-9903-d87127a49197' class='xr-var-attrs-in' type='checkbox' ><label for='attrs-ab174b36-4812-4014-9903-d87127a49197' title='Show/Hide attributes'><svg class='icon xr-icon-file-text2'><use xlink:href='#icon-file-text2'></use></svg></label><input id='data-2a05035f-4e2c-436d-8e87-e5a40398aecf' class='xr-var-data-in' type='checkbox'><label for='data-2a05035f-4e2c-436d-8e87-e5a40398aecf' title='Show/Hide data repr'><svg class='icon xr-icon-database'><use xlink:href='#icon-database'></use></svg></label><div class='xr-var-attrs'><dl class='xr-attrs'><dt><span>units :</span></dt><dd>reflectance</dd><dt><span>nodata :</span></dt><dd>-9999</dd><dt><span>crs :</span></dt><dd>PROJCS[&quot;unnamed&quot;,GEOGCS[&quot;WGS 84&quot;,DATUM[&quot;unknown&quot;,SPHEROID[&quot;WGS84&quot;,6378137,6556752.3141]],PRIMEM[&quot;Greenwich&quot;,0],UNIT[&quot;degree&quot;,0.0174532925199433]],PROJECTION[&quot;Lambert_Conformal_Conic_2SP&quot;],PARAMETER[&quot;standard_parallel_1&quot;,17.5],PARAMETER[&quot;standard_parallel_2&quot;,29.5],PARAMETER[&quot;latitude_of_origin&quot;,12],PARAMETER[&quot;central_meridian&quot;,-102],PARAMETER[&quot;false_easting&quot;,2500000],PARAMETER[&quot;false_northing&quot;,0]]</dd></dl></div><div class='xr-var-data'><pre>array([[[2499, 2674, 2677, ..., 3152, 3185, 3154],\n",
       "        [2529, 2579, 2561, ..., 3231, 3169, 3122],\n",
       "        [2317, 2214, 2355, ..., 3289, 3274, 3178],\n",
       "        ...,\n",
       "        [1667, 1811, 1828, ..., 2555, 2663, 2716],\n",
       "        [1624, 1794, 1689, ..., 2220, 2532, 2720],\n",
       "        [1723, 1732, 1663, ..., 2163, 2322, 2673]]], dtype=int16)</pre></div></li><li class='xr-var-item'><div class='xr-var-name'><span>swir2_mean</span></div><div class='xr-var-dims'>(time, y, x)</div><div class='xr-var-dtype'>int16</div><div class='xr-var-preview xr-preview'>1209 1358 1420 ... 1086 1172 1390</div><input id='attrs-3ab8add9-8bd4-449a-a91f-ed5257604136' class='xr-var-attrs-in' type='checkbox' ><label for='attrs-3ab8add9-8bd4-449a-a91f-ed5257604136' title='Show/Hide attributes'><svg class='icon xr-icon-file-text2'><use xlink:href='#icon-file-text2'></use></svg></label><input id='data-342aedaa-ae06-4813-9edd-cfabbe783718' class='xr-var-data-in' type='checkbox'><label for='data-342aedaa-ae06-4813-9edd-cfabbe783718' title='Show/Hide data repr'><svg class='icon xr-icon-database'><use xlink:href='#icon-database'></use></svg></label><div class='xr-var-attrs'><dl class='xr-attrs'><dt><span>units :</span></dt><dd>reflectance</dd><dt><span>nodata :</span></dt><dd>-9999</dd><dt><span>crs :</span></dt><dd>PROJCS[&quot;unnamed&quot;,GEOGCS[&quot;WGS 84&quot;,DATUM[&quot;unknown&quot;,SPHEROID[&quot;WGS84&quot;,6378137,6556752.3141]],PRIMEM[&quot;Greenwich&quot;,0],UNIT[&quot;degree&quot;,0.0174532925199433]],PROJECTION[&quot;Lambert_Conformal_Conic_2SP&quot;],PARAMETER[&quot;standard_parallel_1&quot;,17.5],PARAMETER[&quot;standard_parallel_2&quot;,29.5],PARAMETER[&quot;latitude_of_origin&quot;,12],PARAMETER[&quot;central_meridian&quot;,-102],PARAMETER[&quot;false_easting&quot;,2500000],PARAMETER[&quot;false_northing&quot;,0]]</dd></dl></div><div class='xr-var-data'><pre>array([[[1209, 1358, 1420, ..., 1760, 1755, 1748],\n",
       "        [1242, 1300, 1355, ..., 1828, 1747, 1710],\n",
       "        [1130, 1098, 1233, ..., 1900, 1884, 1769],\n",
       "        ...,\n",
       "        [ 656,  720,  730, ..., 1294, 1367, 1387],\n",
       "        [ 625,  698,  669, ..., 1119, 1297, 1409],\n",
       "        [ 669,  682,  659, ..., 1086, 1172, 1390]]], dtype=int16)</pre></div></li><li class='xr-var-item'><div class='xr-var-name'><span>ndvi_mean</span></div><div class='xr-var-dims'>(time, y, x)</div><div class='xr-var-dtype'>int16</div><div class='xr-var-preview xr-preview'>7628 7311 7026 ... 6604 6615 6551</div><input id='attrs-553c106e-3652-4cb5-bc1c-f55d243c65a4' class='xr-var-attrs-in' type='checkbox' ><label for='attrs-553c106e-3652-4cb5-bc1c-f55d243c65a4' title='Show/Hide attributes'><svg class='icon xr-icon-file-text2'><use xlink:href='#icon-file-text2'></use></svg></label><input id='data-9d2c2acc-c63d-4aee-a320-92be7288eef3' class='xr-var-data-in' type='checkbox'><label for='data-9d2c2acc-c63d-4aee-a320-92be7288eef3' title='Show/Hide data repr'><svg class='icon xr-icon-database'><use xlink:href='#icon-database'></use></svg></label><div class='xr-var-attrs'><dl class='xr-attrs'><dt><span>units :</span></dt><dd>unitless</dd><dt><span>nodata :</span></dt><dd>-9999</dd><dt><span>crs :</span></dt><dd>PROJCS[&quot;unnamed&quot;,GEOGCS[&quot;WGS 84&quot;,DATUM[&quot;unknown&quot;,SPHEROID[&quot;WGS84&quot;,6378137,6556752.3141]],PRIMEM[&quot;Greenwich&quot;,0],UNIT[&quot;degree&quot;,0.0174532925199433]],PROJECTION[&quot;Lambert_Conformal_Conic_2SP&quot;],PARAMETER[&quot;standard_parallel_1&quot;,17.5],PARAMETER[&quot;standard_parallel_2&quot;,29.5],PARAMETER[&quot;latitude_of_origin&quot;,12],PARAMETER[&quot;central_meridian&quot;,-102],PARAMETER[&quot;false_easting&quot;,2500000],PARAMETER[&quot;false_northing&quot;,0]]</dd></dl></div><div class='xr-var-data'><pre>array([[[7628, 7311, 7026, ..., 5716, 5773, 5728],\n",
       "        [7408, 7342, 7115, ..., 5590, 5776, 5864],\n",
       "        [7495, 7668, 7280, ..., 5417, 5562, 5700],\n",
       "        ...,\n",
       "        [8655, 8612, 8637, ..., 6268, 6140, 6186],\n",
       "        [8722, 8734, 8693, ..., 6513, 6227, 6318],\n",
       "        [8741, 8698, 8691, ..., 6604, 6615, 6551]]], dtype=int16)</pre></div></li><li class='xr-var-item'><div class='xr-var-name'><span>ndmi_mean</span></div><div class='xr-var-dims'>(time, y, x)</div><div class='xr-var-dtype'>int16</div><div class='xr-var-preview xr-preview'>1965 1518 1251 ... 1998 1733 1297</div><input id='attrs-57180c19-56c8-4539-86a9-727f6aeaaae4' class='xr-var-attrs-in' type='checkbox' ><label for='attrs-57180c19-56c8-4539-86a9-727f6aeaaae4' title='Show/Hide attributes'><svg class='icon xr-icon-file-text2'><use xlink:href='#icon-file-text2'></use></svg></label><input id='data-4929a960-8b65-4339-9ed4-be4497934dd8' class='xr-var-data-in' type='checkbox'><label for='data-4929a960-8b65-4339-9ed4-be4497934dd8' title='Show/Hide data repr'><svg class='icon xr-icon-database'><use xlink:href='#icon-database'></use></svg></label><div class='xr-var-attrs'><dl class='xr-attrs'><dt><span>units :</span></dt><dd>unitless</dd><dt><span>nodata :</span></dt><dd>-9999</dd><dt><span>crs :</span></dt><dd>PROJCS[&quot;unnamed&quot;,GEOGCS[&quot;WGS 84&quot;,DATUM[&quot;unknown&quot;,SPHEROID[&quot;WGS84&quot;,6378137,6556752.3141]],PRIMEM[&quot;Greenwich&quot;,0],UNIT[&quot;degree&quot;,0.0174532925199433]],PROJECTION[&quot;Lambert_Conformal_Conic_2SP&quot;],PARAMETER[&quot;standard_parallel_1&quot;,17.5],PARAMETER[&quot;standard_parallel_2&quot;,29.5],PARAMETER[&quot;latitude_of_origin&quot;,12],PARAMETER[&quot;central_meridian&quot;,-102],PARAMETER[&quot;false_easting&quot;,2500000],PARAMETER[&quot;false_northing&quot;,0]]</dd></dl></div><div class='xr-var-data'><pre>array([[[1965, 1518, 1251, ...,  473,  474,  440],\n",
       "        [1726, 1557, 1339, ...,  346,  508,  558],\n",
       "        [1848, 2254, 1706, ...,   39,  170,  433],\n",
       "        ...,\n",
       "        [3966, 3905, 3831, ..., 1212,  958,  960],\n",
       "        [4026, 4003, 3919, ..., 1945, 1203, 1137],\n",
       "        [4011, 3960, 3931, ..., 1998, 1733, 1297]]], dtype=int16)</pre></div></li><li class='xr-var-item'><div class='xr-var-name'><span>ndvi_max</span></div><div class='xr-var-dims'>(time, y, x)</div><div class='xr-var-dtype'>int16</div><div class='xr-var-preview xr-preview'>8459 8277 8203 ... 7583 7509 7721</div><input id='attrs-c79ec49f-9ee8-4dc4-baaa-7fe0a25838e5' class='xr-var-attrs-in' type='checkbox' ><label for='attrs-c79ec49f-9ee8-4dc4-baaa-7fe0a25838e5' title='Show/Hide attributes'><svg class='icon xr-icon-file-text2'><use xlink:href='#icon-file-text2'></use></svg></label><input id='data-490ba99c-58a9-4f70-b7a8-2e7d2d5a5f11' class='xr-var-data-in' type='checkbox'><label for='data-490ba99c-58a9-4f70-b7a8-2e7d2d5a5f11' title='Show/Hide data repr'><svg class='icon xr-icon-database'><use xlink:href='#icon-database'></use></svg></label><div class='xr-var-attrs'><dl class='xr-attrs'><dt><span>units :</span></dt><dd>unitless</dd><dt><span>nodata :</span></dt><dd>-9999</dd><dt><span>crs :</span></dt><dd>PROJCS[&quot;unnamed&quot;,GEOGCS[&quot;WGS 84&quot;,DATUM[&quot;unknown&quot;,SPHEROID[&quot;WGS84&quot;,6378137,6556752.3141]],PRIMEM[&quot;Greenwich&quot;,0],UNIT[&quot;degree&quot;,0.0174532925199433]],PROJECTION[&quot;Lambert_Conformal_Conic_2SP&quot;],PARAMETER[&quot;standard_parallel_1&quot;,17.5],PARAMETER[&quot;standard_parallel_2&quot;,29.5],PARAMETER[&quot;latitude_of_origin&quot;,12],PARAMETER[&quot;central_meridian&quot;,-102],PARAMETER[&quot;false_easting&quot;,2500000],PARAMETER[&quot;false_northing&quot;,0]]</dd></dl></div><div class='xr-var-data'><pre>array([[[8459, 8277, 8203, ..., 7308, 7342, 7340],\n",
       "        [8361, 8106, 8251, ..., 7151, 7347, 7578],\n",
       "        [8275, 8470, 8227, ..., 6792, 7050, 7295],\n",
       "        ...,\n",
       "        [8926, 8950, 8930, ..., 7502, 7446, 7415],\n",
       "        [8994, 8991, 8921, ..., 7728, 7524, 7645],\n",
       "        [8986, 8986, 8999, ..., 7583, 7509, 7721]]], dtype=int16)</pre></div></li><li class='xr-var-item'><div class='xr-var-name'><span>ndvi_min</span></div><div class='xr-var-dims'>(time, y, x)</div><div class='xr-var-dtype'>int16</div><div class='xr-var-preview xr-preview'>5980 6065 5796 ... 5183 5303 4887</div><input id='attrs-458976e4-a3a8-404a-8fb1-c5b030bf84b0' class='xr-var-attrs-in' type='checkbox' ><label for='attrs-458976e4-a3a8-404a-8fb1-c5b030bf84b0' title='Show/Hide attributes'><svg class='icon xr-icon-file-text2'><use xlink:href='#icon-file-text2'></use></svg></label><input id='data-079f7ff6-0829-407d-9635-b6aa8f08035e' class='xr-var-data-in' type='checkbox'><label for='data-079f7ff6-0829-407d-9635-b6aa8f08035e' title='Show/Hide data repr'><svg class='icon xr-icon-database'><use xlink:href='#icon-database'></use></svg></label><div class='xr-var-attrs'><dl class='xr-attrs'><dt><span>units :</span></dt><dd>unitless</dd><dt><span>nodata :</span></dt><dd>-9999</dd><dt><span>crs :</span></dt><dd>PROJCS[&quot;unnamed&quot;,GEOGCS[&quot;WGS 84&quot;,DATUM[&quot;unknown&quot;,SPHEROID[&quot;WGS84&quot;,6378137,6556752.3141]],PRIMEM[&quot;Greenwich&quot;,0],UNIT[&quot;degree&quot;,0.0174532925199433]],PROJECTION[&quot;Lambert_Conformal_Conic_2SP&quot;],PARAMETER[&quot;standard_parallel_1&quot;,17.5],PARAMETER[&quot;standard_parallel_2&quot;,29.5],PARAMETER[&quot;latitude_of_origin&quot;,12],PARAMETER[&quot;central_meridian&quot;,-102],PARAMETER[&quot;false_easting&quot;,2500000],PARAMETER[&quot;false_northing&quot;,0]]</dd></dl></div><div class='xr-var-data'><pre>array([[[5980, 6065, 5796, ..., 4177, 4199, 4079],\n",
       "        [5963, 6158, 6056, ..., 4047, 4123, 4226],\n",
       "        [6232, 6989, 6243, ..., 4046, 4119, 4055],\n",
       "        ...,\n",
       "        [8337, 8045, 8428, ..., 4967, 4894, 4965],\n",
       "        [8520, 8534, 8526, ..., 5038, 4897, 4859],\n",
       "        [8487, 8492, 8483, ..., 5183, 5303, 4887]]], dtype=int16)</pre></div></li><li class='xr-var-item'><div class='xr-var-name'><span>ndmi_max</span></div><div class='xr-var-dims'>(time, y, x)</div><div class='xr-var-dtype'>int16</div><div class='xr-var-preview xr-preview'>3581 3306 3412 ... 3388 2975 2605</div><input id='attrs-20081398-2283-487a-83c9-850f290ac3d0' class='xr-var-attrs-in' type='checkbox' ><label for='attrs-20081398-2283-487a-83c9-850f290ac3d0' title='Show/Hide attributes'><svg class='icon xr-icon-file-text2'><use xlink:href='#icon-file-text2'></use></svg></label><input id='data-b053705f-1cb7-4020-ad30-8dbb19326cf9' class='xr-var-data-in' type='checkbox'><label for='data-b053705f-1cb7-4020-ad30-8dbb19326cf9' title='Show/Hide data repr'><svg class='icon xr-icon-database'><use xlink:href='#icon-database'></use></svg></label><div class='xr-var-attrs'><dl class='xr-attrs'><dt><span>units :</span></dt><dd>unitless</dd><dt><span>nodata :</span></dt><dd>-9999</dd><dt><span>crs :</span></dt><dd>PROJCS[&quot;unnamed&quot;,GEOGCS[&quot;WGS 84&quot;,DATUM[&quot;unknown&quot;,SPHEROID[&quot;WGS84&quot;,6378137,6556752.3141]],PRIMEM[&quot;Greenwich&quot;,0],UNIT[&quot;degree&quot;,0.0174532925199433]],PROJECTION[&quot;Lambert_Conformal_Conic_2SP&quot;],PARAMETER[&quot;standard_parallel_1&quot;,17.5],PARAMETER[&quot;standard_parallel_2&quot;,29.5],PARAMETER[&quot;latitude_of_origin&quot;,12],PARAMETER[&quot;central_meridian&quot;,-102],PARAMETER[&quot;false_easting&quot;,2500000],PARAMETER[&quot;false_northing&quot;,0]]</dd></dl></div><div class='xr-var-data'><pre>array([[[3581, 3306, 3412, ..., 2186, 2208, 2308],\n",
       "        [3402, 3019, 3111, ..., 2058, 2262, 2462],\n",
       "        [3106, 3607, 2641, ..., 1393, 1736, 2180],\n",
       "        ...,\n",
       "        [4355, 4218, 4114, ..., 2207, 2069, 1957],\n",
       "        [4293, 4353, 4290, ..., 3334, 2206, 2268],\n",
       "        [4294, 4264, 4240, ..., 3388, 2975, 2605]]], dtype=int16)</pre></div></li><li class='xr-var-item'><div class='xr-var-name'><span>ndmi_min</span></div><div class='xr-var-dims'>(time, y, x)</div><div class='xr-var-dtype'>int16</div><div class='xr-var-preview xr-preview'>-332 -520 -312 -515 ... 67 10 -928</div><input id='attrs-e144d467-f6ac-4988-b158-896095cd3cd0' class='xr-var-attrs-in' type='checkbox' ><label for='attrs-e144d467-f6ac-4988-b158-896095cd3cd0' title='Show/Hide attributes'><svg class='icon xr-icon-file-text2'><use xlink:href='#icon-file-text2'></use></svg></label><input id='data-e82af5b9-6152-4baf-9cb6-afa99722808b' class='xr-var-data-in' type='checkbox'><label for='data-e82af5b9-6152-4baf-9cb6-afa99722808b' title='Show/Hide data repr'><svg class='icon xr-icon-database'><use xlink:href='#icon-database'></use></svg></label><div class='xr-var-attrs'><dl class='xr-attrs'><dt><span>units :</span></dt><dd>unitless</dd><dt><span>nodata :</span></dt><dd>-9999</dd><dt><span>crs :</span></dt><dd>PROJCS[&quot;unnamed&quot;,GEOGCS[&quot;WGS 84&quot;,DATUM[&quot;unknown&quot;,SPHEROID[&quot;WGS84&quot;,6378137,6556752.3141]],PRIMEM[&quot;Greenwich&quot;,0],UNIT[&quot;degree&quot;,0.0174532925199433]],PROJECTION[&quot;Lambert_Conformal_Conic_2SP&quot;],PARAMETER[&quot;standard_parallel_1&quot;,17.5],PARAMETER[&quot;standard_parallel_2&quot;,29.5],PARAMETER[&quot;latitude_of_origin&quot;,12],PARAMETER[&quot;central_meridian&quot;,-102],PARAMETER[&quot;false_easting&quot;,2500000],PARAMETER[&quot;false_northing&quot;,0]]</dd></dl></div><div class='xr-var-data'><pre>array([[[ -332,  -520,  -312, ..., -1163, -1211, -1311],\n",
       "        [ -281,  -189,    -3, ..., -1247, -1194, -1259],\n",
       "        [  369,  1226,   -37, ..., -1346, -1277, -1265],\n",
       "        ...,\n",
       "        [ 3307,  3397,  3559, ...,  -257,  -334,  -298],\n",
       "        [ 3766,  3695,  3600, ...,   -49,  -255,  -566],\n",
       "        [ 3740,  3629,  3737, ...,    67,    10,  -928]]], dtype=int16)</pre></div></li><li class='xr-var-item'><div class='xr-var-name'><span>elevation</span></div><div class='xr-var-dims'>(time, y, x)</div><div class='xr-var-dtype'>int16</div><div class='xr-var-preview xr-preview'>164 164 164 159 ... 160 160 156 156</div><input id='attrs-1c9f04b6-7d66-480e-833f-86cc9fc5124f' class='xr-var-attrs-in' type='checkbox' ><label for='attrs-1c9f04b6-7d66-480e-833f-86cc9fc5124f' title='Show/Hide attributes'><svg class='icon xr-icon-file-text2'><use xlink:href='#icon-file-text2'></use></svg></label><input id='data-a63eed05-943d-4726-a170-4c7d734d1052' class='xr-var-data-in' type='checkbox'><label for='data-a63eed05-943d-4726-a170-4c7d734d1052' title='Show/Hide data repr'><svg class='icon xr-icon-database'><use xlink:href='#icon-database'></use></svg></label><div class='xr-var-attrs'><dl class='xr-attrs'><dt><span>units :</span></dt><dd>meter</dd><dt><span>nodata :</span></dt><dd>-32768</dd><dt><span>crs :</span></dt><dd>PROJCS[&quot;unnamed&quot;,GEOGCS[&quot;WGS 84&quot;,DATUM[&quot;unknown&quot;,SPHEROID[&quot;WGS84&quot;,6378137,6556752.3141]],PRIMEM[&quot;Greenwich&quot;,0],UNIT[&quot;degree&quot;,0.0174532925199433]],PROJECTION[&quot;Lambert_Conformal_Conic_2SP&quot;],PARAMETER[&quot;standard_parallel_1&quot;,17.5],PARAMETER[&quot;standard_parallel_2&quot;,29.5],PARAMETER[&quot;latitude_of_origin&quot;,12],PARAMETER[&quot;central_meridian&quot;,-102],PARAMETER[&quot;false_easting&quot;,2500000],PARAMETER[&quot;false_northing&quot;,0]]</dd></dl></div><div class='xr-var-data'><pre>array([[[164, 164, 164, ..., 141, 139, 139],\n",
       "        [164, 164, 164, ..., 143, 140, 140],\n",
       "        [164, 164, 164, ..., 143, 140, 140],\n",
       "        ...,\n",
       "        [172, 172, 172, ..., 162, 161, 161],\n",
       "        [172, 172, 172, ..., 162, 161, 161],\n",
       "        [170, 170, 170, ..., 160, 156, 156]]], dtype=int16)</pre></div></li><li class='xr-var-item'><div class='xr-var-name'><span>slope</span></div><div class='xr-var-dims'>(time, y, x)</div><div class='xr-var-dtype'>float32</div><div class='xr-var-preview xr-preview'>1.6145442 1.6145442 ... 1.3702621</div><input id='attrs-391d9865-0812-4a37-9fa6-b613a532e497' class='xr-var-attrs-in' type='checkbox' ><label for='attrs-391d9865-0812-4a37-9fa6-b613a532e497' title='Show/Hide attributes'><svg class='icon xr-icon-file-text2'><use xlink:href='#icon-file-text2'></use></svg></label><input id='data-9be5c4f2-27ef-4fed-aa5f-5b3ac33be6e4' class='xr-var-data-in' type='checkbox'><label for='data-9be5c4f2-27ef-4fed-aa5f-5b3ac33be6e4' title='Show/Hide data repr'><svg class='icon xr-icon-database'><use xlink:href='#icon-database'></use></svg></label><div class='xr-var-attrs'><dl class='xr-attrs'><dt><span>units :</span></dt><dd>degree</dd><dt><span>nodata :</span></dt><dd>-9999</dd><dt><span>crs :</span></dt><dd>PROJCS[&quot;unnamed&quot;,GEOGCS[&quot;WGS 84&quot;,DATUM[&quot;unknown&quot;,SPHEROID[&quot;WGS84&quot;,6378137,6556752.3141]],PRIMEM[&quot;Greenwich&quot;,0],UNIT[&quot;degree&quot;,0.0174532925199433]],PROJECTION[&quot;Lambert_Conformal_Conic_2SP&quot;],PARAMETER[&quot;standard_parallel_1&quot;,17.5],PARAMETER[&quot;standard_parallel_2&quot;,29.5],PARAMETER[&quot;latitude_of_origin&quot;,12],PARAMETER[&quot;central_meridian&quot;,-102],PARAMETER[&quot;false_easting&quot;,2500000],PARAMETER[&quot;false_northing&quot;,0]]</dd></dl></div><div class='xr-var-data'><pre>array([[[1.6145442 , 1.6145442 , 1.6145442 , ..., 1.0375533 ,\n",
       "         0.43751022, 0.43751022],\n",
       "        [1.6145442 , 1.6145442 , 1.6145442 , ..., 0.7337011 ,\n",
       "         0.6653007 , 0.6653007 ],\n",
       "        [1.6145442 , 1.6145442 , 1.6145442 , ..., 0.7337011 ,\n",
       "         0.6653007 , 0.6653007 ],\n",
       "        ...,\n",
       "        [3.671815  , 3.671815  , 3.671815  , ..., 3.2796264 ,\n",
       "         1.9710923 , 1.9710923 ],\n",
       "        [3.671815  , 3.671815  , 3.671815  , ..., 3.2796264 ,\n",
       "         1.9710923 , 1.9710923 ],\n",
       "        [2.0887702 , 2.0887702 , 2.0887702 , ..., 2.44432   ,\n",
       "         1.3702621 , 1.3702621 ]]], dtype=float32)</pre></div></li><li class='xr-var-item'><div class='xr-var-name'><span>aspect</span></div><div class='xr-var-dims'>(time, y, x)</div><div class='xr-var-dtype'>float32</div><div class='xr-var-preview xr-preview'>73.30076 73.30076 ... 163.61046</div><input id='attrs-ae197375-c161-4f89-8e27-ae7b8743df05' class='xr-var-attrs-in' type='checkbox' ><label for='attrs-ae197375-c161-4f89-8e27-ae7b8743df05' title='Show/Hide attributes'><svg class='icon xr-icon-file-text2'><use xlink:href='#icon-file-text2'></use></svg></label><input id='data-b0f0f74d-96f7-410f-ba62-787e08e3ad53' class='xr-var-data-in' type='checkbox'><label for='data-b0f0f74d-96f7-410f-ba62-787e08e3ad53' title='Show/Hide data repr'><svg class='icon xr-icon-database'><use xlink:href='#icon-database'></use></svg></label><div class='xr-var-attrs'><dl class='xr-attrs'><dt><span>units :</span></dt><dd>degree</dd><dt><span>nodata :</span></dt><dd>-9999</dd><dt><span>crs :</span></dt><dd>PROJCS[&quot;unnamed&quot;,GEOGCS[&quot;WGS 84&quot;,DATUM[&quot;unknown&quot;,SPHEROID[&quot;WGS84&quot;,6378137,6556752.3141]],PRIMEM[&quot;Greenwich&quot;,0],UNIT[&quot;degree&quot;,0.0174532925199433]],PROJECTION[&quot;Lambert_Conformal_Conic_2SP&quot;],PARAMETER[&quot;standard_parallel_1&quot;,17.5],PARAMETER[&quot;standard_parallel_2&quot;,29.5],PARAMETER[&quot;latitude_of_origin&quot;,12],PARAMETER[&quot;central_meridian&quot;,-102],PARAMETER[&quot;false_easting&quot;,2500000],PARAMETER[&quot;false_northing&quot;,0]]</dd></dl></div><div class='xr-var-data'><pre>array([[[ 73.30076 ,  73.30076 ,  73.30076 , ..., 116.56505 ,\n",
       "         135.      , 135.      ],\n",
       "        [ 73.30076 ,  73.30076 ,  73.30076 , ..., 108.43495 ,\n",
       "         125.537674, 125.537674],\n",
       "        [ 73.30076 ,  73.30076 ,  73.30076 , ..., 108.43495 ,\n",
       "         125.537674, 125.537674],\n",
       "        ...,\n",
       "        [104.62087 , 104.62087 , 104.62087 , ..., 136.90915 ,\n",
       "         154.44003 , 154.44003 ],\n",
       "        [104.62087 , 104.62087 , 104.62087 , ..., 136.90915 ,\n",
       "         154.44003 , 154.44003 ],\n",
       "        [ 87.87891 ,  87.87891 ,  87.87891 , ..., 145.30484 ,\n",
       "         163.61046 , 163.61046 ]]], dtype=float32)</pre></div></li></ul></div></li><li class='xr-section-item'><input id='section-a820556f-2ea2-4ca3-ad47-fea298f108be' class='xr-section-summary-in' type='checkbox'  checked><label for='section-a820556f-2ea2-4ca3-ad47-fea298f108be' class='xr-section-summary' >Attributes: <span>(1)</span></label><div class='xr-section-inline-details'></div><div class='xr-section-details'><dl class='xr-attrs'><dt><span>crs :</span></dt><dd>PROJCS[&quot;unnamed&quot;,GEOGCS[&quot;WGS 84&quot;,DATUM[&quot;unknown&quot;,SPHEROID[&quot;WGS84&quot;,6378137,6556752.3141]],PRIMEM[&quot;Greenwich&quot;,0],UNIT[&quot;degree&quot;,0.0174532925199433]],PROJECTION[&quot;Lambert_Conformal_Conic_2SP&quot;],PARAMETER[&quot;standard_parallel_1&quot;,17.5],PARAMETER[&quot;standard_parallel_2&quot;,29.5],PARAMETER[&quot;latitude_of_origin&quot;,12],PARAMETER[&quot;central_meridian&quot;,-102],PARAMETER[&quot;false_easting&quot;,2500000],PARAMETER[&quot;false_northing&quot;,0]]</dd></dl></div></li></ul></div></div>"
      ],
      "text/plain": [
       "<xarray.Dataset>\n",
       "Dimensions:     (time: 1, x: 1667, y: 1667)\n",
       "Coordinates:\n",
       "  * time        (time) datetime64[ns] 2017-07-02\n",
       "  * y           (y) float64 5.763e+05 5.763e+05 ... 5.264e+05 5.264e+05\n",
       "  * x           (x) float64 3.678e+06 3.678e+06 ... 3.728e+06 3.728e+06\n",
       "Data variables:\n",
       "    blue_mean   (time, y, x) int16 311 346 357 362 350 ... 318 315 320 338 381\n",
       "    green_mean  (time, y, x) int16 636 672 680 667 620 ... 667 680 689 704 726\n",
       "    red_mean    (time, y, x) int16 488 551 586 602 574 ... 653 645 651 662 707\n",
       "    nir_mean    (time, y, x) int16 3729 3629 3443 3257 ... 3195 3236 3283 3447\n",
       "    swir1_mean  (time, y, x) int16 2499 2674 2677 2688 ... 2122 2163 2322 2673\n",
       "    swir2_mean  (time, y, x) int16 1209 1358 1420 1453 ... 1069 1086 1172 1390\n",
       "    ndvi_mean   (time, y, x) int16 7628 7311 7026 6821 ... 6595 6604 6615 6551\n",
       "    ndmi_mean   (time, y, x) int16 1965 1518 1251 950 ... 2040 1998 1733 1297\n",
       "    ndvi_max    (time, y, x) int16 8459 8277 8203 8001 ... 7685 7583 7509 7721\n",
       "    ndvi_min    (time, y, x) int16 5980 6065 5796 5567 ... 5105 5183 5303 4887\n",
       "    ndmi_max    (time, y, x) int16 3581 3306 3412 2701 ... 3444 3388 2975 2605\n",
       "    ndmi_min    (time, y, x) int16 -332 -520 -312 -515 -1254 ... -36 67 10 -928\n",
       "    elevation   (time, y, x) int16 164 164 164 159 159 ... 160 160 160 156 156\n",
       "    slope       (time, y, x) float32 1.6145442 1.6145442 ... 1.3702621 1.3702621\n",
       "    aspect      (time, y, x) float32 73.30076 73.30076 ... 163.61046 163.61046\n",
       "Attributes:\n",
       "    crs:      PROJCS[\"unnamed\",GEOGCS[\"WGS 84\",DATUM[\"unknown\",SPHEROID[\"WGS8..."
      ]
     },
     "execution_count": 16,
     "metadata": {},
     "output_type": "execute_result"
    }
   ],
   "source": [
    "ds"
   ]
  },
  {
   "cell_type": "markdown",
   "metadata": {},
   "source": [
    "**Visualize one band... e.g. `ndvi_mean`...**"
   ]
  },
  {
   "cell_type": "code",
   "execution_count": 17,
   "metadata": {},
   "outputs": [
    {
     "data": {
      "image/png": "[encoded data removed]",
      "text/plain": [
       "<Figure size 432x288 with 1 Axes>"
      ]
     },
     "metadata": {
      "needs_background": "light"
     },
     "output_type": "display_data"
    }
   ],
   "source": [
    "plt.imshow(ds.ndvi_mean[0,:,:])\n",
    "plt.show()"
   ]
  },
  {
   "cell_type": "markdown",
   "metadata": {},
   "source": [
    "**Load already registered training data in antares3 db...**"
   ]
  },
  {
   "cell_type": "code",
   "execution_count": 18,
   "metadata": {},
   "outputs": [],
   "source": [
    "training_data = \"train_chiapas_dummy\""
   ]
  },
  {
   "cell_type": "code",
   "execution_count": 19,
   "metadata": {},
   "outputs": [],
   "source": [
    "loader = VectorDb()\n",
    "fc_train_0 = loader.load_training_from_dataset(dataset=ds,\n",
    "                                               training_set=training_data, \n",
    "                                               sample=1)"
   ]
  },
  {
   "cell_type": "code",
   "execution_count": 20,
   "metadata": {},
   "outputs": [],
   "source": [
    "# Evaluate the generator (safe to do here since the data is not huge)\n",
    "fc_train_0 = list(fc_train_0)"
   ]
  },
  {
   "cell_type": "code",
   "execution_count": 21,
   "metadata": {},
   "outputs": [
    {
     "data": {
      "text/plain": [
       "816"
      ]
     },
     "execution_count": 21,
     "metadata": {},
     "output_type": "execute_result"
    }
   ],
   "source": [
    "len(fc_train_0)"
   ]
  },
  {
   "cell_type": "code",
   "execution_count": 22,
   "metadata": {},
   "outputs": [
    {
     "data": {
      "text/plain": [
       "{'type': 'Feature',\n",
       " 'geometry': {'type': 'Polygon',\n",
       "  'coordinates': [[[3681887.503196632, 526534.3451950208],\n",
       "    [3681887.383999407, 526531.8803127464],\n",
       "    [3681887.025237519, 526529.4392840322],\n",
       "    [3681886.43036604, 526527.0456173257],\n",
       "    [3681885.6051139077, 526524.7223649459],\n",
       "    [3681884.5574287516, 526522.4919010838],\n",
       "    [3681883.2974003493, 526520.3757063197],\n",
       "    [3681881.837163466, 526518.3941607715],\n",
       "    [3681880.1907809773, 526516.5663478025],\n",
       "    [3681878.3741084514, 526514.9098702591],\n",
       "    [3681876.404641433, 526513.4406809291],\n",
       "    [3681874.3013469717, 526512.172928891],\n",
       "    [3681872.0844809376, 526511.1188233017],\n",
       "    [3681869.77539297, 526510.2885157807],\n",
       "    [3681867.39632084, 526509.690002631],\n",
       "    [3681864.970176321, 526509.329047876],\n",
       "    [3681862.5203245077, 526509.2091276909],\n",
       "    [3681860.070358816, 526509.3313969867],\n",
       "    [3681857.6438737498, 526509.6946782353],\n",
       "    [3681855.264237693, 526510.2954728394],\n",
       "    [3681852.9543678407, 526511.1279948216],\n",
       "    [3681850.736509504, 526512.1842265418],\n",
       "    [3681848.6320218677, 526513.4539959044],\n",
       "    [3681846.6611723006, 526514.925074342],\n",
       "    [3681844.8429411626, 526516.5832945603],\n",
       "    [3681843.1948390137, 526518.4126869951],\n",
       "    [3681841.7327379747, 526520.3956335922],\n",
       "    [3681840.4707188816, 526522.5130374917],\n",
       "    [3681839.420935666, 526524.7445069458],\n",
       "    [3681838.5934983147, 526527.06855167],\n",
       "    [3681837.996375499, 526529.4627898511],\n",
       "    [3681837.6353178406, 526531.9041636583],\n",
       "    [3681837.513802519, 526534.3691613413],\n",
       "    [3681837.632999792, 526536.8340436129],\n",
       "    [3681837.9917617263, 526539.2750723129],\n",
       "    [3681838.5866332464, 526541.6687389996],\n",
       "    [3681839.4118854124, 526543.9919913567],\n",
       "    [3681840.4595705974, 526546.2224551962],\n",
       "    [3681841.7195990165, 526548.3386499292],\n",
       "    [3681843.1798359104, 526550.3201954461],\n",
       "    [3681844.826218398, 526552.1480083728],\n",
       "    [3681846.642890915, 526553.804485882],\n",
       "    [3681848.612357913, 526555.2736751895],\n",
       "    [3681850.7156523503, 526556.5414271879],\n",
       "    [3681852.9325183453, 526557.5955327518],\n",
       "    [3681855.2416062746, 526558.4258402501],\n",
       "    [3681857.6206783582, 526559.0243533883],\n",
       "    [3681860.046822829, 526559.3853081377],\n",
       "    [3681862.4966745935, 526559.5052283172],\n",
       "    [3681864.9466402386, 526559.3829590328],\n",
       "    [3681867.373125258, 526559.0196777898],\n",
       "    [3681869.7527612736, 526558.4188832027],\n",
       "    [3681872.062631091, 526557.5863612432],\n",
       "    [3681874.280489401, 526556.5301295513],\n",
       "    [3681876.3849770194, 526555.2603602197],\n",
       "    [3681878.3558265776, 526553.7892818162],\n",
       "    [3681880.1740577137, 526552.1310616347],\n",
       "    [3681881.8221598724, 526550.3016692396],\n",
       "    [3681883.2842609314, 526548.3187226709],\n",
       "    [3681884.546280051, 526546.2013187996],\n",
       "    [3681885.5960633024, 526543.9698493767],\n",
       "    [3681886.4235006934, 526541.6458046667],\n",
       "    [3681887.0206235554, 526539.2515665053],\n",
       "    [3681887.3816812616, 526536.8101926981],\n",
       "    [3681887.503196632, 526534.3451950208]]]},\n",
       " 'properties': {'class': 7}}"
      ]
     },
     "execution_count": 22,
     "metadata": {},
     "output_type": "execute_result"
    }
   ],
   "source": [
    "fc_train_0[0]"
   ]
  },
  {
   "cell_type": "markdown",
   "metadata": {},
   "source": [
    "**Assign code level to this training data according to next scheme..**"
   ]
  },
  {
   "cell_type": "code",
   "execution_count": 23,
   "metadata": {},
   "outputs": [],
   "source": [
    "scheme = \"madmex\""
   ]
  },
  {
   "cell_type": "code",
   "execution_count": 24,
   "metadata": {},
   "outputs": [],
   "source": [
    "qs = Tag.objects.filter(scheme=scheme)\n",
    "tag_mapping = {x.id:x.numeric_code for x in qs}\n",
    "tag_id_list = [x['properties']['class'] for x in fc_train_0]\n"
   ]
  },
  {
   "cell_type": "code",
   "execution_count": 25,
   "metadata": {},
   "outputs": [],
   "source": [
    "fc_train = [{'geometry': x[0]['geometry'],\n",
    "             'properties': {'code': tag_mapping[x[1]]},\n",
    "             'type': 'feature'} for x in zip(fc_train_0, tag_id_list)]"
   ]
  },
  {
   "cell_type": "code",
   "execution_count": 26,
   "metadata": {},
   "outputs": [
    {
     "data": {
      "text/plain": [
       "{'geometry': {'type': 'Polygon',\n",
       "  'coordinates': [[[3681887.503196632, 526534.3451950208],\n",
       "    [3681887.383999407, 526531.8803127464],\n",
       "    [3681887.025237519, 526529.4392840322],\n",
       "    [3681886.43036604, 526527.0456173257],\n",
       "    [3681885.6051139077, 526524.7223649459],\n",
       "    [3681884.5574287516, 526522.4919010838],\n",
       "    [3681883.2974003493, 526520.3757063197],\n",
       "    [3681881.837163466, 526518.3941607715],\n",
       "    [3681880.1907809773, 526516.5663478025],\n",
       "    [3681878.3741084514, 526514.9098702591],\n",
       "    [3681876.404641433, 526513.4406809291],\n",
       "    [3681874.3013469717, 526512.172928891],\n",
       "    [3681872.0844809376, 526511.1188233017],\n",
       "    [3681869.77539297, 526510.2885157807],\n",
       "    [3681867.39632084, 526509.690002631],\n",
       "    [3681864.970176321, 526509.329047876],\n",
       "    [3681862.5203245077, 526509.2091276909],\n",
       "    [3681860.070358816, 526509.3313969867],\n",
       "    [3681857.6438737498, 526509.6946782353],\n",
       "    [3681855.264237693, 526510.2954728394],\n",
       "    [3681852.9543678407, 526511.1279948216],\n",
       "    [3681850.736509504, 526512.1842265418],\n",
       "    [3681848.6320218677, 526513.4539959044],\n",
       "    [3681846.6611723006, 526514.925074342],\n",
       "    [3681844.8429411626, 526516.5832945603],\n",
       "    [3681843.1948390137, 526518.4126869951],\n",
       "    [3681841.7327379747, 526520.3956335922],\n",
       "    [3681840.4707188816, 526522.5130374917],\n",
       "    [3681839.420935666, 526524.7445069458],\n",
       "    [3681838.5934983147, 526527.06855167],\n",
       "    [3681837.996375499, 526529.4627898511],\n",
       "    [3681837.6353178406, 526531.9041636583],\n",
       "    [3681837.513802519, 526534.3691613413],\n",
       "    [3681837.632999792, 526536.8340436129],\n",
       "    [3681837.9917617263, 526539.2750723129],\n",
       "    [3681838.5866332464, 526541.6687389996],\n",
       "    [3681839.4118854124, 526543.9919913567],\n",
       "    [3681840.4595705974, 526546.2224551962],\n",
       "    [3681841.7195990165, 526548.3386499292],\n",
       "    [3681843.1798359104, 526550.3201954461],\n",
       "    [3681844.826218398, 526552.1480083728],\n",
       "    [3681846.642890915, 526553.804485882],\n",
       "    [3681848.612357913, 526555.2736751895],\n",
       "    [3681850.7156523503, 526556.5414271879],\n",
       "    [3681852.9325183453, 526557.5955327518],\n",
       "    [3681855.2416062746, 526558.4258402501],\n",
       "    [3681857.6206783582, 526559.0243533883],\n",
       "    [3681860.046822829, 526559.3853081377],\n",
       "    [3681862.4966745935, 526559.5052283172],\n",
       "    [3681864.9466402386, 526559.3829590328],\n",
       "    [3681867.373125258, 526559.0196777898],\n",
       "    [3681869.7527612736, 526558.4188832027],\n",
       "    [3681872.062631091, 526557.5863612432],\n",
       "    [3681874.280489401, 526556.5301295513],\n",
       "    [3681876.3849770194, 526555.2603602197],\n",
       "    [3681878.3558265776, 526553.7892818162],\n",
       "    [3681880.1740577137, 526552.1310616347],\n",
       "    [3681881.8221598724, 526550.3016692396],\n",
       "    [3681883.2842609314, 526548.3187226709],\n",
       "    [3681884.546280051, 526546.2013187996],\n",
       "    [3681885.5960633024, 526543.9698493767],\n",
       "    [3681886.4235006934, 526541.6458046667],\n",
       "    [3681887.0206235554, 526539.2515665053],\n",
       "    [3681887.3816812616, 526536.8101926981],\n",
       "    [3681887.503196632, 526534.3451950208]]]},\n",
       " 'properties': {'code': 9},\n",
       " 'type': 'feature'}"
      ]
     },
     "execution_count": 26,
     "metadata": {},
     "output_type": "execute_result"
    }
   ],
   "source": [
    "fc_train[0]"
   ]
  },
  {
   "cell_type": "code",
   "execution_count": 29,
   "metadata": {},
   "outputs": [],
   "source": [
    "gdf_from_features = gpd.GeoDataFrame.from_features(fc_train)"
   ]
  },
  {
   "cell_type": "code",
   "execution_count": 30,
   "metadata": {},
   "outputs": [
    {
     "data": {
      "text/html": [
       "<div>\n",
       "<style scoped>\n",
       "    .dataframe tbody tr th:only-of-type {\n",
       "        vertical-align: middle;\n",
       "    }\n",
       "\n",
       "    .dataframe tbody tr th {\n",
       "        vertical-align: top;\n",
       "    }\n",
       "\n",
       "    .dataframe thead th {\n",
       "        text-align: right;\n",
       "    }\n",
       "</style>\n",
       "<table border=\"1\" class=\"dataframe\">\n",
       "  <thead>\n",
       "    <tr style=\"text-align: right;\">\n",
       "      <th></th>\n",
       "      <th>geometry</th>\n",
       "      <th>code</th>\n",
       "    </tr>\n",
       "  </thead>\n",
       "  <tbody>\n",
       "    <tr>\n",
       "      <th>0</th>\n",
       "      <td>POLYGON ((3681887.503 526534.345, 3681887.384 ...</td>\n",
       "      <td>9</td>\n",
       "    </tr>\n",
       "    <tr>\n",
       "      <th>1</th>\n",
       "      <td>POLYGON ((3689298.439 576581.754, 3689298.320 ...</td>\n",
       "      <td>9</td>\n",
       "    </tr>\n",
       "    <tr>\n",
       "      <th>2</th>\n",
       "      <td>POLYGON ((3697193.891 553722.536, 3697193.771 ...</td>\n",
       "      <td>9</td>\n",
       "    </tr>\n",
       "    <tr>\n",
       "      <th>3</th>\n",
       "      <td>POLYGON ((3684487.767 541266.702, 3684487.648 ...</td>\n",
       "      <td>9</td>\n",
       "    </tr>\n",
       "    <tr>\n",
       "      <th>4</th>\n",
       "      <td>POLYGON ((3686030.800 563613.022, 3686030.681 ...</td>\n",
       "      <td>9</td>\n",
       "    </tr>\n",
       "  </tbody>\n",
       "</table>\n",
       "</div>"
      ],
      "text/plain": [
       "                                            geometry  code\n",
       "0  POLYGON ((3681887.503 526534.345, 3681887.384 ...     9\n",
       "1  POLYGON ((3689298.439 576581.754, 3689298.320 ...     9\n",
       "2  POLYGON ((3697193.891 553722.536, 3697193.771 ...     9\n",
       "3  POLYGON ((3684487.767 541266.702, 3684487.648 ...     9\n",
       "4  POLYGON ((3686030.800 563613.022, 3686030.681 ...     9"
      ]
     },
     "execution_count": 30,
     "metadata": {},
     "output_type": "execute_result"
    }
   ],
   "source": [
    "gdf_from_features.head()"
   ]
  },
  {
   "cell_type": "code",
   "execution_count": 41,
   "metadata": {},
   "outputs": [
    {
     "data": {
      "image/png": "[encoded data removed]",
      "text/plain": [
       "<Figure size 432x288 with 1 Axes>"
      ]
     },
     "metadata": {
      "needs_background": "light"
     },
     "output_type": "display_data"
    }
   ],
   "source": [
    "gdf_from_features.plot()\n",
    "plt.show()"
   ]
  },
  {
   "cell_type": "code",
   "execution_count": 42,
   "metadata": {},
   "outputs": [],
   "source": [
    "# copy GeoDataFrame\n",
    "points = gdf_from_features.copy()"
   ]
  },
  {
   "cell_type": "code",
   "execution_count": 43,
   "metadata": {},
   "outputs": [
    {
     "data": {
      "text/html": [
       "<div>\n",
       "<style scoped>\n",
       "    .dataframe tbody tr th:only-of-type {\n",
       "        vertical-align: middle;\n",
       "    }\n",
       "\n",
       "    .dataframe tbody tr th {\n",
       "        vertical-align: top;\n",
       "    }\n",
       "\n",
       "    .dataframe thead th {\n",
       "        text-align: right;\n",
       "    }\n",
       "</style>\n",
       "<table border=\"1\" class=\"dataframe\">\n",
       "  <thead>\n",
       "    <tr style=\"text-align: right;\">\n",
       "      <th></th>\n",
       "      <th>geometry</th>\n",
       "      <th>code</th>\n",
       "    </tr>\n",
       "  </thead>\n",
       "  <tbody>\n",
       "    <tr>\n",
       "      <th>0</th>\n",
       "      <td>POINT (3681862.508 526534.357)</td>\n",
       "      <td>9</td>\n",
       "    </tr>\n",
       "    <tr>\n",
       "      <th>1</th>\n",
       "      <td>POINT (3689273.445 576581.766)</td>\n",
       "      <td>9</td>\n",
       "    </tr>\n",
       "    <tr>\n",
       "      <th>2</th>\n",
       "      <td>POINT (3697168.896 553722.548)</td>\n",
       "      <td>9</td>\n",
       "    </tr>\n",
       "    <tr>\n",
       "      <th>3</th>\n",
       "      <td>POINT (3684462.772 541266.714)</td>\n",
       "      <td>9</td>\n",
       "    </tr>\n",
       "    <tr>\n",
       "      <th>4</th>\n",
       "      <td>POINT (3686005.806 563613.034)</td>\n",
       "      <td>9</td>\n",
       "    </tr>\n",
       "  </tbody>\n",
       "</table>\n",
       "</div>"
      ],
      "text/plain": [
       "                         geometry  code\n",
       "0  POINT (3681862.508 526534.357)     9\n",
       "1  POINT (3689273.445 576581.766)     9\n",
       "2  POINT (3697168.896 553722.548)     9\n",
       "3  POINT (3684462.772 541266.714)     9\n",
       "4  POINT (3686005.806 563613.034)     9"
      ]
     },
     "execution_count": 43,
     "metadata": {},
     "output_type": "execute_result"
    }
   ],
   "source": [
    "# change geometry \n",
    "points['geometry'] = points['geometry'].centroid\n",
    "points.head()"
   ]
  },
  {
   "cell_type": "code",
   "execution_count": 44,
   "metadata": {},
   "outputs": [
    {
     "data": {
      "image/png": "[encoded data removed]",
      "text/plain": [
       "<Figure size 432x288 with 1 Axes>"
      ]
     },
     "metadata": {
      "needs_background": "light"
     },
     "output_type": "display_data"
    }
   ],
   "source": [
    "points.plot()\n",
    "plt.show()"
   ]
  },
  {
   "cell_type": "code",
   "execution_count": 45,
   "metadata": {},
   "outputs": [
    {
     "data": {
      "text/plain": [
       "7"
      ]
     },
     "execution_count": 45,
     "metadata": {},
     "output_type": "execute_result"
    }
   ],
   "source": [
    "len(points['code'].unique())"
   ]
  },
  {
   "cell_type": "code",
   "execution_count": 46,
   "metadata": {},
   "outputs": [
    {
     "data": {
      "text/plain": [
       "array([3674284.23292159,  522746.83834372, 3730674.58697177,\n",
       "        577420.07594424])"
      ]
     },
     "execution_count": 46,
     "metadata": {},
     "output_type": "execute_result"
    }
   ],
   "source": [
    "gdf_from_features.total_bounds"
   ]
  },
  {
   "cell_type": "code",
   "execution_count": 47,
   "metadata": {},
   "outputs": [
    {
     "data": {
      "text/plain": [
       "array([3674309.22716276,  522771.98648486, 3730649.59222433,\n",
       "        577394.92912567])"
      ]
     },
     "execution_count": 47,
     "metadata": {},
     "output_type": "execute_result"
    }
   ],
   "source": [
    "points.total_bounds"
   ]
  },
  {
   "cell_type": "code",
   "execution_count": 48,
   "metadata": {},
   "outputs": [],
   "source": [
    "crs_dict = {'proj': 'lcc',\n",
    "            'lat_1': 17.5,\n",
    "            'lat_2': 29.5,\n",
    "            'lat_0': 12,\n",
    "            'lon_0': -102,\n",
    "            'x_0': 2500000,\n",
    "            'y_0': 0,\n",
    "            'datum': 'WGS84',\n",
    "            'units': 'm',\n",
    "            'no_defs': True,\n",
    "            'a':6378137,\n",
    "            'b':6378136.027241431,\n",
    "            'wktext': True}"
   ]
  },
  {
   "cell_type": "code",
   "execution_count": 49,
   "metadata": {},
   "outputs": [],
   "source": [
    "gdf_from_features.crs"
   ]
  },
  {
   "cell_type": "code",
   "execution_count": 50,
   "metadata": {},
   "outputs": [],
   "source": [
    "gdf_from_features.crs = crs_dict"
   ]
  },
  {
   "cell_type": "code",
   "execution_count": 53,
   "metadata": {},
   "outputs": [],
   "source": [
    "points.crs = crs_dict"
   ]
  },
  {
   "cell_type": "markdown",
   "metadata": {},
   "source": [
    "**Extract some zonal statistics using dataset and feature collection of training data...**"
   ]
  },
  {
   "cell_type": "code",
   "execution_count": 55,
   "metadata": {},
   "outputs": [],
   "source": [
    "X_train, y_train = zonal_stats_xarray(ds, fc_train, 'code')"
   ]
  },
  {
   "cell_type": "code",
   "execution_count": 56,
   "metadata": {},
   "outputs": [
    {
     "data": {
      "text/plain": [
       "array([[203.5       , 464.5       , 238.5       , ..., 162.        ,\n",
       "          1.31687391,  86.63353729],\n",
       "       [171.        , 389.5       , 224.        , ..., 190.        ,\n",
       "          5.99785328, 222.91743469],\n",
       "       [200.        , 418.        , 246.        , ..., 210.        ,\n",
       "          1.42164409, 225.        ],\n",
       "       ...,\n",
       "       [211.33333333, 426.66666667, 258.33333333, ..., 132.        ,\n",
       "          0.91864878,  45.03708649],\n",
       "       [210.5       , 439.5       , 244.5       , ..., 134.        ,\n",
       "          0.99037647, 128.6598053 ],\n",
       "       [227.        , 461.        , 248.        , ..., 138.5       ,\n",
       "          0.7810412 , 174.34503174]])"
      ]
     },
     "execution_count": 56,
     "metadata": {},
     "output_type": "execute_result"
    }
   ],
   "source": [
    "X_train"
   ]
  },
  {
   "cell_type": "code",
   "execution_count": 57,
   "metadata": {},
   "outputs": [
    {
     "data": {
      "text/plain": [
       "(720, 15)"
      ]
     },
     "execution_count": 57,
     "metadata": {},
     "output_type": "execute_result"
    }
   ],
   "source": [
    "X_train.shape"
   ]
  },
  {
   "cell_type": "code",
   "execution_count": 58,
   "metadata": {},
   "outputs": [
    {
     "data": {
      "text/plain": [
       "array([ 9,  9,  9,  9, 28, 28,  9,  9,  9, 27,  9, 27, 27,  9,  9, 28,  9,\n",
       "        9,  9,  9,  9,  9,  9,  9,  9,  9,  9,  9, 28, 28, 28,  9,  9, 28,\n",
       "        9, 28,  9,  9,  9,  9,  9,  9, 27, 28, 27,  9,  9, 22, 22, 27, 28,\n",
       "        9,  9, 28,  9, 27, 27,  9, 28,  9,  9, 28,  9,  9, 28,  9,  9, 27,\n",
       "       28,  9, 27, 28, 22, 31,  9,  9, 28,  9, 27,  9,  9,  9, 28, 27, 27,\n",
       "        9, 28,  9,  9,  9,  9,  9,  9,  9,  9,  9, 28,  9,  9,  9,  9,  9,\n",
       "       31, 28, 28,  9, 28, 28,  9, 28, 28, 28,  9,  9, 28,  9,  9,  9, 28,\n",
       "        9, 27,  9,  9,  9, 28,  9,  9,  9,  9,  9,  9, 28,  9,  9, 28, 28,\n",
       "        9, 28,  9,  9,  9,  9,  9,  9,  9, 28, 28,  9,  9,  9, 28,  9,  9,\n",
       "       28,  9, 22, 28, 27,  9,  9,  9,  9,  9, 22, 28,  9, 28, 28,  9, 27,\n",
       "       28,  9, 28,  9,  9,  9, 28,  9,  9,  9,  9,  9,  9, 27,  9,  9, 31,\n",
       "        9,  9,  9,  9,  9,  9,  9, 27, 27, 28,  9,  9,  9, 28,  9,  9, 28,\n",
       "        9,  9,  9,  9, 28, 28,  9,  9,  9,  9, 28,  9,  9,  9, 28,  9,  9,\n",
       "        9,  9,  9,  9, 28,  9,  9,  9,  9,  9,  9,  9,  9, 28,  9,  9, 28,\n",
       "       28, 28,  9,  9,  9, 28, 28, 28, 28, 28,  9,  9, 28, 31,  9, 27,  9,\n",
       "       28,  9, 27,  9,  9, 27,  9, 28,  9,  9,  9, 31,  9, 27, 28, 22,  9,\n",
       "        9,  9, 27, 28, 28,  9,  9,  9,  9, 28,  9,  9, 28,  9,  9,  9,  9,\n",
       "        9,  9,  9, 27,  9, 28, 28,  9, 28,  9,  9,  9,  9,  9,  9,  9,  9,\n",
       "       28,  9, 22, 28,  9,  9,  9,  9,  9,  9,  9,  9,  9,  9,  9, 29, 28,\n",
       "        9,  9, 28,  9, 28,  9,  9,  9, 27, 28,  9, 27, 28, 28,  9,  9,  9,\n",
       "        9, 28, 28,  9,  9,  9, 28,  9,  9,  9,  9,  9,  9,  9, 28,  9,  9,\n",
       "        9, 22,  9,  9,  9,  9,  9,  9,  9,  9, 28,  9, 28,  9,  9, 31,  9,\n",
       "       27, 28,  9,  9, 28,  9,  9, 28, 28, 27,  9, 28,  9,  9, 28, 28,  9,\n",
       "        9,  9,  9, 27,  9,  9,  9, 28, 28, 28,  9, 27,  9, 28,  9,  9, 27,\n",
       "        9,  9,  9, 28,  9,  9,  9,  9,  9, 28,  9,  9,  9, 28,  9,  9,  9,\n",
       "       28,  9,  9,  9, 28,  9,  9,  9,  9,  9,  9,  9,  9, 28,  9,  9,  9,\n",
       "        9, 28,  9,  9,  9, 22,  9, 28,  9,  9,  9, 27, 28, 29,  9,  9, 28,\n",
       "        9, 28, 27, 28,  9,  9, 28,  9,  9, 28,  9,  9, 28,  9, 28,  9,  9,\n",
       "        9, 27,  9,  9,  9,  9,  9,  9, 28, 28,  9, 27,  9,  9, 28,  9,  9,\n",
       "        9, 28,  9,  9,  9,  9,  9, 28,  9,  9,  9,  9,  9,  9,  9, 28,  9,\n",
       "        9, 28,  9,  9,  9, 28,  9, 27,  9,  9,  9,  9,  9,  9, 28,  9,  9,\n",
       "        9, 27,  9,  9,  9,  9,  9,  9,  9, 22,  9,  9,  9,  9,  9,  9,  9,\n",
       "        9,  9, 31,  9,  9, 27,  9, 27,  9,  9,  9, 28,  9,  9,  9,  9,  9,\n",
       "        9,  9,  9,  9, 28,  9, 28,  9,  9,  9,  9, 28, 28,  9,  9, 28,  9,\n",
       "        9,  9,  9, 28,  9,  9, 28,  9, 28,  9, 28, 27,  9,  9,  9,  9, 27,\n",
       "       28,  9,  9,  9,  9, 28,  9,  9,  9,  9,  9,  9,  9,  9,  9,  9,  9,\n",
       "        9,  9, 28, 28,  9,  9,  9,  9, 27, 28,  9,  9,  9,  9,  9,  9,  9,\n",
       "       28,  9,  9,  9,  9,  9,  9,  9,  9, 22,  9,  9, 27, 28, 27,  9,  9,\n",
       "       27,  9,  9, 28,  9, 28,  9,  9,  9, 28, 28,  9, 28, 28,  9,  9,  9,\n",
       "       28,  9,  9,  9,  9,  9,  9,  9,  9, 27, 28,  9,  9, 27, 28,  9,  9,\n",
       "       28, 28,  9, 28,  9,  9, 28, 31, 28, 28, 28,  9, 28,  9, 28,  9, 28,\n",
       "        9, 27, 30,  9,  9,  9,  9,  9,  9,  9, 28, 27,  9,  9, 28,  9,  9,\n",
       "       28,  9, 28,  9, 27,  9])"
      ]
     },
     "execution_count": 58,
     "metadata": {},
     "output_type": "execute_result"
    }
   ],
   "source": [
    "y_train"
   ]
  },
  {
   "cell_type": "markdown",
   "metadata": {},
   "source": [
    "**Model fit: xgboost..**"
   ]
  },
  {
   "cell_type": "code",
   "execution_count": 59,
   "metadata": {},
   "outputs": [],
   "source": [
    "xgb_model = Model()"
   ]
  },
  {
   "cell_type": "code",
   "execution_count": 60,
   "metadata": {},
   "outputs": [],
   "source": [
    "xgb_model.fit(X_train, y_train)"
   ]
  },
  {
   "cell_type": "markdown",
   "metadata": {},
   "source": [
    "**Write model to filesystem (just to load it if this notebook crashes or kernel is reloaded in the future...) ...**"
   ]
  },
  {
   "cell_type": "code",
   "execution_count": 61,
   "metadata": {},
   "outputs": [
    {
     "data": {
      "text/plain": [
       "'/shared_volume/land_cover_results'"
      ]
     },
     "execution_count": 61,
     "metadata": {},
     "output_type": "execute_result"
    }
   ],
   "source": [
    "path"
   ]
  },
  {
   "cell_type": "code",
   "execution_count": 64,
   "metadata": {},
   "outputs": [],
   "source": [
    "name_model = 'model_landsat8_chiapas_2017_madmex_31_clases' + '_%d_%d' %(tile[0][0],tile[0][1])\n",
    "filename_model = '%s_%s.pkl' % (name_model, randomword(5))\n",
    "filepath_model = os.path.join(path, filename_model)"
   ]
  },
  {
   "cell_type": "code",
   "execution_count": 65,
   "metadata": {},
   "outputs": [
    {
     "data": {
      "text/plain": [
       "'/shared_volume/land_cover_results/model_landsat8_chiapas_2017_madmex_31_clases_54_-38_vxdef.pkl'"
      ]
     },
     "execution_count": 65,
     "metadata": {},
     "output_type": "execute_result"
    }
   ],
   "source": [
    "filepath_model"
   ]
  },
  {
   "cell_type": "code",
   "execution_count": 66,
   "metadata": {},
   "outputs": [],
   "source": [
    "with open(filepath_model, 'wb') as dst:\n",
    "    dill.dump(xgb_model, dst)"
   ]
  },
  {
   "cell_type": "markdown",
   "metadata": {},
   "source": [
    "## Predict object based"
   ]
  },
  {
   "cell_type": "markdown",
   "metadata": {},
   "source": [
    "## Load segmentation"
   ]
  },
  {
   "cell_type": "code",
   "execution_count": 72,
   "metadata": {},
   "outputs": [],
   "source": [
    "seg_name = 'seg_chiapas_L8_17'"
   ]
  },
  {
   "cell_type": "code",
   "execution_count": 73,
   "metadata": {},
   "outputs": [],
   "source": [
    "geom = GEOSGeometry(json.dumps(ds.geobox.geographic_extent.json))\n",
    "qs = PredictObject.objects.filter(the_geom__contained=geom,segmentation_information__name=seg_name)\n",
    "path_seg = qs[0].path"
   ]
  },
  {
   "cell_type": "code",
   "execution_count": 74,
   "metadata": {},
   "outputs": [
    {
     "data": {
      "text/plain": [
       "'/shared_volume/segmentation/slic_seg_chiapas_L8_17_landsat8_54_-38_2017.shp'"
      ]
     },
     "execution_count": 74,
     "metadata": {},
     "output_type": "execute_result"
    }
   ],
   "source": [
    "path_seg"
   ]
  },
  {
   "cell_type": "markdown",
   "metadata": {},
   "source": [
    "**Predict**"
   ]
  },
  {
   "cell_type": "code",
   "execution_count": 77,
   "metadata": {},
   "outputs": [],
   "source": [
    "with fiona.open(path_seg) as src:\n",
    "    X_pred, _ = zonal_stats_xarray(ds, src, 'id')\n",
    "    y_pred = xgb_model.predict(X_pred)\n",
    "    fc_pred = [(x[0]['geometry'], x[1]) for x in zip(src, y_pred)]\n",
    "    source_driver = src.driver\n",
    "    source_crs = src.crs\n",
    "    source_schema = src.schema"
   ]
  },
  {
   "cell_type": "code",
   "execution_count": 78,
   "metadata": {},
   "outputs": [
    {
     "data": {
      "text/plain": [
       "array([[274.12673611, 661.21006944, 491.72222222, ..., 172.47916667,\n",
       "          3.76120543, 144.71194458],\n",
       "       [239.80729167, 543.38020833, 335.85069444, ..., 200.00520833,\n",
       "          6.60368109, 211.06695557],\n",
       "       [201.78125   , 488.296875  , 291.8125    , ..., 212.52604167,\n",
       "          7.39388752, 238.1703949 ],\n",
       "       ...,\n",
       "       [361.5521978 , 694.45604396, 633.46291209, ..., 162.07142857,\n",
       "          1.7761215 , 154.59822083],\n",
       "       [334.98840206, 717.64046392, 628.47680412, ..., 156.21391753,\n",
       "          1.58060408, 151.75968933],\n",
       "       [345.29224905, 692.63786531, 623.94409149, ..., 160.59085133,\n",
       "          1.91554034,  16.50127602]])"
      ]
     },
     "execution_count": 78,
     "metadata": {},
     "output_type": "execute_result"
    }
   ],
   "source": [
    "X_pred"
   ]
  },
  {
   "cell_type": "code",
   "execution_count": 79,
   "metadata": {},
   "outputs": [
    {
     "data": {
      "text/plain": [
       "array([27, 27,  9, ..., 28, 28, 28])"
      ]
     },
     "execution_count": 79,
     "metadata": {},
     "output_type": "execute_result"
    }
   ],
   "source": [
    "y_pred"
   ]
  },
  {
   "cell_type": "code",
   "execution_count": 81,
   "metadata": {},
   "outputs": [
    {
     "data": {
      "text/plain": [
       "array([ 9, 22, 27, 28, 29, 30, 31])"
      ]
     },
     "execution_count": 81,
     "metadata": {},
     "output_type": "execute_result"
    }
   ],
   "source": [
    "np.unique(y_pred)"
   ]
  },
  {
   "cell_type": "code",
   "execution_count": 82,
   "metadata": {},
   "outputs": [
    {
     "data": {
      "text/plain": [
       "({'type': 'Polygon',\n",
       "  'coordinates': [[(3677700.0, 576350.0),\n",
       "    (3678420.0, 576350.0),\n",
       "    (3678420.0, 575630.0),\n",
       "    (3677700.0, 575630.0),\n",
       "    (3677700.0, 576350.0)]]},\n",
       " 27)"
      ]
     },
     "execution_count": 82,
     "metadata": {},
     "output_type": "execute_result"
    }
   ],
   "source": [
    "fc_pred[0]"
   ]
  },
  {
   "cell_type": "code",
   "execution_count": 83,
   "metadata": {},
   "outputs": [],
   "source": [
    "fc_schema = {'geometry': 'Polygon',\n",
    "         'properties': {'code': 'int'}}\n",
    "fc_pred_geojson = [{'geometry': x[0],\n",
    "                  'properties': {'code': int(x[1])}, #why is necessary to transform to int ???\n",
    "                  'type': 'feature'} for x in fc_pred]"
   ]
  },
  {
   "cell_type": "code",
   "execution_count": 84,
   "metadata": {},
   "outputs": [
    {
     "data": {
      "text/plain": [
       "{'geometry': {'type': 'Polygon',\n",
       "  'coordinates': [[(3677700.0, 576350.0),\n",
       "    (3678420.0, 576350.0),\n",
       "    (3678420.0, 575630.0),\n",
       "    (3677700.0, 575630.0),\n",
       "    (3677700.0, 576350.0)]]},\n",
       " 'properties': {'code': 27},\n",
       " 'type': 'feature'}"
      ]
     },
     "execution_count": 84,
     "metadata": {},
     "output_type": "execute_result"
    }
   ],
   "source": [
    "fc_pred_geojson[0]"
   ]
  },
  {
   "cell_type": "code",
   "execution_count": 85,
   "metadata": {},
   "outputs": [],
   "source": [
    "gdf_pred = gpd.GeoDataFrame.from_features([feature for feature in fc_pred_geojson], \n",
    "                                          crs = crs_dict)"
   ]
  },
  {
   "cell_type": "code",
   "execution_count": 86,
   "metadata": {},
   "outputs": [
    {
     "data": {
      "text/html": [
       "<div>\n",
       "<style scoped>\n",
       "    .dataframe tbody tr th:only-of-type {\n",
       "        vertical-align: middle;\n",
       "    }\n",
       "\n",
       "    .dataframe tbody tr th {\n",
       "        vertical-align: top;\n",
       "    }\n",
       "\n",
       "    .dataframe thead th {\n",
       "        text-align: right;\n",
       "    }\n",
       "</style>\n",
       "<table border=\"1\" class=\"dataframe\">\n",
       "  <thead>\n",
       "    <tr style=\"text-align: right;\">\n",
       "      <th></th>\n",
       "      <th>geometry</th>\n",
       "      <th>code</th>\n",
       "    </tr>\n",
       "  </thead>\n",
       "  <tbody>\n",
       "    <tr>\n",
       "      <th>0</th>\n",
       "      <td>POLYGON ((3677700.000 576350.000, 3678420.000 ...</td>\n",
       "      <td>27</td>\n",
       "    </tr>\n",
       "    <tr>\n",
       "      <th>1</th>\n",
       "      <td>POLYGON ((3678420.000 576350.000, 3679140.000 ...</td>\n",
       "      <td>27</td>\n",
       "    </tr>\n",
       "    <tr>\n",
       "      <th>2</th>\n",
       "      <td>POLYGON ((3679140.000 576350.000, 3679860.000 ...</td>\n",
       "      <td>9</td>\n",
       "    </tr>\n",
       "    <tr>\n",
       "      <th>3</th>\n",
       "      <td>POLYGON ((3679860.000 576350.000, 3680580.000 ...</td>\n",
       "      <td>9</td>\n",
       "    </tr>\n",
       "    <tr>\n",
       "      <th>4</th>\n",
       "      <td>POLYGON ((3680580.000 576350.000, 3681300.000 ...</td>\n",
       "      <td>9</td>\n",
       "    </tr>\n",
       "  </tbody>\n",
       "</table>\n",
       "</div>"
      ],
      "text/plain": [
       "                                            geometry  code\n",
       "0  POLYGON ((3677700.000 576350.000, 3678420.000 ...    27\n",
       "1  POLYGON ((3678420.000 576350.000, 3679140.000 ...    27\n",
       "2  POLYGON ((3679140.000 576350.000, 3679860.000 ...     9\n",
       "3  POLYGON ((3679860.000 576350.000, 3680580.000 ...     9\n",
       "4  POLYGON ((3680580.000 576350.000, 3681300.000 ...     9"
      ]
     },
     "execution_count": 86,
     "metadata": {},
     "output_type": "execute_result"
    }
   ],
   "source": [
    "gdf_pred.head()"
   ]
  },
  {
   "cell_type": "code",
   "execution_count": 87,
   "metadata": {},
   "outputs": [],
   "source": [
    "bbox = gdf_pred.total_bounds"
   ]
  },
  {
   "cell_type": "code",
   "execution_count": 88,
   "metadata": {},
   "outputs": [
    {
     "data": {
      "text/plain": [
       "array([3677700.,  526340., 3727710.,  576350.])"
      ]
     },
     "execution_count": 88,
     "metadata": {},
     "output_type": "execute_result"
    }
   ],
   "source": [
    "bbox"
   ]
  },
  {
   "cell_type": "code",
   "execution_count": 91,
   "metadata": {},
   "outputs": [],
   "source": [
    "p1 = Point(bbox[0], bbox[3])\n",
    "p2 = Point(bbox[2], bbox[3])\n",
    "p3 = Point(bbox[2], bbox[1])\n",
    "p4 = Point(bbox[0], bbox[1])"
   ]
  },
  {
   "cell_type": "code",
   "execution_count": 92,
   "metadata": {},
   "outputs": [],
   "source": [
    "x_min, x_max = p1.coords.xy[0][0], p3.coords.xy[0][0]\n",
    "y_min, y_max = p3.coords.xy[1][0], p1.coords.xy[1][0]"
   ]
  },
  {
   "cell_type": "code",
   "execution_count": 93,
   "metadata": {},
   "outputs": [
    {
     "data": {
      "text/plain": [
       "(3677700.0, 3727710.0)"
      ]
     },
     "execution_count": 93,
     "metadata": {},
     "output_type": "execute_result"
    }
   ],
   "source": [
    "x_min, x_max"
   ]
  },
  {
   "cell_type": "code",
   "execution_count": 94,
   "metadata": {},
   "outputs": [
    {
     "data": {
      "text/plain": [
       "(526340.0, 576350.0)"
      ]
     },
     "execution_count": 94,
     "metadata": {},
     "output_type": "execute_result"
    }
   ],
   "source": [
    "y_min, y_max"
   ]
  },
  {
   "cell_type": "code",
   "execution_count": 96,
   "metadata": {},
   "outputs": [],
   "source": [
    "resolution=30"
   ]
  },
  {
   "cell_type": "code",
   "execution_count": 97,
   "metadata": {},
   "outputs": [],
   "source": [
    "nrows = int(((y_max - y_min) // resolution) + 1)\n",
    "ncols = int(((x_max - x_min) // resolution) + 1)\n",
    "shape_dim = (nrows, ncols)"
   ]
  },
  {
   "cell_type": "code",
   "execution_count": 98,
   "metadata": {},
   "outputs": [
    {
     "data": {
      "text/plain": [
       "(1668, 1668)"
      ]
     },
     "execution_count": 98,
     "metadata": {},
     "output_type": "execute_result"
    }
   ],
   "source": [
    "shape_dim"
   ]
  },
  {
   "cell_type": "markdown",
   "metadata": {},
   "source": [
    "**Write array to geotiff in filesystem**"
   ]
  },
  {
   "cell_type": "code",
   "execution_count": 103,
   "metadata": {},
   "outputs": [],
   "source": [
    "filename_raster = os.path.join(path,'raster_landsat8_chiapas_madmex_31_clases' + '_%d_%d' %(tile[0][0],tile[0][1]) + '.tif')"
   ]
  },
  {
   "cell_type": "code",
   "execution_count": 104,
   "metadata": {},
   "outputs": [
    {
     "data": {
      "text/plain": [
       "'/shared_volume/land_cover_results/raster_landsat8_chiapas_madmex_31_clases_54_-38.tif'"
      ]
     },
     "execution_count": 104,
     "metadata": {},
     "output_type": "execute_result"
    }
   ],
   "source": [
    "filename_raster"
   ]
  },
  {
   "cell_type": "code",
   "execution_count": 107,
   "metadata": {},
   "outputs": [],
   "source": [
    "arr = np.zeros((nrows, ncols), dtype=np.uint8)\n",
    "aff = Affine(resolution, 0, x_min, 0, -resolution, y_max)"
   ]
  },
  {
   "cell_type": "code",
   "execution_count": 111,
   "metadata": {},
   "outputs": [
    {
     "data": {
      "text/plain": [
       "array([[27, 27, 27, ..., 28, 28,  0],\n",
       "       [27, 27, 27, ..., 28, 28,  0],\n",
       "       [27, 27, 27, ..., 28, 28,  0],\n",
       "       ...,\n",
       "       [ 9,  9,  9, ..., 28, 28,  0],\n",
       "       [ 9,  9,  9, ..., 28, 28,  0],\n",
       "       [ 0,  0,  0, ...,  0,  0,  0]], dtype=uint8)"
      ]
     },
     "execution_count": 111,
     "metadata": {},
     "output_type": "execute_result"
    }
   ],
   "source": [
    "rasterize(shapes=fc_pred, transform=aff, dtype=np.uint8, out=arr)\n"
   ]
  },
  {
   "cell_type": "code",
   "execution_count": 112,
   "metadata": {},
   "outputs": [],
   "source": [
    "meta = {'driver': 'GTiff',\n",
    "        'width': shape_dim[1],\n",
    "        'height': shape_dim[0],\n",
    "        'count': 1,\n",
    "        'dtype': arr.dtype,\n",
    "        'crs': crs_dict,\n",
    "        'transform': aff,\n",
    "        'compress': 'lzw',\n",
    "        'nodata': 0}"
   ]
  },
  {
   "cell_type": "code",
   "execution_count": 113,
   "metadata": {},
   "outputs": [],
   "source": [
    "with rasterio.open(filename_raster, 'w', **meta) as dst:\n",
    "    dst.write(arr, 1)"
   ]
  },
  {
   "cell_type": "markdown",
   "metadata": {},
   "source": [
    "## What is missing is create mapping in db for:"
   ]
  },
  {
   "cell_type": "markdown",
   "metadata": {},
   "source": [
    "**Just as a reference:**\n",
    "\n",
    "dic_values = {1: 'Bosques de aciculifolias y escuamifolias',\n",
    "              2: 'Bosques latifoliados',\n",
    "              3: 'Bosque húmedo de montaña',\n",
    "              4: 'Manglar y petén',\n",
    "              5: 'Selvas húmedas',\n",
    "              6: 'Selvas secas',\n",
    "              7: 'Matorral alto denso',\n",
    "              8: 'Matorral mésico',\n",
    "              9: 'Matorral bajo abierto',\n",
    "              10: 'Vegetación acuática menor',\n",
    "              11: 'Vegetación de suelos arenosos',\n",
    "              12: 'Vegetación halófila',\n",
    "              13: 'Pastizales y otra vegetación herbácea',\n",
    "              14: 'Tierras agrícolas',\n",
    "              15: 'Urbano y construido',\n",
    "              16: 'Suelo desnudo',\n",
    "              17: 'Agua'}\n",
    "\n",
    "dic_colors={1:'#005100',\n",
    "            2:'#007e00',\n",
    "            3:'#00d900',\n",
    "            4:'#55aaff',\n",
    "            5:'#ff007f',\n",
    "            6:'#ff55ff',\n",
    "            7:'#6d4724',\n",
    "            8:'#ffb265',\n",
    "            9:'#aa8000',\n",
    "            10:'#aaffff',\n",
    "            11:'#a2ecb1',\n",
    "            12:'#00aa7f',\n",
    "            13:'#e9e9af',\n",
    "            14:'#faff98',\n",
    "            15:'#4d1009',\n",
    "            16:'#c7c8bc',\n",
    "            17:'#00007f'}"
   ]
  },
  {
   "cell_type": "markdown",
   "metadata": {},
   "source": [
    "**Add color map to file that will be written in filesystem like in:**\n",
    "\n",
    "https://github.com/CONABIO/antares3-sandbox/blob/master/notebooks/forests_maps_julian/model_predict_and_db_to_raster_pipeline.ipynb"
   ]
  }
 ],
 "metadata": {
  "kernelspec": {
   "display_name": "Python 3",
   "language": "python",
   "name": "python3"
  },
  "kubeflow_notebook": {
   "docker_image": "",
   "experiment": {
    "id": "",
    "name": ""
   },
   "experiment_name": "",
   "pipeline_description": "",
   "pipeline_name": "",
   "volumes": []
  },
  "language_info": {
   "codemirror_mode": {
    "name": "ipython",
    "version": 3
   },
   "file_extension": ".py",
   "mimetype": "text/x-python",
   "name": "python",
   "nbconvert_exporter": "python",
   "pygments_lexer": "ipython3",
   "version": "3.6.9"
  }
 },
 "nbformat": 4,
 "nbformat_minor": 4
}
