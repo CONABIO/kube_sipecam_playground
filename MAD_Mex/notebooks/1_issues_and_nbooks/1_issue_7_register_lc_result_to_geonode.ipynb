{
 "cells": [
  {
   "cell_type": "markdown",
   "metadata": {},
   "source": [
    "# Register lc classification result of MAD-Mex in geonode"
   ]
  },
  {
   "cell_type": "markdown",
   "metadata": {},
   "source": [
    "Following: https://github.com/CONABIO/geonode/tree/master/deployment_using_spcgeonode"
   ]
  },
  {
   "cell_type": "markdown",
   "metadata": {},
   "source": [
    "Being root `sudo su`"
   ]
  },
  {
   "cell_type": "markdown",
   "metadata": {},
   "source": [
    "Install docker-compose:"
   ]
  },
  {
   "cell_type": "markdown",
   "metadata": {},
   "source": [
    "```\n",
    "cd ~\n",
    "sudo curl -L \"https://github.com/docker/compose/releases/download/1.26.2/docker-compose-$(uname -s)-$(uname -m)\" -o /usr/local/bin/docker-compose\n",
    "sudo chmod +x /usr/local/bin/docker-compose\n",
    "```"
   ]
  },
  {
   "cell_type": "markdown",
   "metadata": {},
   "source": [
    "Deploy geonode using https://github.com/CONABIO/geonode/tree/master/deployment_using_spcgeonode instructions"
   ]
  },
  {
   "cell_type": "markdown",
   "metadata": {},
   "source": [
    "When cloning repo of geonode in `/shared_volume` change `/shared_volume/geonode/scripts/spcgeonode/nginx/nginx.conf.envsubst` to `server_names_hash_bucket_size  128;` and use in `/shared_volume/geonode/scripts/spcgeonode/.env` `ipv4 dns of ec2 instance`\n",
    "\n",
    "\n"
   ]
  },
  {
   "cell_type": "markdown",
   "metadata": {},
   "source": [
    "And add rule in security groups for `80` port"
   ]
  },
  {
   "cell_type": "markdown",
   "metadata": {},
   "source": [
    "To register lc classification result of MAD-Mex in geonode will use: https://github.com/CONABIO/geonode/tree/master/python3_package_for_geonode\n"
   ]
  },
  {
   "cell_type": "markdown",
   "metadata": {},
   "source": [
    "```\n",
    "JUPYTERLAB_VERSION=2.1.4\n",
    "REPO_URL=palmoreck/jupyterlab_geopython_for_conabio_cluster_root_user\n",
    "docker run --rm -v /var/run/docker.sock:/var/run/docker.sock -v /shared_volume/land_cover_results/:/shared_volume/land_cover_results/ --name jupyterlab_geopython -p 8888:8888 -d $REPO_URL:$JUPYTERLAB_VERSION\n",
    "```\n"
   ]
  },
  {
   "cell_type": "markdown",
   "metadata": {},
   "source": [
    "And add rule in security groups for `8888` port.\n",
    "\n"
   ]
  },
  {
   "cell_type": "markdown",
   "metadata": {},
   "source": [
    "In jupyterlab of jupyterlab_geopython container\n",
    "\n",
    "```\n",
    "cd\n",
    "git clone https://github.com/CONABIO/geonode.git geonode_conabio\n",
    "cd geonode_conabio/python3_package_for_geonode/\n",
    "pip3 install .\n",
    "```\n",
    "\n"
   ]
  },
  {
   "cell_type": "markdown",
   "metadata": {},
   "source": [
    "```\n",
    "cat .geonode_conabio \n",
    "HOST_NAME=\"<ipv4 ec2>\"\n",
    "USER_GEOSERVER=\"super\"\n",
    "PASSWORD_GEOSERVER=\"duper\"\n",
    "PASSWORD_DB_GEONODE_DATA=\"geonode\"\n",
    "```\n",
    "\n"
   ]
  },
  {
   "cell_type": "markdown",
   "metadata": {},
   "source": [
    "```\n",
    "import_raster --base_directory /shared_volume/land_cover_results/ --input_filename raster_landsat8_chiapas_madmex_31_clases_pixel_wise_54_-38.tif --region \"Chiapas, Mexico, North America, Latin America\" --name \"Chiapas_lc_2017_landsat8_test\" --title \"Land cover Chiapas landsat8 2017 test\" --abstract \"Test\" --key_words \"Chiapas\"\n",
    "```\n",
    "\n",
    "Use sld from:\n",
    "\n",
    "https://github.com/CONABIO/geonode/blob/master/styles/madmex_31_classes.sld\n",
    "\n",
    "\n",
    "\n"
   ]
  }
 ],
 "metadata": {
  "kernelspec": {
   "display_name": "Python 3",
   "language": "python",
   "name": "python3"
  },
  "language_info": {
   "codemirror_mode": {
    "name": "ipython",
    "version": 3
   },
   "file_extension": ".py",
   "mimetype": "text/x-python",
   "name": "python",
   "nbconvert_exporter": "python",
   "pygments_lexer": "ipython3",
   "version": "3.7.3"
  }
 },
 "nbformat": 4,
 "nbformat_minor": 4
}
