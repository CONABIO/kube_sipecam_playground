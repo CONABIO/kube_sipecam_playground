{
 "cells": [
  {
   "cell_type": "markdown",
   "metadata": {
    "tags": []
   },
   "source": [
    "# Example of import_raster cmd using API of geonode_conabio and [kale](https://github.com/kubeflow-kale/kale) functionality"
   ]
  },
  {
   "cell_type": "markdown",
   "metadata": {
    "tags": []
   },
   "source": [
    "Reference: https://github.com/CONABIO/geonode/blob/master/notebooks/towards_module_python_to_ingest_programmatically_into_geonode/1_normalizing_and_reprojecting.ipynb"
   ]
  },
  {
   "cell_type": "markdown",
   "metadata": {
    "tags": []
   },
   "source": [
    "**Raster has small size**"
   ]
  },
  {
   "cell_type": "code",
   "execution_count": 1,
   "metadata": {
    "tags": [
     "imports"
    ]
   },
   "outputs": [
    {
     "name": "stderr",
     "output_type": "stream",
     "text": [
      "Python-dotenv could not parse statement starting at line 1\n"
     ]
    }
   ],
   "source": [
    "import os\n",
    "\n",
    "from pyproj import Proj\n",
    "import rasterio\n",
    "from docker import APIClient\n",
    "\n",
    "from geonode_conabio.wrappers import reproj_and_write_one_band_raster\n",
    "from geonode_conabio.utils_docker import import_layers_via_docker"
   ]
  },
  {
   "cell_type": "code",
   "execution_count": 2,
   "metadata": {
    "tags": [
     "block:reprojwriteonebandraster"
    ]
   },
   "outputs": [],
   "source": [
    "path = \"/shared_volume/land_cover_results\"\n",
    "filename = \"raster_landsat8_chiapas_madmex_31_clases_pixel_wise_via_kale_54_-38.tif\"\n",
    "filename = os.path.join(path, filename)\n",
    "output_filename = \"raster_landsat8_chiapas_madmex_31_clases_pixel_wise_via_kale_54_-38_processed_for_geonode.tif\"\n",
    "output_filename = os.path.join(path, output_filename)\n",
    "with rasterio.open(filename) as src:\n",
    "    src_crs = src.crs.to_string()\n",
    "    proj_crs = Proj(src_crs)\n",
    "    if not proj_crs.crs.is_geographic:\n",
    "        reproj_and_write_one_band_raster(src, output_filename,\n",
    "                                         is_geographic=False)\n",
    "    else:\n",
    "        reproj_and_write_one_band_raster(src, output_filename)"
   ]
  },
  {
   "cell_type": "code",
   "execution_count": 3,
   "metadata": {
    "tags": [
     "skip"
    ]
   },
   "outputs": [
    {
     "name": "stdout",
     "output_type": "stream",
     "text": [
      "/shared_volume/land_cover_results/raster_landsat8_chiapas_madmex_31_clases_pixel_wise_via_kale_54_-38.tif\n"
     ]
    }
   ],
   "source": [
    "print(filename)"
   ]
  },
  {
   "cell_type": "code",
   "execution_count": 4,
   "metadata": {
    "tags": [
     "skip"
    ]
   },
   "outputs": [
    {
     "name": "stdout",
     "output_type": "stream",
     "text": [
      "/shared_volume/land_cover_results/raster_landsat8_chiapas_madmex_31_clases_pixel_wise_via_kale_54_-38_processed_for_geonode.tif\n"
     ]
    }
   ],
   "source": [
    "print(output_filename)"
   ]
  },
  {
   "cell_type": "code",
   "execution_count": null,
   "metadata": {
    "tags": [
     "block:importlayer",
     "prev:reprojwriteonebandraster"
    ]
   },
   "outputs": [],
   "source": [
    "region = \"\".join([\"\\\"Chiapas, Mexico, North America, Latin America\\\"\"])\n",
    "name = \"\\\"Chiapas_lc_2017_landsat8_test\\\"\"\n",
    "title = \"\\\"Land cover Chiapas landsat8 2017 test using kale\\\"\"\n",
    "abstract = \"\\\"Test kale\\\"\"\n",
    "kw = \"\\\"Chiapas\\\"\"\n",
    "\n",
    "\n",
    "c = APIClient(base_url='tcp://172.17.0.1:1111')\n",
    "cmd = \"\".join([\"python manage.py importlayers -v 3 -i -o \",\n",
    "               \"-n \", name, \" \",\n",
    "               \"-t \", title, \" \",\n",
    "               \"-a \", abstract, \" \",\n",
    "               \"-k \", kw, \" \",\n",
    "               \"-r \", region, \" \",\n",
    "               output_filename, \" \",\n",
    "               \"--settings=geonode.local_settings\"])\n",
    "ex = c.exec_create(container = 'spcgeonode_django_1', \n",
    "                   cmd = cmd)\n",
    "ex_start = c.exec_start(exec_id=ex)\n",
    "\n",
    "print(ex_start)\n",
    "c.close()\n",
    "os.remove(output_filename)"
   ]
  },
  {
   "cell_type": "markdown",
   "metadata": {
    "tags": []
   },
   "source": [
    "Maybe check this one:\n",
    "\n",
    "https://github.com/CONABIO/geonode/issues/12\n",
    "\n",
    "and use: \n",
    "\n",
    "https://github.com/CONABIO/geonode/blob/master/styles/madmex_31_classes.sld"
   ]
  }
 ],
 "metadata": {
  "kernelspec": {
   "display_name": "Python 3",
   "language": "python",
   "name": "python3"
  },
  "kubeflow_notebook": {
   "docker_image": "sipecam/geonode-conabio-kale:0.1_0.5.0",
   "experiment": {
    "id": "",
    "name": ""
   },
   "experiment_name": "",
   "pipeline_description": "Upload small size raster to geonode",
   "pipeline_name": "geonode-uploadsmallraster",
   "volumes": [
    {
     "annotations": [],
     "mount_point": "/shared_volume",
     "name": "hostpath-pvc",
     "size": 1,
     "size_type": "Gi",
     "snapshot": false,
     "snapshot_name": "",
     "type": "pvc"
    }
   ]
  },
  "language_info": {
   "codemirror_mode": {
    "name": "ipython",
    "version": 3
   },
   "file_extension": ".py",
   "mimetype": "text/x-python",
   "name": "python",
   "nbconvert_exporter": "python",
   "pygments_lexer": "ipython3",
   "version": "3.6.9"
  }
 },
 "nbformat": 4,
 "nbformat_minor": 4
}
