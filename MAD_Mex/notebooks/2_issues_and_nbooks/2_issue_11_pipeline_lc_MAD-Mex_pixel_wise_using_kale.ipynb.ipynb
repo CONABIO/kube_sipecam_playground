{
 "cells": [
  {
   "cell_type": "markdown",
   "metadata": {
    "tags": []
   },
   "source": [
    "# Example of recipe computation, model fit, predict* and conversion to raster using API of antares3 and [kale](https://github.com/kubeflow-kale/kale) functionality\n",
    "\n",
    "*Prediction is pixel wise."
   ]
  },
  {
   "cell_type": "code",
   "execution_count": null,
   "metadata": {},
   "outputs": [],
   "source": []
  },
  {
   "cell_type": "markdown",
   "metadata": {
    "tags": []
   },
   "source": [
    "**Will use an already ingested and processed Landsat8 data via antares3**"
   ]
  },
  {
   "cell_type": "markdown",
   "metadata": {
    "tags": []
   },
   "source": [
    "## Some imports"
   ]
  },
  {
   "cell_type": "code",
   "execution_count": 1,
   "metadata": {
    "tags": [
     "imports"
    ]
   },
   "outputs": [],
   "source": [
    "import sys\n",
    "\n",
    "import os\n",
    "import json\n",
    "\n",
    "import matplotlib\n",
    "from matplotlib.patches import Patch\n",
    "from matplotlib import pyplot as plt\n",
    "import numpy as np\n",
    "from shapely.geometry import Point\n",
    "import rasterio\n",
    "import dill\n",
    "import geopandas as gpd\n",
    "import fiona\n",
    "from affine import Affine\n",
    "from rasterio.features import rasterize\n",
    "\n",
    "from datacube.api import GridWorkflow\n",
    "\n",
    "from madmex.util.db import get_cmap_from_scheme\n",
    "from madmex.models import Tag\n",
    "from madmex.overlay.extractions import zonal_stats_xarray\n",
    "from madmex.io.vector_db import VectorDb\n",
    "from madmex.wrappers import gwf_query\n",
    "from madmex.modeling.supervised.xgb import Model\n",
    "from madmex.models import Tag\n",
    "from madmex.overlay.extractions import zonal_stats_xarray\n",
    "from madmex.util import randomword\n",
    "from django.contrib.gis.geos.geometry import GEOSGeometry\n",
    "from madmex.models import PredictObject"
   ]
  },
  {
   "cell_type": "markdown",
   "metadata": {},
   "source": [
    "## Recipe computation"
   ]
  },
  {
   "cell_type": "code",
   "execution_count": null,
   "metadata": {},
   "outputs": [],
   "source": [
    "os.environ.setdefault(\"DJANGO_ALLOW_ASYNC_UNSAFE\", \"true\")\n",
    "sys.__stdout__ = sys.stdout\n",
    "sys.stdout = sys.__stdout__\n",
    "name_of_product = 'recipe_chiapas_L8_17'"
   ]
  },
  {
   "cell_type": "code",
   "execution_count": null,
   "metadata": {},
   "outputs": [],
   "source": [
    "region = 'Chiapas'\n",
    "name_of_product = 'ls8_espa_mexico'\n",
    "begin = '2017-01-01'\n",
    "end = '2017-12-31'\n",
    "gwf_kwargs = {'region': region, \n",
    "              'product': name_of_product, \n",
    "              'begin': begin, \n",
    "              'end':end}\n",
    "iterable = gwf_query(**gwf_kwargs)\n",
    "\n",
    "#query\n",
    "\n",
    "list_iter = list(iterable)\n",
    "\n",
    "list_iter_sorted = sorted(list_iter, key = lambda x: (x[0][0], x[0][1]))\n",
    "\n"
   ]
  },
  {
   "cell_type": "code",
   "execution_count": null,
   "metadata": {},
   "outputs": [],
   "source": [
    "print(list_iter_sorted)"
   ]
  },
  {
   "cell_type": "code",
   "execution_count": null,
   "metadata": {},
   "outputs": [],
   "source": [
    "# Select datacube tile index: (59, -31)\n",
    "\n",
    "tile = [index for index in list_iter_sorted if index[0] == (54, -38)][0]\n",
    "\n",
    "# Load via Grid Workflow API\n",
    "ds = GridWorkflow.load(tile[1])"
   ]
  },
  {
   "cell_type": "markdown",
   "metadata": {
    "tags": []
   },
   "source": [
    "## Fit model"
   ]
  }
 ],
 "metadata": {
  "kernelspec": {
   "display_name": "Python 3",
   "language": "python",
   "name": "python3"
  },
  "language_info": {
   "codemirror_mode": {
    "name": "ipython",
    "version": 3
   },
   "file_extension": ".py",
   "mimetype": "text/x-python",
   "name": "python",
   "nbconvert_exporter": "python",
   "pygments_lexer": "ipython3",
   "version": "3.7.3"
  }
 },
 "nbformat": 4,
 "nbformat_minor": 4
}
