{
 "cells": [
  {
   "cell_type": "markdown",
   "metadata": {
    "tags": []
   },
   "source": [
    "# Example of recipe computation, model fit, predict* and conversion to raster using API of antares3 and [kale](https://github.com/kubeflow-kale/kale) functionality\n",
    "\n",
    "*Prediction is pixel wise."
   ]
  },
  {
   "cell_type": "markdown",
   "metadata": {
    "tags": []
   },
   "source": [
    "**Will use an already ingested and processed Landsat8 data via antares3**"
   ]
  },
  {
   "cell_type": "markdown",
   "metadata": {
    "tags": []
   },
   "source": [
    "## Some imports"
   ]
  },
  {
   "cell_type": "code",
   "execution_count": 1,
   "metadata": {
    "tags": [
     "imports"
    ]
   },
   "outputs": [],
   "source": [
    "import sys\n",
    "\n",
    "import os\n",
    "import json\n",
    "from datetime import datetime\n",
    "\n",
    "import matplotlib\n",
    "from matplotlib.patches import Patch\n",
    "from matplotlib import pyplot as plt\n",
    "import numpy as np\n",
    "import xarray as xr\n",
    "from shapely.geometry import Point\n",
    "import rasterio\n",
    "import dill\n",
    "import geopandas as gpd\n",
    "import fiona\n",
    "from affine import Affine\n",
    "from rasterio.features import rasterize\n"
   ]
  },
  {
   "cell_type": "code",
   "execution_count": 2,
   "metadata": {},
   "outputs": [],
   "source": [
    "sys.__stdout__ = sys.stdout"
   ]
  },
  {
   "cell_type": "code",
   "execution_count": 3,
   "metadata": {},
   "outputs": [
    {
     "name": "stderr",
     "output_type": "stream",
     "text": [
      "/usr/local/lib/python3.6/dist-packages/dask/utils.py:30: RuntimeWarning: All-NaN slice encountered\n",
      "2020-09-07 18:48:41,525 - madmex.wrappers - loggerwriter write: /usr/local/lib/python3.6/dist-packages/dask/utils.py:30: RuntimeWarning: All-NaN slice encountered\n",
      "  return func(*args, **kwargs)\n",
      "2020-09-07 18:48:41,526 - madmex.wrappers - loggerwriter write:   return func(*args, **kwargs)\n",
      "/usr/local/lib/python3.6/dist-packages/toolz/functoolz.py:488: RuntimeWarning: All-NaN slice encountered\n",
      "2020-09-07 18:48:42,224 - madmex.wrappers - loggerwriter write: /usr/local/lib/python3.6/dist-packages/toolz/functoolz.py:488: RuntimeWarning: All-NaN slice encountered\n",
      "  ret = f(ret)\n",
      "2020-09-07 18:48:42,226 - madmex.wrappers - loggerwriter write:   ret = f(ret)\n",
      "/root/.local/lib/python3.6/site-packages/madmex/util/__init__.py:26: YAMLLoadWarning: calling yaml.load() without Loader=... is deprecated, as the default Loader is unsafe. Please read https://msg.pyyaml.org/load for full details.\n",
      "2020-09-07 19:07:37,664 - madmex.wrappers - loggerwriter write: /root/.local/lib/python3.6/site-packages/madmex/util/__init__.py:26: YAMLLoadWarning: calling yaml.load() without Loader=... is deprecated, as the default Loader is unsafe. Please read https://msg.pyyaml.org/load for full details.\n",
      "  out = yaml.load(src)\n",
      "2020-09-07 19:07:37,665 - madmex.wrappers - loggerwriter write:   out = yaml.load(src)\n",
      "/root/.local/lib/python3.6/site-packages/madmex/indexing.py:66: YAMLLoadWarning: calling yaml.load() without Loader=... is deprecated, as the default Loader is unsafe. Please read https://msg.pyyaml.org/load for full details.\n",
      "2020-09-07 19:07:37,678 - madmex.wrappers - loggerwriter write: /root/.local/lib/python3.6/site-packages/madmex/indexing.py:66: YAMLLoadWarning: calling yaml.load() without Loader=... is deprecated, as the default Loader is unsafe. Please read https://msg.pyyaml.org/load for full details.\n",
      "  description_dict = yaml.load(src)\n",
      "2020-09-07 19:07:37,679 - madmex.wrappers - loggerwriter write:   description_dict = yaml.load(src)\n",
      "/usr/local/lib/python3.6/dist-packages/pyproj/crs/crs.py:53: FutureWarning: '+init=<authority>:<code>' syntax is deprecated. '<authority>:<code>' is the preferred initialization method. When making the change, be mindful of axis order changes: https://pyproj4.github.io/pyproj/stable/gotchas.html#axis-order-changes-in-proj-6\n",
      "2020-09-07 19:07:40,758 - madmex.wrappers - loggerwriter write: /usr/local/lib/python3.6/dist-packages/pyproj/crs/crs.py:53: FutureWarning: '+init=<authority>:<code>' syntax is deprecated. '<authority>:<code>' is the preferred initialization method. When making the change, be mindful of axis order changes: https://pyproj4.github.io/pyproj/stable/gotchas.html#axis-order-changes-in-proj-6\n",
      "  return _prepare_from_string(\" \".join(pjargs))\n",
      "2020-09-07 19:07:40,812 - madmex.wrappers - loggerwriter write:   return _prepare_from_string(\" \".join(pjargs))\n",
      "/usr/local/lib/python3.6/dist-packages/pyproj/crs/crs.py:294: FutureWarning: '+init=<authority>:<code>' syntax is deprecated. '<authority>:<code>' is the preferred initialization method. When making the change, be mindful of axis order changes: https://pyproj4.github.io/pyproj/stable/gotchas.html#axis-order-changes-in-proj-6\n",
      "2020-09-07 19:07:40,813 - madmex.wrappers - loggerwriter write: /usr/local/lib/python3.6/dist-packages/pyproj/crs/crs.py:294: FutureWarning: '+init=<authority>:<code>' syntax is deprecated. '<authority>:<code>' is the preferred initialization method. When making the change, be mindful of axis order changes: https://pyproj4.github.io/pyproj/stable/gotchas.html#axis-order-changes-in-proj-6\n",
      "  projstring = _prepare_from_string(\" \".join((projstring, projkwargs)))\n",
      "2020-09-07 19:07:40,814 - madmex.wrappers - loggerwriter write:   projstring = _prepare_from_string(\" \".join((projstring, projkwargs)))\n",
      "/root/.local/lib/python3.6/site-packages/madmex/util/__init__.py:26: YAMLLoadWarning: calling yaml.load() without Loader=... is deprecated, as the default Loader is unsafe. Please read https://msg.pyyaml.org/load for full details.\n",
      "2020-09-07 19:08:40,042 - madmex.wrappers - loggerwriter write: /root/.local/lib/python3.6/site-packages/madmex/util/__init__.py:26: YAMLLoadWarning: calling yaml.load() without Loader=... is deprecated, as the default Loader is unsafe. Please read https://msg.pyyaml.org/load for full details.\n",
      "  out = yaml.load(src)\n",
      "2020-09-07 19:08:40,043 - madmex.wrappers - loggerwriter write:   out = yaml.load(src)\n",
      "/root/.local/lib/python3.6/site-packages/madmex/indexing.py:66: YAMLLoadWarning: calling yaml.load() without Loader=... is deprecated, as the default Loader is unsafe. Please read https://msg.pyyaml.org/load for full details.\n",
      "2020-09-07 19:08:40,111 - madmex.wrappers - loggerwriter write: /root/.local/lib/python3.6/site-packages/madmex/indexing.py:66: YAMLLoadWarning: calling yaml.load() without Loader=... is deprecated, as the default Loader is unsafe. Please read https://msg.pyyaml.org/load for full details.\n",
      "  description_dict = yaml.load(src)\n",
      "2020-09-07 19:08:40,113 - madmex.wrappers - loggerwriter write:   description_dict = yaml.load(src)\n",
      "/usr/local/lib/python3.6/dist-packages/pyproj/crs/crs.py:53: FutureWarning: '+init=<authority>:<code>' syntax is deprecated. '<authority>:<code>' is the preferred initialization method. When making the change, be mindful of axis order changes: https://pyproj4.github.io/pyproj/stable/gotchas.html#axis-order-changes-in-proj-6\n",
      "2020-09-07 19:08:43,426 - madmex.wrappers - loggerwriter write: /usr/local/lib/python3.6/dist-packages/pyproj/crs/crs.py:53: FutureWarning: '+init=<authority>:<code>' syntax is deprecated. '<authority>:<code>' is the preferred initialization method. When making the change, be mindful of axis order changes: https://pyproj4.github.io/pyproj/stable/gotchas.html#axis-order-changes-in-proj-6\n",
      "  return _prepare_from_string(\" \".join(pjargs))\n",
      "2020-09-07 19:08:43,428 - madmex.wrappers - loggerwriter write:   return _prepare_from_string(\" \".join(pjargs))\n",
      "/usr/local/lib/python3.6/dist-packages/pyproj/crs/crs.py:294: FutureWarning: '+init=<authority>:<code>' syntax is deprecated. '<authority>:<code>' is the preferred initialization method. When making the change, be mindful of axis order changes: https://pyproj4.github.io/pyproj/stable/gotchas.html#axis-order-changes-in-proj-6\n",
      "2020-09-07 19:08:43,428 - madmex.wrappers - loggerwriter write: /usr/local/lib/python3.6/dist-packages/pyproj/crs/crs.py:294: FutureWarning: '+init=<authority>:<code>' syntax is deprecated. '<authority>:<code>' is the preferred initialization method. When making the change, be mindful of axis order changes: https://pyproj4.github.io/pyproj/stable/gotchas.html#axis-order-changes-in-proj-6\n",
      "  projstring = _prepare_from_string(\" \".join((projstring, projkwargs)))\n",
      "2020-09-07 19:08:43,429 - madmex.wrappers - loggerwriter write:   projstring = _prepare_from_string(\" \".join((projstring, projkwargs)))\n",
      "/root/.local/lib/python3.6/site-packages/madmex/util/__init__.py:26: YAMLLoadWarning: calling yaml.load() without Loader=... is deprecated, as the default Loader is unsafe. Please read https://msg.pyyaml.org/load for full details.\n",
      "2020-09-07 19:09:02,578 - madmex.wrappers - loggerwriter write: /root/.local/lib/python3.6/site-packages/madmex/util/__init__.py:26: YAMLLoadWarning: calling yaml.load() without Loader=... is deprecated, as the default Loader is unsafe. Please read https://msg.pyyaml.org/load for full details.\n",
      "  out = yaml.load(src)\n",
      "2020-09-07 19:09:02,579 - madmex.wrappers - loggerwriter write:   out = yaml.load(src)\n",
      "/root/.local/lib/python3.6/site-packages/madmex/indexing.py:66: YAMLLoadWarning: calling yaml.load() without Loader=... is deprecated, as the default Loader is unsafe. Please read https://msg.pyyaml.org/load for full details.\n",
      "2020-09-07 19:09:02,591 - madmex.wrappers - loggerwriter write: /root/.local/lib/python3.6/site-packages/madmex/indexing.py:66: YAMLLoadWarning: calling yaml.load() without Loader=... is deprecated, as the default Loader is unsafe. Please read https://msg.pyyaml.org/load for full details.\n",
      "  description_dict = yaml.load(src)\n",
      "2020-09-07 19:09:02,593 - madmex.wrappers - loggerwriter write:   description_dict = yaml.load(src)\n",
      "/usr/local/lib/python3.6/dist-packages/pyproj/crs/crs.py:53: FutureWarning: '+init=<authority>:<code>' syntax is deprecated. '<authority>:<code>' is the preferred initialization method. When making the change, be mindful of axis order changes: https://pyproj4.github.io/pyproj/stable/gotchas.html#axis-order-changes-in-proj-6\n",
      "2020-09-07 19:09:05,614 - madmex.wrappers - loggerwriter write: /usr/local/lib/python3.6/dist-packages/pyproj/crs/crs.py:53: FutureWarning: '+init=<authority>:<code>' syntax is deprecated. '<authority>:<code>' is the preferred initialization method. When making the change, be mindful of axis order changes: https://pyproj4.github.io/pyproj/stable/gotchas.html#axis-order-changes-in-proj-6\n",
      "  return _prepare_from_string(\" \".join(pjargs))\n",
      "2020-09-07 19:09:05,615 - madmex.wrappers - loggerwriter write:   return _prepare_from_string(\" \".join(pjargs))\n",
      "/usr/local/lib/python3.6/dist-packages/pyproj/crs/crs.py:294: FutureWarning: '+init=<authority>:<code>' syntax is deprecated. '<authority>:<code>' is the preferred initialization method. When making the change, be mindful of axis order changes: https://pyproj4.github.io/pyproj/stable/gotchas.html#axis-order-changes-in-proj-6\n",
      "2020-09-07 19:09:05,616 - madmex.wrappers - loggerwriter write: /usr/local/lib/python3.6/dist-packages/pyproj/crs/crs.py:294: FutureWarning: '+init=<authority>:<code>' syntax is deprecated. '<authority>:<code>' is the preferred initialization method. When making the change, be mindful of axis order changes: https://pyproj4.github.io/pyproj/stable/gotchas.html#axis-order-changes-in-proj-6\n",
      "  projstring = _prepare_from_string(\" \".join((projstring, projkwargs)))\n",
      "2020-09-07 19:09:05,617 - madmex.wrappers - loggerwriter write:   projstring = _prepare_from_string(\" \".join((projstring, projkwargs)))\n"
     ]
    }
   ],
   "source": [
    "import datacube\n",
    "from datacube.api import GridWorkflow\n",
    "from datacube.storage import masking\n",
    "from datacube.drivers.netcdf import write_dataset_to_netcdf\n",
    "\n",
    "from madmex.util.db import get_cmap_from_scheme\n",
    "from madmex.models import Tag\n",
    "from madmex.overlay.extractions import zonal_stats_xarray\n",
    "from madmex.io.vector_db import VectorDb\n",
    "from madmex.wrappers import gwf_query\n",
    "from madmex.modeling.supervised.xgb import Model\n",
    "from madmex.models import Tag\n",
    "from madmex.overlay.extractions import zonal_stats_xarray\n",
    "from madmex.util import randomword, mid_date, join_dicts\n",
    "from madmex.util.xarray import to_float, to_int\n",
    "from django.contrib.gis.geos.geometry import GEOSGeometry\n",
    "from madmex.models import PredictObject"
   ]
  },
  {
   "cell_type": "code",
   "execution_count": 4,
   "metadata": {},
   "outputs": [],
   "source": [
    "sys.stdout = sys.__stdout__"
   ]
  },
  {
   "cell_type": "markdown",
   "metadata": {},
   "source": [
    "## Recipe computation"
   ]
  },
  {
   "cell_type": "code",
   "execution_count": null,
   "metadata": {},
   "outputs": [],
   "source": [
    "name_of_recipe_product = 'recipe_chiapas_L8_17'"
   ]
  },
  {
   "cell_type": "code",
   "execution_count": 16,
   "metadata": {},
   "outputs": [],
   "source": [
    "path_recipe = os.path.join('/shared_volume/datacube_ingest/recipes/', name_of_recipe_product)"
   ]
  },
  {
   "cell_type": "code",
   "execution_count": null,
   "metadata": {},
   "outputs": [],
   "source": [
    "print(pat_recipe)"
   ]
  },
  {
   "cell_type": "code",
   "execution_count": null,
   "metadata": {},
   "outputs": [],
   "source": [
    "if not os.path.exists(path_recipe):\n",
    "    os.makedirs(path_recipe)"
   ]
  },
  {
   "cell_type": "markdown",
   "metadata": {},
   "source": [
    "Following [landsat_madmex_003.py](https://github.com/CONABIO/antares3/blob/develop/madmex/recipes/landsat_madmex_003.py)"
   ]
  },
  {
   "cell_type": "code",
   "execution_count": 5,
   "metadata": {},
   "outputs": [],
   "source": [
    "os.environ.setdefault(\"DJANGO_ALLOW_ASYNC_UNSAFE\", \"true\")\n",
    "sys.__stdout__ = sys.stdout\n",
    "sys.stdout = sys.__stdout__\n"
   ]
  },
  {
   "cell_type": "code",
   "execution_count": 9,
   "metadata": {},
   "outputs": [],
   "source": [
    "region = 'Chiapas'\n",
    "products = ['ls8_espa_mexico']\n",
    "begin = '2017-01-01'\n",
    "end = '2017-12-31'\n",
    "gwf_kwargs = {'region': region, \n",
    "              'begin': begin, \n",
    "              'end':end}\n"
   ]
  },
  {
   "cell_type": "code",
   "execution_count": 10,
   "metadata": {},
   "outputs": [],
   "source": [
    "#query\n",
    "\n",
    "dict_list = []\n",
    "for prod in products:\n",
    "    gwf_kwargs.update(product = prod)\n",
    "    try:\n",
    "        dict_list.append(gwf_query(**gwf_kwargs, view=False))\n",
    "    # Exception is in case one of the product hasn't been registered in the datacube\n",
    "    except Exception as e:\n",
    "        pass\n",
    "iterable = join_dicts(*dict_list, join='full').items()\n",
    "\n",
    "\n",
    "list_iter = list(iterable)\n",
    "\n",
    "list_iter_sorted = sorted(list_iter, key = lambda x: (x[0][0], x[0][1]))"
   ]
  },
  {
   "cell_type": "code",
   "execution_count": 12,
   "metadata": {},
   "outputs": [],
   "source": [
    "# Select datacube tile index: (54, -38)\n",
    "\n",
    "tile = [index for index in list_iter_sorted if index[0] == (54, -38)][0]\n",
    "center_dt = mid_date(datetime.strptime(begin, '%Y-%m-%d'), \n",
    "                     datetime.strptime(end, '%Y-%m-%d'))\n",
    "crs = tile[1][0].geobox.crs\n",
    "center_dt = center_dt.strftime(\"%Y-%m-%d\")\n",
    "nc_filename = os.path.join(path_recipe, 'madmex_003_%d_%d_%s.nc' % (tile[0][0], tile[0][1], center_dt))\n"
   ]
  },
  {
   "cell_type": "code",
   "execution_count": null,
   "metadata": {},
   "outputs": [],
   "source": [
    "print(nc_filename)"
   ]
  },
  {
   "cell_type": "code",
   "execution_count": 31,
   "metadata": {},
   "outputs": [],
   "source": [
    "# Load via Grid Workflow API\n",
    "ds = xr.combine_by_coords([GridWorkflow.load(x, dask_chunks={'x': 1200, 'y': 1200})\n",
    "                             for x in tile[1]], data_vars='minimal', coords='minimal')\n",
    "ds.attrs['geobox'] = tile[1][0].geobox\n",
    "\n",
    "# Mask clouds, shadow, water, ice,... and drop qa layer\n",
    "clear = masking.make_mask(ds.pixel_qa, cloud=False, cloud_shadow=False,\n",
    "                          snow=False)\n",
    "ds_1 = ds.where(clear)\n",
    "ds_1 = ds_1.drop('pixel_qa')\n",
    "ds_1 = ds_1.apply(func=to_float, keep_attrs=True)\n",
    "# Compute vegetation indices\n",
    "ds_1['ndvi'] = ((ds_1.nir - ds_1.red) / (ds_1.nir + ds_1.red)) * 10000\n",
    "ds_1['ndvi'].attrs['nodata'] = -9999\n",
    "ds_1['ndmi'] = ((ds_1.nir - ds_1.swir1) / (ds_1.nir + ds_1.swir1)) * 10000\n",
    "ds_1['ndmi'].attrs['nodata'] = -9999\n",
    "# Run temporal reductions and rename DataArrays\n",
    "ds_mean = ds_1.mean('time', keep_attrs=True, skipna=True)\n",
    "ds_mean = ds_mean.rename({'blue': 'blue_mean',\n",
    "                          'green': 'green_mean',\n",
    "                          'red': 'red_mean',\n",
    "                          'nir': 'nir_mean',\n",
    "                          'swir1': 'swir1_mean',\n",
    "                          'swir2': 'swir2_mean',\n",
    "                          'ndmi': 'ndmi_mean',\n",
    "                          'ndvi': 'ndvi_mean'})\n",
    "# Compute min/max/std only for vegetation indices\n",
    "ndvi_max = ds_1.ndvi.max('time', keep_attrs=True, skipna=True)\n",
    "ndvi_max = ndvi_max.rename('ndvi_max')\n",
    "ndvi_max.attrs['nodata'] = -9999\n",
    "ndvi_min = ds_1.ndvi.min('time', keep_attrs=True, skipna=True)\n",
    "ndvi_min = ndvi_min.rename('ndvi_min')\n",
    "ndvi_min.attrs['nodata'] = -9999\n",
    "# ndmi\n",
    "ndmi_max = ds_1.ndmi.max('time', keep_attrs=True, skipna=True)\n",
    "ndmi_max = ndmi_max.rename('ndmi_max')\n",
    "ndmi_max.attrs['nodata'] = -9999\n",
    "ndmi_min = ds_1.ndmi.min('time', keep_attrs=True, skipna=True)\n",
    "ndmi_min = ndmi_min.rename('ndmi_min')\n",
    "ndmi_min.attrs['nodata'] = -9999\n",
    "# Load terrain metrics using same spatial parameters than sr\n",
    "dc = datacube.Datacube(app = 'landsat_madmex_003_%s' % randomword(5))\n",
    "terrain = dc.load(product='srtm_cgiar_mexico', like=ds,\n",
    "                  time=(datetime(1970, 1, 1), datetime(2018, 1, 1)),\n",
    "                  dask_chunks={'x': 1200, 'y': 1200})\n",
    "dc.close()\n",
    "# Merge dataarrays\n",
    "combined = xr.merge([ds_mean.apply(to_int),\n",
    "                     to_int(ndvi_max),\n",
    "                     to_int(ndvi_min),\n",
    "                     to_int(ndmi_max),\n",
    "                     to_int(ndmi_min),\n",
    "                     terrain])\n",
    "combined.attrs['crs'] = crs\n",
    "write_dataset_to_netcdf(combined.compute(scheduler='threads'), nc_filename)"
   ]
  },
  {
   "cell_type": "markdown",
   "metadata": {},
   "source": [
    "**Next will use:**\n",
    "\n",
    "[ingest_recipe_products](https://github.com/CONABIO/antares3-sandbox/blob/master/notebooks/ingest_recipe_products/ingest_recipe_products.ipynb)\n",
    "\n"
   ]
  },
  {
   "cell_type": "markdown",
   "metadata": {},
   "source": [
    "**Need to create `/shared_volume/.config/madmex/indexing/`:**\n",
    "\n",
    "```\n",
    "mkdir -p /shared_volume/.config/madmex/indexing/\n",
    "cp ~/.config/madmex/indexing/landsat_madmex_003.yaml /shared_volume/.config/madmex/indexing/\n",
    "```"
   ]
  },
  {
   "cell_type": "code",
   "execution_count": 33,
   "metadata": {},
   "outputs": [],
   "source": [
    "from madmex.indexing import add_product_from_yaml, add_dataset, metadict_from_netcdf\n",
    "from madmex.util import yaml_to_dict"
   ]
  },
  {
   "cell_type": "code",
   "execution_count": 34,
   "metadata": {},
   "outputs": [],
   "source": [
    "yaml_file = '/shared_volume/.config/madmex/indexing/landsat_madmex_003.yaml' \n",
    "recipe = 'landsat_madmex_003'"
   ]
  },
  {
   "cell_type": "code",
   "execution_count": 38,
   "metadata": {},
   "outputs": [
    {
     "name": "stdout",
     "output_type": "stream",
     "text": [
      "Adding /shared_volume/datacube_ingest/recipes/recipe_chiapas_L8_17/madmex_003_54_-38_2017-07-02.nc to datacube database\n",
      "None\n"
     ]
    }
   ],
   "source": [
    "product_description = yaml_to_dict(yaml_file)\n",
    "args = {'description': product_description,\n",
    "        'center_dt': datetime.strptime(center_dt, '%Y-%m-%d'),\n",
    "        'from_dt': datetime.strptime(begin, '%Y-%m-%d'),\n",
    "        'to_dt': datetime.strptime(end, '%Y-%m-%d'),\n",
    "        'algorithm': recipe}\n",
    "\n",
    "pr, dt = add_product_from_yaml(yaml_file, name_of_recipe_product)\n",
    "\n",
    "result = metadict_from_netcdf(nc_filename, **args)\n",
    "\n",
    "print(\"Adding %s to datacube database\" % result[0])\n",
    "r_add_dataset = add_dataset(pr=pr, dt=dt, metadict=result[1], file=result[0])\n",
    "\n",
    "print(r_add_dataset)"
   ]
  },
  {
   "cell_type": "markdown",
   "metadata": {
    "tags": []
   },
   "source": [
    "## Fit model"
   ]
  }
 ],
 "metadata": {
  "kernelspec": {
   "display_name": "Python 3",
   "language": "python",
   "name": "python3"
  },
  "kubeflow_notebook": {
   "docker_image": "",
   "experiment": {
    "id": "",
    "name": ""
   },
   "experiment_name": "",
   "pipeline_description": "",
   "pipeline_name": "",
   "volumes": []
  },
  "language_info": {
   "codemirror_mode": {
    "name": "ipython",
    "version": 3
   },
   "file_extension": ".py",
   "mimetype": "text/x-python",
   "name": "python",
   "nbconvert_exporter": "python",
   "pygments_lexer": "ipython3",
   "version": "3.6.9"
  }
 },
 "nbformat": 4,
 "nbformat_minor": 4
}
