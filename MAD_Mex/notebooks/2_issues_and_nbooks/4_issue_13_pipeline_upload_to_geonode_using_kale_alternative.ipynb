{
 "cells": [
  {
   "cell_type": "markdown",
   "metadata": {
    "tags": []
   },
   "source": [
    "# Example of import_raster cmd using API of geonode_conabio and [kale](https://github.com/kubeflow-kale/kale) functionality"
   ]
  },
  {
   "cell_type": "markdown",
   "metadata": {
    "tags": []
   },
   "source": [
    "References:\n",
    "\n",
    "https://github.com/CONABIO/geonode/blob/master/notebooks/towards_module_python_to_ingest_programmatically_into_geonode/1_normalizing_and_reprojecting.ipynb\n",
    "\n",
    "https://github.com/CONABIO/kube_sipecam_playground/blob/master/MAD_Mex/notebooks/1_issues_and_nbooks/1_issue_8_pipeline_upload_lc_result_to_geonode_using_kale.ipynb\n",
    "\n",
    "https://github.com/CONABIO/antares3/blob/develop/madmex/management/commands/db_to_raster.py\n",
    "\n"
   ]
  },
  {
   "cell_type": "markdown",
   "metadata": {
    "tags": []
   },
   "source": [
    "**Raster has small size**"
   ]
  },
  {
   "cell_type": "code",
   "execution_count": 7,
   "metadata": {},
   "outputs": [
    {
     "name": "stdout",
     "output_type": "stream",
     "text": [
      "\u001b[33mWARNING: You are using pip version 20.2.2; however, version 20.2.3 is available.\n",
      "You should consider upgrading via the '/usr/bin/python3 -m pip install --upgrade pip' command.\u001b[0m\n"
     ]
    }
   ],
   "source": [
    "#!pip3 install psycopg2-binary --quiet"
   ]
  },
  {
   "cell_type": "code",
   "execution_count": 1,
   "metadata": {
    "tags": [
     "imports"
    ]
   },
   "outputs": [],
   "source": [
    "import os\n",
    "import glob\n",
    "import json\n",
    "\n",
    "from pyproj import Proj\n",
    "from rasterio.merge import merge\n",
    "import rasterio\n",
    "from rasterio.warp import transform_geom\n",
    "from rasterio import features\n",
    "from docker import APIClient\n",
    "\n",
    "from geonode_conabio.wrappers import reproj_and_write_one_band_raster\n",
    "from geonode_conabio.utils_docker import import_layers_via_docker\n",
    "\n"
   ]
  },
  {
   "cell_type": "code",
   "execution_count": 2,
   "metadata": {},
   "outputs": [],
   "source": [
    "from dotenv.main import load_dotenv"
   ]
  },
  {
   "cell_type": "code",
   "execution_count": 3,
   "metadata": {},
   "outputs": [],
   "source": [
    "dotenv_path = load_dotenv(\"/shared_volume/.antares\")"
   ]
  },
  {
   "cell_type": "code",
   "execution_count": 4,
   "metadata": {},
   "outputs": [],
   "source": [
    "DB_DATABASE = os.getenv(\"DATABASE_NAME\", \"\")\n",
    "DB_USER = os.getenv('DATABASE_USER', \"\")\n",
    "DB_PASSWORD = os.getenv('DATABASE_PASSWORD', \"\")\n",
    "DB_HOST = os.getenv('DATABASE_HOST', \"\")\n",
    "DB_PORT = os.getenv('DATABASE_PORT', \"\")"
   ]
  },
  {
   "cell_type": "code",
   "execution_count": 5,
   "metadata": {},
   "outputs": [],
   "source": [
    "db_params = {'drivername': 'postgresql',\n",
    "             'database': DB_DATABASE,\n",
    "             'username': DB_USER,\n",
    "             'host': DB_HOST,\n",
    "             'port': DB_PORT,\n",
    "             'password': DB_PASSWORD}"
   ]
  },
  {
   "cell_type": "code",
   "execution_count": 6,
   "metadata": {},
   "outputs": [],
   "source": [
    "import psycopg2"
   ]
  },
  {
   "cell_type": "code",
   "execution_count": 7,
   "metadata": {},
   "outputs": [],
   "source": [
    "conn = psycopg2.connect(database=DB_DATABASE,\n",
    "                        user=DB_USER,\n",
    "                        password=DB_PASSWORD,\n",
    "                        host=DB_HOST,\n",
    "                        port=DB_PORT)"
   ]
  },
  {
   "cell_type": "code",
   "execution_count": 8,
   "metadata": {},
   "outputs": [],
   "source": [
    "curs = conn.cursor()"
   ]
  },
  {
   "cell_type": "code",
   "execution_count": 9,
   "metadata": {},
   "outputs": [],
   "source": [
    "curs.execute(\"\"\"SELECT public.madmex_region.name AS name,\n",
    "ST_AsGeoJSON(public.madmex_region.the_geom) FROM public.madmex_region WHERE name='Chiapas';\"\"\")"
   ]
  },
  {
   "cell_type": "code",
   "execution_count": 10,
   "metadata": {},
   "outputs": [],
   "source": [
    "for row in curs.fetchall():\n",
    "    #print(row)\n",
    "    region = row[1]"
   ]
  },
  {
   "cell_type": "code",
   "execution_count": 11,
   "metadata": {},
   "outputs": [],
   "source": [
    "#region"
   ]
  },
  {
   "cell_type": "code",
   "execution_count": 12,
   "metadata": {
    "tags": [
     "block:reprojwriteonebandraster"
    ]
   },
   "outputs": [],
   "source": [
    "path = \"/shared_volume/land_cover_results_parallel\"\n",
    "\n",
    "filenames = [f for f in glob.glob(os.path.join(path, \"*.tif\")) if not \"geonode\" in f and not \"merge\" in f]"
   ]
  },
  {
   "cell_type": "code",
   "execution_count": 13,
   "metadata": {},
   "outputs": [
    {
     "data": {
      "text/plain": [
       "['/shared_volume/land_cover_results_parallel/raster_landsat8_chiapas_madmex_31_clases_pixel_wise_via_kale_49_-41.tif',\n",
       " '/shared_volume/land_cover_results_parallel/raster_landsat8_chiapas_madmex_31_clases_pixel_wise_via_kale_49_-39.tif',\n",
       " '/shared_volume/land_cover_results_parallel/raster_landsat8_chiapas_madmex_31_clases_pixel_wise_via_kale_49_-40.tif']"
      ]
     },
     "execution_count": 13,
     "metadata": {},
     "output_type": "execute_result"
    }
   ],
   "source": [
    "filenames"
   ]
  },
  {
   "cell_type": "code",
   "execution_count": 14,
   "metadata": {},
   "outputs": [],
   "source": [
    "output_filenames = [f.replace(\".tif\", \"_processed_for_geonode.tif\") for f in filenames]"
   ]
  },
  {
   "cell_type": "code",
   "execution_count": 15,
   "metadata": {},
   "outputs": [
    {
     "data": {
      "text/plain": [
       "['/shared_volume/land_cover_results_parallel/raster_landsat8_chiapas_madmex_31_clases_pixel_wise_via_kale_49_-41_processed_for_geonode.tif',\n",
       " '/shared_volume/land_cover_results_parallel/raster_landsat8_chiapas_madmex_31_clases_pixel_wise_via_kale_49_-39_processed_for_geonode.tif',\n",
       " '/shared_volume/land_cover_results_parallel/raster_landsat8_chiapas_madmex_31_clases_pixel_wise_via_kale_49_-40_processed_for_geonode.tif']"
      ]
     },
     "execution_count": 15,
     "metadata": {},
     "output_type": "execute_result"
    }
   ],
   "source": [
    "output_filenames"
   ]
  },
  {
   "cell_type": "markdown",
   "metadata": {},
   "source": [
    "# Reproject and write to FS"
   ]
  },
  {
   "cell_type": "code",
   "execution_count": 16,
   "metadata": {},
   "outputs": [],
   "source": [
    "for idx, filename in enumerate(filenames):\n",
    "    with rasterio.open(filename) as src:\n",
    "        src_crs = src.crs.to_string()\n",
    "        proj_crs = Proj(src_crs)\n",
    "        if not proj_crs.crs.is_geographic:\n",
    "            reproj_and_write_one_band_raster(src, output_filenames[idx],\n",
    "                                             is_geographic=False)\n",
    "        else:\n",
    "            reproj_and_write_one_band_raster(src, output_filenames[idx])"
   ]
  },
  {
   "cell_type": "markdown",
   "metadata": {},
   "source": [
    "# Merge"
   ]
  },
  {
   "cell_type": "code",
   "execution_count": 17,
   "metadata": {},
   "outputs": [],
   "source": [
    "src_files_to_mosaic = [rasterio.open(f) for f in output_filenames]\n",
    "# Retrieve metadata of one file for later use\n",
    "meta = src_files_to_mosaic[0].meta.copy()\n",
    "mosaic, out_trans = merge(src_files_to_mosaic)"
   ]
  },
  {
   "cell_type": "code",
   "execution_count": 18,
   "metadata": {},
   "outputs": [],
   "source": [
    "meta.update(width=mosaic.shape[2],\n",
    "            height=mosaic.shape[1],\n",
    "            transform=out_trans,\n",
    "            compress=\"lzw\")"
   ]
  },
  {
   "cell_type": "code",
   "execution_count": 19,
   "metadata": {},
   "outputs": [],
   "source": [
    "geometry_region = json.loads(region)"
   ]
  },
  {
   "cell_type": "code",
   "execution_count": 20,
   "metadata": {},
   "outputs": [],
   "source": [
    "# rasterize region using mosaic as template\n",
    "mask_array = features.rasterize(shapes=[(geometry_region, 1)],\n",
    "                                out_shape=(mosaic.shape[1],mosaic.shape[2]),\n",
    "                                fill=0,\n",
    "                                transform=meta['transform'],\n",
    "                                dtype=rasterio.uint8)"
   ]
  },
  {
   "cell_type": "code",
   "execution_count": 21,
   "metadata": {},
   "outputs": [],
   "source": [
    "# Apply mask to mosaic\n",
    "mosaic[:,mask_array==0] = 0"
   ]
  },
  {
   "cell_type": "code",
   "execution_count": 22,
   "metadata": {},
   "outputs": [],
   "source": [
    "# Write results to file\n",
    "filename = \"raster_landsat8_chiapas_madmex_31_clases_pixel_wise_via_kale_merge_2.tif\"\n",
    "filename_mosaic = os.path.join(path, filename)"
   ]
  },
  {
   "cell_type": "code",
   "execution_count": 23,
   "metadata": {},
   "outputs": [
    {
     "data": {
      "text/plain": [
       "'/shared_volume/land_cover_results_parallel/raster_landsat8_chiapas_madmex_31_clases_pixel_wise_via_kale_merge_2.tif'"
      ]
     },
     "execution_count": 23,
     "metadata": {},
     "output_type": "execute_result"
    }
   ],
   "source": [
    "filename_mosaic"
   ]
  },
  {
   "cell_type": "code",
   "execution_count": 24,
   "metadata": {},
   "outputs": [],
   "source": [
    "with rasterio.open(filename_mosaic, \"w\", **meta) as dst:\n",
    "    dst.write(mosaic)"
   ]
  },
  {
   "cell_type": "code",
   "execution_count": null,
   "metadata": {},
   "outputs": [],
   "source": [
    "region = \"\".join([\"\\\"Chiapas, Mexico, North America, Latin America\\\"\"])\n",
    "name = \"\\\"Chiapas_lc_2017_landsat8_test merge2\\\"\"\n",
    "title = \"\\\"Land cover Chiapas landsat8 2017 merge2 test using kale\\\"\"\n",
    "abstract = \"\\\"Test merge2 kale\\\"\"\n",
    "kw = \"\\\"Chiapas\\\"\"\n",
    "\n",
    "\n",
    "c = APIClient(base_url='tcp://172.17.0.1:1111')\n",
    "cmd = \"\".join([\"python manage.py importlayers -v 3 -i -o \",\n",
    "               \"-n \", name, \" \",\n",
    "               \"-t \", title, \" \",\n",
    "               \"-a \", abstract, \" \",\n",
    "               \"-k \", kw, \" \",\n",
    "               \"-r \", region, \" \",\n",
    "               filename_mosaic, \" \",\n",
    "               \"--settings=geonode.local_settings\"])\n",
    "ex = c.exec_create(container = 'spcgeonode_django_1', \n",
    "                   cmd = cmd)\n",
    "ex_start = c.exec_start(exec_id=ex)\n",
    "\n",
    "print(ex_start)\n",
    "c.close()\n",
    "#close & clean:\n",
    "#os.remove(output_filename)\n",
    "#for idx, of in output_filenames:\n",
    "#    src_files_to_mosaic[idx].close()\n",
    "#    os.remove(of)"
   ]
  },
  {
   "cell_type": "code",
   "execution_count": null,
   "metadata": {},
   "outputs": [],
   "source": []
  }
 ],
 "metadata": {
  "kernelspec": {
   "display_name": "Python 3",
   "language": "python",
   "name": "python3"
  },
  "kubeflow_notebook": {
   "docker_image": "",
   "experiment": {
    "id": "",
    "name": ""
   },
   "experiment_name": "",
   "pipeline_description": "",
   "pipeline_name": "",
   "volumes": []
  },
  "language_info": {
   "codemirror_mode": {
    "name": "ipython",
    "version": 3
   },
   "file_extension": ".py",
   "mimetype": "text/x-python",
   "name": "python",
   "nbconvert_exporter": "python",
   "pygments_lexer": "ipython3",
   "version": "3.6.9"
  }
 },
 "nbformat": 4,
 "nbformat_minor": 4
}
