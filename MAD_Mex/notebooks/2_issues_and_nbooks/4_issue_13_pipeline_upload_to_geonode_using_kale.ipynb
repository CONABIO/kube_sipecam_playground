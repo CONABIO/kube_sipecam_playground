{
 "cells": [
  {
   "cell_type": "markdown",
   "metadata": {
    "tags": []
   },
   "source": [
    "# Example of import_raster cmd using API of geonode_conabio and [kale](https://github.com/kubeflow-kale/kale) functionality"
   ]
  },
  {
   "cell_type": "markdown",
   "metadata": {
    "tags": []
   },
   "source": [
    "References:\n",
    "\n",
    "https://github.com/CONABIO/geonode/blob/master/notebooks/towards_module_python_to_ingest_programmatically_into_geonode/1_normalizing_and_reprojecting.ipynb\n",
    "\n",
    "https://github.com/CONABIO/kube_sipecam_playground/blob/master/MAD_Mex/notebooks/1_issues_and_nbooks/1_issue_8_pipeline_upload_lc_result_to_geonode_using_kale.ipynb\n",
    "\n",
    "https://github.com/CONABIO/antares3/blob/develop/madmex/management/commands/db_to_raster.py\n",
    "\n"
   ]
  },
  {
   "cell_type": "markdown",
   "metadata": {
    "tags": []
   },
   "source": [
    "**Raster has small size**"
   ]
  },
  {
   "cell_type": "code",
   "execution_count": 1,
   "metadata": {
    "tags": [
     "imports"
    ]
   },
   "outputs": [],
   "source": [
    "import os\n",
    "import glob\n",
    "import json\n",
    "\n",
    "from pyproj import Proj\n",
    "from rasterio.merge import merge\n",
    "import rasterio\n",
    "from rasterio.warp import transform_geom\n",
    "from rasterio import features\n",
    "from docker import APIClient\n",
    "\n",
    "from geonode_conabio.wrappers import reproj_and_write_one_band_raster\n",
    "from geonode_conabio.utils_docker import import_layers_via_docker\n",
    "\n",
    "from madmex.models import Country, Region"
   ]
  },
  {
   "cell_type": "code",
   "execution_count": 2,
   "metadata": {},
   "outputs": [],
   "source": [
    "#next to import: from madmex.models import Country, Region\n",
    "#!pip3 install django\n",
    "#!pip3 install djangorestframework --quiet\n",
    "#!pip3 install django-cors-headers --quiet\n",
    "#!pip3 install psycopg2-binary --quiet\n",
    "#!git clone --single-branch -b develop https://github.com/CONABIO/antares3.git /root/antares3\n",
    "#!cp /shared_volume/.antares /root/antares3"
   ]
  },
  {
   "cell_type": "code",
   "execution_count": 6,
   "metadata": {},
   "outputs": [],
   "source": [
    "#next to import: from madmex.models import Country, Region\n",
    "os.chdir(\"/root/antares3/\")\n",
    "os.environ.setdefault(\"DJANGO_SETTINGS_MODULE\", \"madmex.settings\")\n",
    "import django\n",
    "django.setup()"
   ]
  },
  {
   "cell_type": "code",
   "execution_count": 20,
   "metadata": {
    "tags": [
     "block:reprojwriteonebandraster"
    ]
   },
   "outputs": [],
   "source": [
    "path = \"/shared_volume/land_cover_results_parallel\"\n",
    "\n",
    "filenames = [f for f in glob.glob(os.path.join(path, \"*.tif\")) if not \"geonode\" in f]"
   ]
  },
  {
   "cell_type": "code",
   "execution_count": 21,
   "metadata": {},
   "outputs": [
    {
     "data": {
      "text/plain": [
       "['/shared_volume/land_cover_results_parallel/raster_landsat8_chiapas_madmex_31_clases_pixel_wise_via_kale_49_-41.tif',\n",
       " '/shared_volume/land_cover_results_parallel/raster_landsat8_chiapas_madmex_31_clases_pixel_wise_via_kale_49_-39.tif',\n",
       " '/shared_volume/land_cover_results_parallel/raster_landsat8_chiapas_madmex_31_clases_pixel_wise_via_kale_49_-40.tif']"
      ]
     },
     "execution_count": 21,
     "metadata": {},
     "output_type": "execute_result"
    }
   ],
   "source": [
    "filenames"
   ]
  },
  {
   "cell_type": "code",
   "execution_count": 22,
   "metadata": {},
   "outputs": [],
   "source": [
    "output_filenames = [f.replace(\".tif\", \"_processed_for_geonode.tif\") for f in filenames]"
   ]
  },
  {
   "cell_type": "code",
   "execution_count": 23,
   "metadata": {},
   "outputs": [
    {
     "data": {
      "text/plain": [
       "['/shared_volume/land_cover_results_parallel/raster_landsat8_chiapas_madmex_31_clases_pixel_wise_via_kale_49_-41_processed_for_geonode.tif',\n",
       " '/shared_volume/land_cover_results_parallel/raster_landsat8_chiapas_madmex_31_clases_pixel_wise_via_kale_49_-39_processed_for_geonode.tif',\n",
       " '/shared_volume/land_cover_results_parallel/raster_landsat8_chiapas_madmex_31_clases_pixel_wise_via_kale_49_-40_processed_for_geonode.tif']"
      ]
     },
     "execution_count": 23,
     "metadata": {},
     "output_type": "execute_result"
    }
   ],
   "source": [
    "output_filenames"
   ]
  },
  {
   "cell_type": "markdown",
   "metadata": {},
   "source": [
    "# Reproject and write to FS"
   ]
  },
  {
   "cell_type": "code",
   "execution_count": 24,
   "metadata": {},
   "outputs": [],
   "source": [
    "for idx, filename in enumerate(filenames):\n",
    "    with rasterio.open(filename) as src:\n",
    "        src_crs = src.crs.to_string()\n",
    "        proj_crs = Proj(src_crs)\n",
    "        if not proj_crs.crs.is_geographic:\n",
    "            reproj_and_write_one_band_raster(src, output_filenames[idx],\n",
    "                                             is_geographic=False)\n",
    "        else:\n",
    "            reproj_and_write_one_band_raster(src, output_filenames[idx])"
   ]
  },
  {
   "cell_type": "markdown",
   "metadata": {},
   "source": [
    "# Merge"
   ]
  },
  {
   "cell_type": "code",
   "execution_count": 25,
   "metadata": {},
   "outputs": [],
   "source": [
    "src_files_to_mosaic = [rasterio.open(f) for f in output_filenames]\n",
    "# Retrieve metadata of one file for later use\n",
    "meta = src_files_to_mosaic[0].meta.copy()\n",
    "mosaic, out_trans = merge(src_files_to_mosaic)"
   ]
  },
  {
   "cell_type": "code",
   "execution_count": 26,
   "metadata": {},
   "outputs": [],
   "source": [
    "meta.update(width=mosaic.shape[2],\n",
    "            height=mosaic.shape[1],\n",
    "            transform=out_trans,\n",
    "            compress=\"lzw\")"
   ]
  },
  {
   "cell_type": "code",
   "execution_count": 28,
   "metadata": {},
   "outputs": [],
   "source": [
    "os.environ.setdefault(\"DJANGO_ALLOW_ASYNC_UNSAFE\", \"true\")\n",
    "region = \"Chiapas\"\n",
    "# Query country or region contour\n",
    "try:\n",
    "    region = Country.objects.get(name=region).the_geom\n",
    "except Country.DoesNotExist:\n",
    "    region = Region.objects.get(name=region).the_geom"
   ]
  },
  {
   "cell_type": "code",
   "execution_count": 29,
   "metadata": {},
   "outputs": [
    {
     "data": {
      "text/plain": [
       "<MultiPolygon object at 0x7f3e43580780>"
      ]
     },
     "execution_count": 29,
     "metadata": {},
     "output_type": "execute_result"
    }
   ],
   "source": [
    "region"
   ]
  },
  {
   "cell_type": "code",
   "execution_count": 31,
   "metadata": {},
   "outputs": [],
   "source": [
    "region_geojson = region.geojson\n",
    "geometry_region = json.loads(region_geojson)"
   ]
  },
  {
   "cell_type": "code",
   "execution_count": 35,
   "metadata": {},
   "outputs": [],
   "source": [
    "# rasterize region using mosaic as template\n",
    "mask_array = features.rasterize(shapes=[(geometry_region, 1)],\n",
    "                                out_shape=(mosaic.shape[1],mosaic.shape[2]),\n",
    "                                fill=0,\n",
    "                                transform=meta['transform'],\n",
    "                                dtype=rasterio.uint8)"
   ]
  },
  {
   "cell_type": "code",
   "execution_count": 36,
   "metadata": {},
   "outputs": [],
   "source": [
    "# Apply mask to mosaic\n",
    "mosaic[:,mask_array==0] = 0"
   ]
  },
  {
   "cell_type": "code",
   "execution_count": 37,
   "metadata": {},
   "outputs": [],
   "source": [
    "# Write results to file\n",
    "filename = \"raster_landsat8_chiapas_madmex_31_clases_pixel_wise_via_kale_merge.tif\"\n",
    "filename_mosaic = os.path.join(path, filename)"
   ]
  },
  {
   "cell_type": "code",
   "execution_count": 38,
   "metadata": {},
   "outputs": [
    {
     "data": {
      "text/plain": [
       "'/shared_volume/land_cover_results_parallel/raster_landsat8_chiapas_madmex_31_clases_pixel_wise_via_kale_merge.tif'"
      ]
     },
     "execution_count": 38,
     "metadata": {},
     "output_type": "execute_result"
    }
   ],
   "source": [
    "filename_mosaic"
   ]
  },
  {
   "cell_type": "code",
   "execution_count": 39,
   "metadata": {},
   "outputs": [],
   "source": [
    "with rasterio.open(filename_mosaic, \"w\", **meta) as dst:\n",
    "    dst.write(mosaic)"
   ]
  },
  {
   "cell_type": "code",
   "execution_count": null,
   "metadata": {},
   "outputs": [],
   "source": [
    "region = \"\".join([\"\\\"Chiapas, Mexico, North America, Latin America\\\"\"])\n",
    "name = \"\\\"Chiapas_lc_2017_landsat8_test merge\\\"\"\n",
    "title = \"\\\"Land cover Chiapas landsat8 2017 merge test using kale\\\"\"\n",
    "abstract = \"\\\"Test merge kale\\\"\"\n",
    "kw = \"\\\"Chiapas\\\"\"\n",
    "\n",
    "\n",
    "c = APIClient(base_url='tcp://172.17.0.1:1111')\n",
    "cmd = \"\".join([\"python manage.py importlayers -v 3 -i -o \",\n",
    "               \"-n \", name, \" \",\n",
    "               \"-t \", title, \" \",\n",
    "               \"-a \", abstract, \" \",\n",
    "               \"-k \", kw, \" \",\n",
    "               \"-r \", region, \" \",\n",
    "               filename_mosaic, \" \",\n",
    "               \"--settings=geonode.local_settings\"])\n",
    "ex = c.exec_create(container = 'spcgeonode_django_1', \n",
    "                   cmd = cmd)\n",
    "ex_start = c.exec_start(exec_id=ex)\n",
    "\n",
    "print(ex_start)\n",
    "c.close()\n",
    "#close & clean:\n",
    "#os.remove(output_filename)\n",
    "#for idx, of in output_filenames:\n",
    "#    src_files_to_mosaic[idx].close()\n",
    "#    os.remove(of)"
   ]
  },
  {
   "cell_type": "code",
   "execution_count": null,
   "metadata": {},
   "outputs": [],
   "source": []
  }
 ],
 "metadata": {
  "kernelspec": {
   "display_name": "Python 3",
   "language": "python",
   "name": "python3"
  },
  "kubeflow_notebook": {
   "docker_image": "",
   "experiment": {
    "id": "",
    "name": ""
   },
   "experiment_name": "",
   "pipeline_description": "",
   "pipeline_name": "",
   "volumes": []
  },
  "language_info": {
   "codemirror_mode": {
    "name": "ipython",
    "version": 3
   },
   "file_extension": ".py",
   "mimetype": "text/x-python",
   "name": "python",
   "nbconvert_exporter": "python",
   "pygments_lexer": "ipython3",
   "version": "3.6.9"
  }
 },
 "nbformat": 4,
 "nbformat_minor": 4
}
