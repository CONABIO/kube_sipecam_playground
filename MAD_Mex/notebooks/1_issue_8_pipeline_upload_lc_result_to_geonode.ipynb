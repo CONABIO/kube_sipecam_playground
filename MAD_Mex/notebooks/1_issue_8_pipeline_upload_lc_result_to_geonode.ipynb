{
 "cells": [
  {
   "cell_type": "markdown",
   "metadata": {},
   "source": [
    "# Example of import_raster cmd using API of geonode_conabio"
   ]
  },
  {
   "cell_type": "markdown",
   "metadata": {},
   "source": [
    "Reference: https://github.com/CONABIO/geonode/blob/master/notebooks/towards_module_python_to_ingest_programmatically_into_geonode/1_normalizing_and_reprojecting.ipynb"
   ]
  },
  {
   "cell_type": "markdown",
   "metadata": {},
   "source": [
    "**Raster has small size**"
   ]
  },
  {
   "cell_type": "code",
   "execution_count": 1,
   "metadata": {},
   "outputs": [],
   "source": [
    "from pyproj import Proj\n",
    "import rasterio\n",
    "\n",
    "from geonode_conabio.wrappers import reproj_and_write_one_band_raster"
   ]
  },
  {
   "cell_type": "code",
   "execution_count": 2,
   "metadata": {},
   "outputs": [],
   "source": [
    "import os"
   ]
  },
  {
   "cell_type": "code",
   "execution_count": 3,
   "metadata": {},
   "outputs": [],
   "source": [
    "path = \"/shared_volume/land_cover_results\""
   ]
  },
  {
   "cell_type": "code",
   "execution_count": 4,
   "metadata": {},
   "outputs": [],
   "source": [
    "filename = \"raster_landsat8_chiapas_madmex_31_clases_pixel_wise_via_kale_54_-38.tif\""
   ]
  },
  {
   "cell_type": "code",
   "execution_count": 5,
   "metadata": {},
   "outputs": [],
   "source": [
    "filename = os.path.join(path, filename)"
   ]
  },
  {
   "cell_type": "code",
   "execution_count": 6,
   "metadata": {},
   "outputs": [
    {
     "data": {
      "text/plain": [
       "'/shared_volume/land_cover_results/raster_landsat8_chiapas_madmex_31_clases_pixel_wise_via_kale_54_-38.tif'"
      ]
     },
     "execution_count": 6,
     "metadata": {},
     "output_type": "execute_result"
    }
   ],
   "source": [
    "filename"
   ]
  },
  {
   "cell_type": "code",
   "execution_count": 7,
   "metadata": {},
   "outputs": [],
   "source": [
    "output_filename = \"raster_landsat8_chiapas_madmex_31_clases_pixel_wise_via_kale_54_-38_processed_for_geonode.tif\"\n",
    "output_filename = os.path.join(path, output_filename)"
   ]
  },
  {
   "cell_type": "code",
   "execution_count": 8,
   "metadata": {},
   "outputs": [
    {
     "data": {
      "text/plain": [
       "'/shared_volume/land_cover_results/raster_landsat8_chiapas_madmex_31_clases_pixel_wise_via_kale_54_-38_processed_for_geonode.tif'"
      ]
     },
     "execution_count": 8,
     "metadata": {},
     "output_type": "execute_result"
    }
   ],
   "source": [
    "output_filename"
   ]
  },
  {
   "cell_type": "code",
   "execution_count": 9,
   "metadata": {},
   "outputs": [],
   "source": [
    "with rasterio.open(filename) as src:\n",
    "    src_crs = src.crs.to_string()\n",
    "    proj_crs = Proj(src_crs)\n",
    "    if not proj_crs.crs.is_geographic:\n",
    "        reproj_and_write_one_band_raster(src, output_filename,\n",
    "                                         is_geographic=False)\n",
    "    else:\n",
    "        reproj_and_write_one_band_raster(src, output_filename)"
   ]
  },
  {
   "cell_type": "code",
   "execution_count": 10,
   "metadata": {},
   "outputs": [],
   "source": [
    "region = \"\".join([\"\\\"Chiapas, Mexico, North America, Latin America\\\"\"])\n",
    "name = \"\\\"Chiapas_lc_2017_landsat8_test\\\"\"\n",
    "title = \"\\\"Land cover Chiapas landsat8 2017 test\\\"\"\n",
    "abstract = \"\\\"Test\\\"\"\n",
    "kw = \"\\\"Chiapas\\\"\""
   ]
  },
  {
   "cell_type": "code",
   "execution_count": 11,
   "metadata": {},
   "outputs": [
    {
     "name": "stderr",
     "output_type": "stream",
     "text": [
      "Python-dotenv could not parse statement starting at line 1\n"
     ]
    }
   ],
   "source": [
    "from geonode_conabio.utils_docker import import_layers_via_docker"
   ]
  },
  {
   "cell_type": "code",
   "execution_count": 14,
   "metadata": {},
   "outputs": [],
   "source": [
    "result_import = import_layers_via_docker(region, name, title,\n",
    "                                         abstract, kw,\n",
    "                                         output_filename\n",
    "                                         )"
   ]
  },
  {
   "cell_type": "code",
   "execution_count": 15,
   "metadata": {},
   "outputs": [
    {
     "name": "stdout",
     "output_type": "stream",
     "text": [
      "b'Loading user configuration\\nrunning configuration {\\'metadata:main\\': {\\'identification_title\\': \\'GeoNode Catalogue\\', \\'identification_abstract\\': \\'GeoNode is an open source platform that facilitates the creation, sharing, and collaborative use of geospatial data\\', \\'identification_keywords\\': \\'sdi, catalogue, discovery, metadata, GeoNode\\', \\'identification_keywords_type\\': \\'theme\\', \\'identification_fees\\': \\'None\\', \\'identification_accessconstraints\\': \\'None\\', \\'provider_name\\': \\'Organization Name\\', \\'provider_url\\': \\'http://ec2-52-36-245-37.us-west-2.compute.amazonaws.com/\\', \\'contact_name\\': \\'Lastname, Firstname\\', \\'contact_position\\': \\'Position Title\\', \\'contact_address\\': \\'Mailing Address\\', \\'contact_city\\': \\'City\\', \\'contact_stateorprovince\\': \\'Administrative Area\\', \\'contact_postalcode\\': \\'Zip or Postal Code\\', \\'contact_country\\': \\'Country\\', \\'contact_phone\\': \\'+xx-xxx-xxx-xxxx\\', \\'contact_fax\\': \\'+xx-xxx-xxx-xxxx\\', \\'contact_email\\': \\'Email Address\\', \\'contact_url\\': \\'Contact URL\\', \\'contact_hours\\': \\'Hours of Service\\', \\'contact_instructions\\': \\'During hours of service. Off on weekends.\\', \\'contact_role\\': \\'pointOfContact\\'}, \\'metadata:inspire\\': {\\'enabled\\': \\'true\\', \\'languages_supported\\': \\'eng,gre\\', \\'default_language\\': \\'eng\\', \\'date\\': \\'YYYY-MM-DD\\', \\'gemet_keywords\\': \\'Utility and governmental services\\', \\'conformity_service\\': \\'notEvaluated\\', \\'contact_name\\': \\'Organization Name\\', \\'contact_email\\': \\'Email Address\\', \\'temp_extent\\': \\'YYYY-MM-DD/YYYY-MM-DD\\'}, \\'server\\': {\\'home\\': \\'.\\', \\'url\\': \\'http://ec2-52-36-245-37.us-west-2.compute.amazonaws.com/catalogue/csw\\', \\'encoding\\': \\'UTF-8\\', \\'language\\': \\'en\\', \\'maxrecords\\': \\'10\\', \\'pretty_print\\': \\'true\\', \\'domainquerytype\\': \\'range\\', \\'domaincounts\\': \\'true\\', \\'profiles\\': \\'apiso,ebrim\\'}, \\'repository\\': {\\'source\\': \\'geonode.catalogue.backends.pycsw_plugin.GeoNodeRepository\\', \\'filter\\': \\'is_published = true\\', \\'mappings\\': \\'/spcgeonode/geonode/catalogue/backends/pycsw_local_mappings.py\\'}}\\nSetting language\\nLoading custom repository mappings from /spcgeonode/geonode/catalogue/backends/pycsw_local_mappings.py\\nLoading outputschemas\\nSetting MaxRecordDefault\\nQuerying repository with ids: afebee66-ed49-11ea-ac34-0242ac180003\\nRequest processed\\nWriting response.\\n/usr/local/lib/python3.7/site-packages/owslib/iso.py:121: FutureWarning: the .identification and .serviceidentification properties will merge into .identification being a list of properties.  This is currently implemented in .identificationinfo.  Please see https://github.com/geopython/OWSLib/issues/38 for more information\\n  FutureWarning)\\n/usr/local/lib/python3.7/site-packages/owslib/iso.py:548: FutureWarning: The .keywords and .keywords2 properties will merge into the .keywords property in the future, with .keywords becoming a list of MD_Keywords instances. This is currently implemented in .keywords2. Please see https://github.com/geopython/OWSLib/issues/301 for more information\\n  FutureWarning)\\nLoading user configuration\\nrunning configuration {\\'metadata:main\\': {\\'identification_title\\': \\'GeoNode Catalogue\\', \\'identification_abstract\\': \\'GeoNode is an open source platform that facilitates the creation, sharing, and collaborative use of geospatial data\\', \\'identification_keywords\\': \\'sdi, catalogue, discovery, metadata, GeoNode\\', \\'identification_keywords_type\\': \\'theme\\', \\'identification_fees\\': \\'None\\', \\'identification_accessconstraints\\': \\'None\\', \\'provider_name\\': \\'Organization Name\\', \\'provider_url\\': \\'http://ec2-52-36-245-37.us-west-2.compute.amazonaws.com/\\', \\'contact_name\\': \\'Lastname, Firstname\\', \\'contact_position\\': \\'Position Title\\', \\'contact_address\\': \\'Mailing Address\\', \\'contact_city\\': \\'City\\', \\'contact_stateorprovince\\': \\'Administrative Area\\', \\'contact_postalcode\\': \\'Zip or Postal Code\\', \\'contact_country\\': \\'Country\\', \\'contact_phone\\': \\'+xx-xxx-xxx-xxxx\\', \\'contact_fax\\': \\'+xx-xxx-xxx-xxxx\\', \\'contact_email\\': \\'Email Address\\', \\'contact_url\\': \\'Contact URL\\', \\'contact_hours\\': \\'Hours of Service\\', \\'contact_instructions\\': \\'During hours of service. Off on weekends.\\', \\'contact_role\\': \\'pointOfContact\\'}, \\'metadata:inspire\\': {\\'enabled\\': \\'true\\', \\'languages_supported\\': \\'eng,gre\\', \\'default_language\\': \\'eng\\', \\'date\\': \\'YYYY-MM-DD\\', \\'gemet_keywords\\': \\'Utility and governmental services\\', \\'conformity_service\\': \\'notEvaluated\\', \\'contact_name\\': \\'Organization Name\\', \\'contact_email\\': \\'Email Address\\', \\'temp_extent\\': \\'YYYY-MM-DD/YYYY-MM-DD\\'}, \\'server\\': {\\'home\\': \\'.\\', \\'url\\': \\'http://ec2-52-36-245-37.us-west-2.compute.amazonaws.com/catalogue/csw\\', \\'encoding\\': \\'UTF-8\\', \\'language\\': \\'en\\', \\'maxrecords\\': \\'10\\', \\'pretty_print\\': \\'true\\', \\'domainquerytype\\': \\'range\\', \\'domaincounts\\': \\'true\\', \\'profiles\\': \\'apiso,ebrim\\'}, \\'repository\\': {\\'source\\': \\'geonode.catalogue.backends.pycsw_plugin.GeoNodeRepository\\', \\'filter\\': \\'is_published = true\\', \\'mappings\\': \\'/spcgeonode/geonode/catalogue/backends/pycsw_local_mappings.py\\'}}\\nSetting language\\nLoading custom repository mappings from /spcgeonode/geonode/catalogue/backends/pycsw_local_mappings.py\\nLoading outputschemas\\nSetting MaxRecordDefault\\nQuerying repository with ids: afebee66-ed49-11ea-ac34-0242ac180003\\nRequest processed\\nWriting response.\\nLoading user configuration\\nrunning configuration {\\'metadata:main\\': {\\'identification_title\\': \\'GeoNode Catalogue\\', \\'identification_abstract\\': \\'GeoNode is an open source platform that facilitates the creation, sharing, and collaborative use of geospatial data\\', \\'identification_keywords\\': \\'sdi, catalogue, discovery, metadata, GeoNode\\', \\'identification_keywords_type\\': \\'theme\\', \\'identification_fees\\': \\'None\\', \\'identification_accessconstraints\\': \\'None\\', \\'provider_name\\': \\'Organization Name\\', \\'provider_url\\': \\'http://ec2-52-36-245-37.us-west-2.compute.amazonaws.com/\\', \\'contact_name\\': \\'Lastname, Firstname\\', \\'contact_position\\': \\'Position Title\\', \\'contact_address\\': \\'Mailing Address\\', \\'contact_city\\': \\'City\\', \\'contact_stateorprovince\\': \\'Administrative Area\\', \\'contact_postalcode\\': \\'Zip or Postal Code\\', \\'contact_country\\': \\'Country\\', \\'contact_phone\\': \\'+xx-xxx-xxx-xxxx\\', \\'contact_fax\\': \\'+xx-xxx-xxx-xxxx\\', \\'contact_email\\': \\'Email Address\\', \\'contact_url\\': \\'Contact URL\\', \\'contact_hours\\': \\'Hours of Service\\', \\'contact_instructions\\': \\'During hours of service. Off on weekends.\\', \\'contact_role\\': \\'pointOfContact\\'}, \\'metadata:inspire\\': {\\'enabled\\': \\'true\\', \\'languages_supported\\': \\'eng,gre\\', \\'default_language\\': \\'eng\\', \\'date\\': \\'YYYY-MM-DD\\', \\'gemet_keywords\\': \\'Utility and governmental services\\', \\'conformity_service\\': \\'notEvaluated\\', \\'contact_name\\': \\'Organization Name\\', \\'contact_email\\': \\'Email Address\\', \\'temp_extent\\': \\'YYYY-MM-DD/YYYY-MM-DD\\'}, \\'server\\': {\\'home\\': \\'.\\', \\'url\\': \\'http://ec2-52-36-245-37.us-west-2.compute.amazonaws.com/catalogue/csw\\', \\'encoding\\': \\'UTF-8\\', \\'language\\': \\'en\\', \\'maxrecords\\': \\'10\\', \\'pretty_print\\': \\'true\\', \\'domainquerytype\\': \\'range\\', \\'domaincounts\\': \\'true\\', \\'profiles\\': \\'apiso,ebrim\\'}, \\'repository\\': {\\'source\\': \\'geonode.catalogue.backends.pycsw_plugin.GeoNodeRepository\\', \\'filter\\': \\'is_published = true\\', \\'mappings\\': \\'/spcgeonode/geonode/catalogue/backends/pycsw_local_mappings.py\\'}}\\nSetting language\\nLoading custom repository mappings from /spcgeonode/geonode/catalogue/backends/pycsw_local_mappings.py\\nLoading outputschemas\\nSetting MaxRecordDefault\\nQuerying repository with ids: afebee66-ed49-11ea-ac34-0242ac180003\\nRequest processed\\nWriting response.\\nLoading user configuration\\nrunning configuration {\\'metadata:main\\': {\\'identification_title\\': \\'GeoNode Catalogue\\', \\'identification_abstract\\': \\'GeoNode is an open source platform that facilitates the creation, sharing, and collaborative use of geospatial data\\', \\'identification_keywords\\': \\'sdi, catalogue, discovery, metadata, GeoNode\\', \\'identification_keywords_type\\': \\'theme\\', \\'identification_fees\\': \\'None\\', \\'identification_accessconstraints\\': \\'None\\', \\'provider_name\\': \\'Organization Name\\', \\'provider_url\\': \\'http://ec2-52-36-245-37.us-west-2.compute.amazonaws.com/\\', \\'contact_name\\': \\'Lastname, Firstname\\', \\'contact_position\\': \\'Position Title\\', \\'contact_address\\': \\'Mailing Address\\', \\'contact_city\\': \\'City\\', \\'contact_stateorprovince\\': \\'Administrative Area\\', \\'contact_postalcode\\': \\'Zip or Postal Code\\', \\'contact_country\\': \\'Country\\', \\'contact_phone\\': \\'+xx-xxx-xxx-xxxx\\', \\'contact_fax\\': \\'+xx-xxx-xxx-xxxx\\', \\'contact_email\\': \\'Email Address\\', \\'contact_url\\': \\'Contact URL\\', \\'contact_hours\\': \\'Hours of Service\\', \\'contact_instructions\\': \\'During hours of service. Off on weekends.\\', \\'contact_role\\': \\'pointOfContact\\'}, \\'metadata:inspire\\': {\\'enabled\\': \\'true\\', \\'languages_supported\\': \\'eng,gre\\', \\'default_language\\': \\'eng\\', \\'date\\': \\'YYYY-MM-DD\\', \\'gemet_keywords\\': \\'Utility and governmental services\\', \\'conformity_service\\': \\'notEvaluated\\', \\'contact_name\\': \\'Organization Name\\', \\'contact_email\\': \\'Email Address\\', \\'temp_extent\\': \\'YYYY-MM-DD/YYYY-MM-DD\\'}, \\'server\\': {\\'home\\': \\'.\\', \\'url\\': \\'http://ec2-52-36-245-37.us-west-2.compute.amazonaws.com/catalogue/csw\\', \\'encoding\\': \\'UTF-8\\', \\'language\\': \\'en\\', \\'maxrecords\\': \\'10\\', \\'pretty_print\\': \\'true\\', \\'domainquerytype\\': \\'range\\', \\'domaincounts\\': \\'true\\', \\'profiles\\': \\'apiso,ebrim\\'}, \\'repository\\': {\\'source\\': \\'geonode.catalogue.backends.pycsw_plugin.GeoNodeRepository\\', \\'filter\\': \\'is_published = true\\', \\'mappings\\': \\'/spcgeonode/geonode/catalogue/backends/pycsw_local_mappings.py\\'}}\\nSetting language\\nLoading custom repository mappings from /spcgeonode/geonode/catalogue/backends/pycsw_local_mappings.py\\nLoading outputschemas\\nSetting MaxRecordDefault\\nQuerying repository with ids: afebee66-ed49-11ea-ac34-0242ac180003\\nRequest processed\\nWriting response.\\nLoading user configuration\\nrunning configuration {\\'metadata:main\\': {\\'identification_title\\': \\'GeoNode Catalogue\\', \\'identification_abstract\\': \\'GeoNode is an open source platform that facilitates the creation, sharing, and collaborative use of geospatial data\\', \\'identification_keywords\\': \\'sdi, catalogue, discovery, metadata, GeoNode\\', \\'identification_keywords_type\\': \\'theme\\', \\'identification_fees\\': \\'None\\', \\'identification_accessconstraints\\': \\'None\\', \\'provider_name\\': \\'Organization Name\\', \\'provider_url\\': \\'http://ec2-52-36-245-37.us-west-2.compute.amazonaws.com/\\', \\'contact_name\\': \\'Lastname, Firstname\\', \\'contact_position\\': \\'Position Title\\', \\'contact_address\\': \\'Mailing Address\\', \\'contact_city\\': \\'City\\', \\'contact_stateorprovince\\': \\'Administrative Area\\', \\'contact_postalcode\\': \\'Zip or Postal Code\\', \\'contact_country\\': \\'Country\\', \\'contact_phone\\': \\'+xx-xxx-xxx-xxxx\\', \\'contact_fax\\': \\'+xx-xxx-xxx-xxxx\\', \\'contact_email\\': \\'Email Address\\', \\'contact_url\\': \\'Contact URL\\', \\'contact_hours\\': \\'Hours of Service\\', \\'contact_instructions\\': \\'During hours of service. Off on weekends.\\', \\'contact_role\\': \\'pointOfContact\\'}, \\'metadata:inspire\\': {\\'enabled\\': \\'true\\', \\'languages_supported\\': \\'eng,gre\\', \\'default_language\\': \\'eng\\', \\'date\\': \\'YYYY-MM-DD\\', \\'gemet_keywords\\': \\'Utility and governmental services\\', \\'conformity_service\\': \\'notEvaluated\\', \\'contact_name\\': \\'Organization Name\\', \\'contact_email\\': \\'Email Address\\', \\'temp_extent\\': \\'YYYY-MM-DD/YYYY-MM-DD\\'}, \\'server\\': {\\'home\\': \\'.\\', \\'url\\': \\'http://ec2-52-36-245-37.us-west-2.compute.amazonaws.com/catalogue/csw\\', \\'encoding\\': \\'UTF-8\\', \\'language\\': \\'en\\', \\'maxrecords\\': \\'10\\', \\'pretty_print\\': \\'true\\', \\'domainquerytype\\': \\'range\\', \\'domaincounts\\': \\'true\\', \\'profiles\\': \\'apiso,ebrim\\'}, \\'repository\\': {\\'source\\': \\'geonode.catalogue.backends.pycsw_plugin.GeoNodeRepository\\', \\'filter\\': \\'is_published = true\\', \\'mappings\\': \\'/spcgeonode/geonode/catalogue/backends/pycsw_local_mappings.py\\'}}\\nSetting language\\nLoading custom repository mappings from /spcgeonode/geonode/catalogue/backends/pycsw_local_mappings.py\\nLoading outputschemas\\nSetting MaxRecordDefault\\nQuerying repository with ids: afebee66-ed49-11ea-ac34-0242ac180003\\nRequest processed\\nWriting response.\\nLoading user configuration\\nrunning configuration {\\'metadata:main\\': {\\'identification_title\\': \\'GeoNode Catalogue\\', \\'identification_abstract\\': \\'GeoNode is an open source platform that facilitates the creation, sharing, and collaborative use of geospatial data\\', \\'identification_keywords\\': \\'sdi, catalogue, discovery, metadata, GeoNode\\', \\'identification_keywords_type\\': \\'theme\\', \\'identification_fees\\': \\'None\\', \\'identification_accessconstraints\\': \\'None\\', \\'provider_name\\': \\'Organization Name\\', \\'provider_url\\': \\'http://ec2-52-36-245-37.us-west-2.compute.amazonaws.com/\\', \\'contact_name\\': \\'Lastname, Firstname\\', \\'contact_position\\': \\'Position Title\\', \\'contact_address\\': \\'Mailing Address\\', \\'contact_city\\': \\'City\\', \\'contact_stateorprovince\\': \\'Administrative Area\\', \\'contact_postalcode\\': \\'Zip or Postal Code\\', \\'contact_country\\': \\'Country\\', \\'contact_phone\\': \\'+xx-xxx-xxx-xxxx\\', \\'contact_fax\\': \\'+xx-xxx-xxx-xxxx\\', \\'contact_email\\': \\'Email Address\\', \\'contact_url\\': \\'Contact URL\\', \\'contact_hours\\': \\'Hours of Service\\', \\'contact_instructions\\': \\'During hours of service. Off on weekends.\\', \\'contact_role\\': \\'pointOfContact\\'}, \\'metadata:inspire\\': {\\'enabled\\': \\'true\\', \\'languages_supported\\': \\'eng,gre\\', \\'default_language\\': \\'eng\\', \\'date\\': \\'YYYY-MM-DD\\', \\'gemet_keywords\\': \\'Utility and governmental services\\', \\'conformity_service\\': \\'notEvaluated\\', \\'contact_name\\': \\'Organization Name\\', \\'contact_email\\': \\'Email Address\\', \\'temp_extent\\': \\'YYYY-MM-DD/YYYY-MM-DD\\'}, \\'server\\': {\\'home\\': \\'.\\', \\'url\\': \\'http://ec2-52-36-245-37.us-west-2.compute.amazonaws.com/catalogue/csw\\', \\'encoding\\': \\'UTF-8\\', \\'language\\': \\'en\\', \\'maxrecords\\': \\'10\\', \\'pretty_print\\': \\'true\\', \\'domainquerytype\\': \\'range\\', \\'domaincounts\\': \\'true\\', \\'profiles\\': \\'apiso,ebrim\\'}, \\'repository\\': {\\'source\\': \\'geonode.catalogue.backends.pycsw_plugin.GeoNodeRepository\\', \\'filter\\': \\'is_published = true\\', \\'mappings\\': \\'/spcgeonode/geonode/catalogue/backends/pycsw_local_mappings.py\\'}}\\nSetting language\\nLoading custom repository mappings from /spcgeonode/geonode/catalogue/backends/pycsw_local_mappings.py\\nLoading outputschemas\\nSetting MaxRecordDefault\\nQuerying repository with ids: afebee66-ed49-11ea-ac34-0242ac180003\\nRequest processed\\nWriting response.\\nException while publishing message: Traceback (most recent call last):\\n  File \"/spcgeonode/geonode/messaging/producer.py\", line 73, in sync_if_local_memory\\n    worker.run(timeout=broker_socket_timeout)\\n  File \"/usr/local/lib/python3.7/site-packages/kombu/mixins.py\", line 175, in run\\n    for _ in self.consume(limit=None, **kwargs):\\n  File \"/usr/local/lib/python3.7/site-packages/kombu/mixins.py\", line 197, in consume\\n    conn.drain_events(timeout=safety_interval)\\n  File \"/usr/local/lib/python3.7/site-packages/kombu/connection.py\", line 324, in drain_events\\n    return self.transport.drain_events(self.connection, **kwargs)\\n  File \"/usr/local/lib/python3.7/site-packages/kombu/transport/virtual/base.py\", line 963, in drain_events\\n    get(self._deliver, timeout=timeout)\\n  File \"/usr/local/lib/python3.7/site-packages/kombu/utils/scheduling.py\", line 56, in get\\n    return self.fun(resource, callback, **kwargs)\\n  File \"/usr/local/lib/python3.7/site-packages/kombu/transport/virtual/base.py\", line 1001, in _drain_channel\\n    return channel.drain_events(callback=callback, timeout=timeout)\\n  File \"/usr/local/lib/python3.7/site-packages/kombu/transport/virtual/base.py\", line 745, in drain_events\\n    return self._poll(self.cycle, callback, timeout=timeout)\\n  File \"/usr/local/lib/python3.7/site-packages/kombu/transport/virtual/base.py\", line 402, in _poll\\n    return cycle.get(callback)\\n  File \"/usr/local/lib/python3.7/site-packages/kombu/utils/scheduling.py\", line 56, in get\\n    return self.fun(resource, callback, **kwargs)\\n  File \"/usr/local/lib/python3.7/site-packages/kombu/transport/virtual/base.py\", line 406, in _get_and_deliver\\n    callback(message, queue)\\n  File \"/usr/local/lib/python3.7/site-packages/kombu/transport/virtual/base.py\", line 983, in _deliver\\n    callback(message)\\n  File \"/usr/local/lib/python3.7/site-packages/kombu/transport/virtual/base.py\", line 633, in _callback\\n    return callback(message)\\n  File \"/usr/local/lib/python3.7/site-packages/kombu/messaging.py\", line 624, in _receive_callback\\n    return on_m(message) if on_m else self.receive(decoded, message)\\n  File \"/usr/local/lib/python3.7/site-packages/kombu/messaging.py\", line 590, in receive\\n    [callback(body, message) for callback in callbacks]\\n  File \"/usr/local/lib/python3.7/site-packages/kombu/messaging.py\", line 590, in <listcomp>\\n    [callback(body, message) for callback in callbacks]\\n  File \"/spcgeonode/geonode/messaging/consumer.py\", line 110, in on_geoserver_messages\\n    geoserver_post_save_local(layer)\\n  File \"/spcgeonode/geonode/decorators.py\", line 57, in wrapper\\n    return func(*args, **kwargs)\\n  File \"/spcgeonode/geonode/geoserver/signals.py\", line 187, in geoserver_post_save_local\\n    while not gs_resource and _tries < _max_tries:\\nTypeError: \\'<\\' not supported between instances of \\'int\\' and \\'NoneType\\'\\n\\nException while publishing message: Traceback (most recent call last):\\n  File \"/spcgeonode/geonode/messaging/producer.py\", line 73, in sync_if_local_memory\\n    worker.run(timeout=broker_socket_timeout)\\n  File \"/usr/local/lib/python3.7/site-packages/kombu/mixins.py\", line 175, in run\\n    for _ in self.consume(limit=None, **kwargs):\\n  File \"/usr/local/lib/python3.7/site-packages/kombu/mixins.py\", line 197, in consume\\n    conn.drain_events(timeout=safety_interval)\\n  File \"/usr/local/lib/python3.7/site-packages/kombu/connection.py\", line 324, in drain_events\\n    return self.transport.drain_events(self.connection, **kwargs)\\n  File \"/usr/local/lib/python3.7/site-packages/kombu/transport/virtual/base.py\", line 963, in drain_events\\n    get(self._deliver, timeout=timeout)\\n  File \"/usr/local/lib/python3.7/site-packages/kombu/utils/scheduling.py\", line 56, in get\\n    return self.fun(resource, callback, **kwargs)\\n  File \"/usr/local/lib/python3.7/site-packages/kombu/transport/virtual/base.py\", line 1001, in _drain_channel\\n    return channel.drain_events(callback=callback, timeout=timeout)\\n  File \"/usr/local/lib/python3.7/site-packages/kombu/transport/virtual/base.py\", line 745, in drain_events\\n    return self._poll(self.cycle, callback, timeout=timeout)\\n  File \"/usr/local/lib/python3.7/site-packages/kombu/transport/virtual/base.py\", line 402, in _poll\\n    return cycle.get(callback)\\n  File \"/usr/local/lib/python3.7/site-packages/kombu/utils/scheduling.py\", line 56, in get\\n    return self.fun(resource, callback, **kwargs)\\n  File \"/usr/local/lib/python3.7/site-packages/kombu/transport/virtual/base.py\", line 406, in _get_and_deliver\\n    callback(message, queue)\\n  File \"/usr/local/lib/python3.7/site-packages/kombu/transport/virtual/base.py\", line 983, in _deliver\\n    callback(message)\\n  File \"/usr/local/lib/python3.7/site-packages/kombu/transport/virtual/base.py\", line 633, in _callback\\n    return callback(message)\\n  File \"/usr/local/lib/python3.7/site-packages/kombu/messaging.py\", line 624, in _receive_callback\\n    return on_m(message) if on_m else self.receive(decoded, message)\\n  File \"/usr/local/lib/python3.7/site-packages/kombu/messaging.py\", line 590, in receive\\n    [callback(body, message) for callback in callbacks]\\n  File \"/usr/local/lib/python3.7/site-packages/kombu/messaging.py\", line 590, in <listcomp>\\n    [callback(body, message) for callback in callbacks]\\n  File \"/spcgeonode/geonode/messaging/consumer.py\", line 110, in on_geoserver_messages\\n    geoserver_post_save_local(layer)\\n  File \"/spcgeonode/geonode/decorators.py\", line 57, in wrapper\\n    return func(*args, **kwargs)\\n  File \"/spcgeonode/geonode/geoserver/signals.py\", line 187, in geoserver_post_save_local\\n    while not gs_resource and _tries < _max_tries:\\nTypeError: \\'<\\' not supported between instances of \\'int\\' and \\'NoneType\\'\\n\\nVerifying that GeoNode is running ...\\n\\nFound 1 potential layers.\\n\\n[created] Layer for \\'/shared_volume/land_cover_results/raster_landsat8_chiapas_madmex_31_clases_pixel_wise_via_kale_54_-38_processed_for_geonode.tif\\' (1/1)\\n\\n\\nDetailed report of failures:\\n\\n\\nFinished processing 1 layers in 10.52 seconds.\\n\\n1 Created layers\\n0 Updated layers\\n0 Skipped layers\\n0 Failed layers\\n10.519511 seconds per layer\\n'\n"
     ]
    }
   ],
   "source": [
    "print(result_import)"
   ]
  },
  {
   "cell_type": "code",
   "execution_count": 16,
   "metadata": {},
   "outputs": [],
   "source": [
    "os.remove(output_filename)"
   ]
  },
  {
   "cell_type": "markdown",
   "metadata": {},
   "source": [
    "Maybe check this one:\n",
    "\n",
    "https://github.com/CONABIO/geonode/issues/12\n",
    "\n",
    "and use: \n",
    "\n",
    "https://github.com/CONABIO/geonode/blob/master/styles/madmex_31_classes.sld"
   ]
  }
 ],
 "metadata": {
  "kernelspec": {
   "display_name": "Python 3",
   "language": "python",
   "name": "python3"
  },
  "kubeflow_notebook": {
   "docker_image": "",
   "experiment": {
    "id": "",
    "name": ""
   },
   "experiment_name": "",
   "pipeline_description": "",
   "pipeline_name": "",
   "volumes": []
  },
  "language_info": {
   "codemirror_mode": {
    "name": "ipython",
    "version": 3
   },
   "file_extension": ".py",
   "mimetype": "text/x-python",
   "name": "python",
   "nbconvert_exporter": "python",
   "pygments_lexer": "ipython3",
   "version": "3.6.9"
  }
 },
 "nbformat": 4,
 "nbformat_minor": 4
}
