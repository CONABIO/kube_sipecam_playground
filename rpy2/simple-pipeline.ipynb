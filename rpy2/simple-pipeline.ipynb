{
 "cells": [
  {
   "cell_type": "markdown",
   "metadata": {},
   "source": [
    "References:\n",
    "\n",
    "https://rpy2.github.io/doc/latest/html/notebooks.html\n",
    "https://rpy2.github.io/doc/latest/html/interactive.html\n",
    "https://rpy2.github.io/doc/latest/html/introduction.html\n",
    "https://rpy2.github.io/doc/v3.0.x/html/interactive.html#module-rpy2.ipython.rmagic\n",
    "\n",
    "https://github.com/binder-examples/multi-language-demo/blob/master/23-Cross-Language-Integration.ipynb\n",
    "\n",
    "https://blog.jupyter.org/i-python-you-r-we-julia-baf064ca1fb6\n",
    "\n",
    "https://rpy2.github.io/\n",
    "\n",
    "https://github.com/rpy2/rpy2\n",
    "\n",
    "https://stackoverflow.com/questions/55841165/share-variables-between-r-and-python-in-jupyternotebook"
   ]
  },
  {
   "cell_type": "code",
   "execution_count": 2,
   "metadata": {
    "tags": [
     "imports"
    ]
   },
   "outputs": [],
   "source": [
    "from IPython import get_ipython\n",
    "ipython = get_ipython()"
   ]
  },
  {
   "cell_type": "code",
   "execution_count": 3,
   "metadata": {
    "tags": [
     "block:setvar"
    ]
   },
   "outputs": [],
   "source": [
    "ipython.magic('load_ext rpy2.ipython')\n",
    "ipython.magic(\"\"\"R library(Matrix);\n",
    "              a <- 1\n",
    "              \"\"\")\n",
    "a = ipython.magic(\"Rget a\")\n",
    "print(a)"
   ]
  },
  {
   "cell_type": "code",
   "execution_count": 4,
   "metadata": {
    "tags": [
     "block:printresult",
     "prev:setvar"
    ]
   },
   "outputs": [
    {
     "name": "stdout",
     "output_type": "stream",
     "text": [
      "The rpy2.ipython extension is already loaded. To reload it, use:\n",
      "  %reload_ext rpy2.ipython\n",
      "[1] 3\n"
     ]
    },
    {
     "data": {
      "text/plain": [
       "array([3.])"
      ]
     },
     "execution_count": 4,
     "metadata": {},
     "output_type": "execute_result"
    }
   ],
   "source": [
    "print(a)\n",
    "ipython.magic('load_ext rpy2.ipython')\n",
    "ipython.magic(\"Rpush a\")\n",
    "ipython.magic(\"R b <- 2; print(a+b)\")"
   ]
  }
 ],
 "metadata": {
  "kernelspec": {
   "display_name": "Python 3",
   "language": "python",
   "name": "python3"
  },
  "kubeflow_notebook": {
   "autosnapshot": false,
   "docker_image": "sipecam/rpy2-kale:0.5.0",
   "experiment": {
    "id": "new",
    "name": "myrpy2simpleexp"
   },
   "experiment_name": "myrpy2simpleexp",
   "katib_metadata": {
    "algorithm": {
     "algorithmName": "grid"
    },
    "maxFailedTrialCount": 3,
    "maxTrialCount": 12,
    "objective": {
     "objectiveMetricName": "",
     "type": "minimize"
    },
    "parallelTrialCount": 3,
    "parameters": []
   },
   "katib_run": false,
   "pipeline_description": "simple pipeline using rpy2",
   "pipeline_name": "rpy2-simple-pipeline",
   "snapshot_volumes": false,
   "steps_defaults": [],
   "volumes": [
    {
     "annotations": [],
     "mount_point": "/shared_volume/",
     "name": "hostpath-pvc",
     "size": 1,
     "size_type": "Gi",
     "snapshot": false,
     "snapshot_name": "",
     "type": "pvc"
    }
   ]
  },
  "language_info": {
   "codemirror_mode": {
    "name": "ipython",
    "version": 3
   },
   "file_extension": ".py",
   "mimetype": "text/x-python",
   "name": "python",
   "nbconvert_exporter": "python",
   "pygments_lexer": "ipython3",
   "version": "3.8.5"
  }
 },
 "nbformat": 4,
 "nbformat_minor": 4
}
